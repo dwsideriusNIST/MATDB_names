{
 "cells": [
  {
   "cell_type": "code",
   "execution_count": 96,
   "metadata": {},
   "outputs": [],
   "source": [
    "import json\n",
    "import requests\n",
    "import pprint\n",
    "import os, sys, shutil\n",
    "import pandas as pd"
   ]
  },
  {
   "cell_type": "code",
   "execution_count": 97,
   "metadata": {},
   "outputs": [],
   "source": [
    "# API Interface\n",
    "\n",
    "#  Host\n",
    "#API_host = \"http://dirac.nist.gov/adsorption.nist.gov\"\n",
    "API_host = \"https://adsorption.nist.gov\"\n",
    "\n",
    "#  API Function\n",
    "API_call = \"/matdb/api/materials.json\"\n",
    "\n",
    "#  Suppress Google Analytics Tracking\n",
    "#tracking_key = \"\"\n",
    "tracking_key = \"&k=dontrackmeplease\"\n",
    "\n",
    "#  Assemble the HTTP request\n",
    "URL = API_host + API_call + tracking_key\n",
    "\n",
    "#  Call API and load results into a dictionary\n",
    "materials = json.loads(requests.get(URL).content)\n",
    "\n",
    "#  Basic Output\n",
    "#print(len(materials))\n",
    "#pprint.pprint(materials[0])\n",
    "#for material in materials[0:6]:\n",
    "#    pprint.pprint(material)"
   ]
  },
  {
   "cell_type": "code",
   "execution_count": 98,
   "metadata": {},
   "outputs": [],
   "source": [
    "#  Construct a synonym table\n",
    "hashes = []\n",
    "synonyms = []\n",
    "\n",
    "#i = 0\n",
    "for material in materials:\n",
    "    hashes.append(material[\"hashkey\"])\n",
    "    synonyms.append(material[\"name\"])\n",
    "    for synonym in material[\"synonyms\"]:\n",
    "        hashes.append(material[\"hashkey\"])\n",
    "        synonyms.append(synonym)\n",
    "\n",
    "    #i+=1\n",
    "    #if i == 5: break\n",
    "    #if len(material[\"synonyms\"]) > 2: break\n",
    "\n",
    "#for (hash,synonym) in zip(hashes,synonyms):\n",
    "#    print(hash, synonym)\n",
    "#print(len(hashes))\n",
    "#print(len(synonyms))\n",
    "\n",
    "#  Enter the results into a Pandas DataFrame for easier manipulation\n",
    "materials_df = pd.DataFrame({ \"hashkey\": hashes, \"synonym\": synonyms })"
   ]
  },
  {
   "cell_type": "code",
   "execution_count": 99,
   "metadata": {
    "scrolled": false
   },
   "outputs": [
    {
     "data": {
      "text/html": [
       "<div>\n",
       "<style scoped>\n",
       "    .dataframe tbody tr th:only-of-type {\n",
       "        vertical-align: middle;\n",
       "    }\n",
       "\n",
       "    .dataframe tbody tr th {\n",
       "        vertical-align: top;\n",
       "    }\n",
       "\n",
       "    .dataframe thead th {\n",
       "        text-align: right;\n",
       "    }\n",
       "</style>\n",
       "<table border=\"1\" class=\"dataframe\">\n",
       "  <thead>\n",
       "    <tr style=\"text-align: right;\">\n",
       "      <th></th>\n",
       "      <th>hashkey</th>\n",
       "      <th>synonym</th>\n",
       "    </tr>\n",
       "  </thead>\n",
       "  <tbody>\n",
       "    <tr>\n",
       "      <th>0</th>\n",
       "      <td>NIST-MATDB-70f6c5cfd34cb7fca06b59d6350f5303</td>\n",
       "      <td>((C4H11)2NH2)2Co3(hfbba)4</td>\n",
       "    </tr>\n",
       "    <tr>\n",
       "      <th>1</th>\n",
       "      <td>NIST-MATDB-895aa514507d242d5062b7a2742cea92</td>\n",
       "      <td>((Me2NH2)In(NH2BDC)2)</td>\n",
       "    </tr>\n",
       "    <tr>\n",
       "      <th>2</th>\n",
       "      <td>NIST-MATDB-5e3af1000c584273e5f95543ff0a5113</td>\n",
       "      <td>(Be-BTB)</td>\n",
       "    </tr>\n",
       "    <tr>\n",
       "      <th>3</th>\n",
       "      <td>NIST-MATDB-5d3d5a9b155b412206b0bbfd0bc76fb3</td>\n",
       "      <td>(C2H5)2dtoaCu</td>\n",
       "    </tr>\n",
       "    <tr>\n",
       "      <th>4</th>\n",
       "      <td>NIST-MATDB-545cd11abec564fcc3b346fdf97894c7</td>\n",
       "      <td>(C4B2H4(COOH)2Li2)</td>\n",
       "    </tr>\n",
       "    <tr>\n",
       "      <th>5</th>\n",
       "      <td>NIST-MATDB-de465fe168bf0755c57cca924412bbe6</td>\n",
       "      <td>(C5H14N2)[(VO)3(AsO4)(HAsO4)2(OH)]*3H2O</td>\n",
       "    </tr>\n",
       "    <tr>\n",
       "      <th>6</th>\n",
       "      <td>NIST-MATDB-96551cec3480eda20771d3d9b7c6231b</td>\n",
       "      <td>(C6H11NH3)2Mn3(hfbba)4</td>\n",
       "    </tr>\n",
       "    <tr>\n",
       "      <th>7</th>\n",
       "      <td>NIST-MATDB-f7736d41443a15671f5e8d0df925a42c</td>\n",
       "      <td>(Cd(im)2)</td>\n",
       "    </tr>\n",
       "    <tr>\n",
       "      <th>8</th>\n",
       "      <td>NIST-MATDB-36ecd9f5a13fc408dc22098d7cd838a3</td>\n",
       "      <td>(CH3)2-MIL-53</td>\n",
       "    </tr>\n",
       "    <tr>\n",
       "      <th>9</th>\n",
       "      <td>NIST-MATDB-05f26bb684c88e29819021cf451b60e2</td>\n",
       "      <td>(CH3)2-MIL-53(Al)</td>\n",
       "    </tr>\n",
       "    <tr>\n",
       "      <th>10</th>\n",
       "      <td>NIST-MATDB-705be57511587b5cf26d1a79e4a8dbfd</td>\n",
       "      <td>(CH3)2CO</td>\n",
       "    </tr>\n",
       "    <tr>\n",
       "      <th>11</th>\n",
       "      <td>NIST-MATDB-388cc8bc1b7ae9f6af22eb91a0a0c533</td>\n",
       "      <td>(Cr)-MIL-101-SO3Ag</td>\n",
       "    </tr>\n",
       "    <tr>\n",
       "      <th>12</th>\n",
       "      <td>NIST-MATDB-b142150d6b54a92cea0bc0d437973f06</td>\n",
       "      <td>(Cu(db))</td>\n",
       "    </tr>\n",
       "    <tr>\n",
       "      <th>13</th>\n",
       "      <td>NIST-MATDB-edcc9fccf27cc5489a4652d9fe136ee2</td>\n",
       "      <td>(Cu-BTC-DTG-0.92)</td>\n",
       "    </tr>\n",
       "    <tr>\n",
       "      <th>14</th>\n",
       "      <td>NIST-MATDB-0f3a36a9b3da937a870cbecbbfa53fe1</td>\n",
       "      <td>(Cu-BTC-DTG-1.52)</td>\n",
       "    </tr>\n",
       "    <tr>\n",
       "      <th>15</th>\n",
       "      <td>NIST-MATDB-20f44908c68c8c8b88f8e6ccac3ddc11</td>\n",
       "      <td>(Cu-BTCDTG-0.18)</td>\n",
       "    </tr>\n",
       "    <tr>\n",
       "      <th>16</th>\n",
       "      <td>NIST-MATDB-0796a426ff4acaca5b2f38ddcda502a4</td>\n",
       "      <td>(Cu6(H2O)6(tatb)4*DMA*12H2O)</td>\n",
       "    </tr>\n",
       "    <tr>\n",
       "      <th>17</th>\n",
       "      <td>NIST-MATDB-cbe62e246612909e69a203d53aad0286</td>\n",
       "      <td>(CuC8H10O6P2)*(H2O)x</td>\n",
       "    </tr>\n",
       "    <tr>\n",
       "      <th>18</th>\n",
       "      <td>NIST-MATDB-698d87ea3dc222af53aca3746f3227d3</td>\n",
       "      <td>(Et2NH2)3[(Cu4Cl)3(TTCA)8]</td>\n",
       "    </tr>\n",
       "    <tr>\n",
       "      <th>19</th>\n",
       "      <td>NIST-MATDB-aff80a2ff66e5982846a01ae3ce36d1e</td>\n",
       "      <td>(H2dab)[Zn2(ox)3]</td>\n",
       "    </tr>\n",
       "    <tr>\n",
       "      <th>20</th>\n",
       "      <td>NIST-MATDB-b5cc9ee722145391f636805012aea049</td>\n",
       "      <td>(H2tdpip)Co3(hfbba)4</td>\n",
       "    </tr>\n",
       "    <tr>\n",
       "      <th>21</th>\n",
       "      <td>NIST-MATDB-ee36b2a9095ec91288836a44edfdc823</td>\n",
       "      <td>(H3O)4[Ni6(pi3-O)2(pi2-OSC2H6)2(SO4)2(TATB)8/3...</td>\n",
       "    </tr>\n",
       "    <tr>\n",
       "      <th>22</th>\n",
       "      <td>NIST-MATDB-694b3058aa659e37dde90bb32da581e4</td>\n",
       "      <td>(Hbzza)2]*H2O*C2H5OH</td>\n",
       "    </tr>\n",
       "    <tr>\n",
       "      <th>23</th>\n",
       "      <td>NIST-MATDB-366fdecd24bef837eb0cae569bacf316</td>\n",
       "      <td>(HF)2-CO2-Y</td>\n",
       "    </tr>\n",
       "    <tr>\n",
       "      <th>24</th>\n",
       "      <td>NIST-MATDB-5c84285efa1b75d2cf3510e6ab66cfc6</td>\n",
       "      <td>(HOC2H4)2dtoaCu</td>\n",
       "    </tr>\n",
       "    <tr>\n",
       "      <th>25</th>\n",
       "      <td>NIST-MATDB-e0f1ea383b8b290ca83fb4c214ff9cf0</td>\n",
       "      <td>(In3O)(OH)(ADC)2(IN)2*4.67H2O</td>\n",
       "    </tr>\n",
       "    <tr>\n",
       "      <th>26</th>\n",
       "      <td>NIST-MATDB-f194003c556f8f57ac38ece04b86c3b6</td>\n",
       "      <td>(In3O)(OH)(ADC)2(NH2IN)2*2.67H2O</td>\n",
       "    </tr>\n",
       "    <tr>\n",
       "      <th>27</th>\n",
       "      <td>NIST-MATDB-8df803a1cc1143596b41c3b1e86b0e89</td>\n",
       "      <td>(LiCl)[Ni(bdc)(ted)0.5] t=100</td>\n",
       "    </tr>\n",
       "    <tr>\n",
       "      <th>28</th>\n",
       "      <td>NIST-MATDB-3f5113eb12c69c03ce3ce319d65edc5d</td>\n",
       "      <td>(LiCl)[Ni(bdc)(ted)0.5] t=15</td>\n",
       "    </tr>\n",
       "    <tr>\n",
       "      <th>29</th>\n",
       "      <td>NIST-MATDB-25536b80165e8b2d1525a255abab835c</td>\n",
       "      <td>(LiCl)[Zn(bdc)(ted)0.5]</td>\n",
       "    </tr>\n",
       "    <tr>\n",
       "      <th>...</th>\n",
       "      <td>...</td>\n",
       "      <td>...</td>\n",
       "    </tr>\n",
       "    <tr>\n",
       "      <th>6004</th>\n",
       "      <td>NIST-MATDB-aa573a31c8c658f678703a20621a7f35</td>\n",
       "      <td>{[Zn(INAIP)(DMF)]*0.5DMF*4H2O}n</td>\n",
       "    </tr>\n",
       "    <tr>\n",
       "      <th>6005</th>\n",
       "      <td>NIST-MATDB-5bf72505280aff7e75082eb6d9cc864f</td>\n",
       "      <td>{[Zn(l-pzdc)(NH3)2(H2O)]*H2O}</td>\n",
       "    </tr>\n",
       "    <tr>\n",
       "      <th>6006</th>\n",
       "      <td>NIST-MATDB-46601e4a74a6059d50bb1e513c566999</td>\n",
       "      <td>{[Zn(m4-TCNQ-TCNQ)bpy]*1.5benzene}n</td>\n",
       "    </tr>\n",
       "    <tr>\n",
       "      <th>6007</th>\n",
       "      <td>NIST-MATDB-9f6d7a652559ba5497cfdcd8ace33578</td>\n",
       "      <td>{[Zn(NO2-ip)(dpndi)]*(DMF)1.5(MeOH)1.5</td>\n",
       "    </tr>\n",
       "    <tr>\n",
       "      <th>6008</th>\n",
       "      <td>NIST-MATDB-caa4b8e14ed8e81999fdc3c216b3c927</td>\n",
       "      <td>{[Zn(NO2-ip)-(bpy)]*(DMF)0.5(MeOH)0.5}</td>\n",
       "    </tr>\n",
       "    <tr>\n",
       "      <th>6009</th>\n",
       "      <td>NIST-MATDB-bae9fb9227549d5e43783dd494a63bfb</td>\n",
       "      <td>{[Zn(oxo-pba)2(bpy)]4H2O}n</td>\n",
       "    </tr>\n",
       "    <tr>\n",
       "      <th>6010</th>\n",
       "      <td>NIST-MATDB-5c42eb2759c29c4f9ac507fe3d9e0b8e</td>\n",
       "      <td>{[Zn(ppmdc)(H2O)2]*H2O}</td>\n",
       "    </tr>\n",
       "    <tr>\n",
       "      <th>6011</th>\n",
       "      <td>NIST-MATDB-fd4118ab9a5243d679099317a1763c3c</td>\n",
       "      <td>{[Zn-(C10H2O8)0.5(C10S2N2H8)]*5H2O]}n</td>\n",
       "    </tr>\n",
       "    <tr>\n",
       "      <th>6012</th>\n",
       "      <td>NIST-MATDB-901f5824839e50316a0fab04e514019d</td>\n",
       "      <td>{[Zn2(bpdc)2(azpy)]*2H2O*2DMF}n</td>\n",
       "    </tr>\n",
       "    <tr>\n",
       "      <th>6013</th>\n",
       "      <td>NIST-MATDB-795bce667fe8b1c7ca3e1fe7a4aa249b</td>\n",
       "      <td>{[Zn2(bpdc)2(azpy)]*2H2O*2DMF}n Nanoscale</td>\n",
       "    </tr>\n",
       "    <tr>\n",
       "      <th>6014</th>\n",
       "      <td>NIST-MATDB-3e0c919108f2099aaaaa861b52fe55d7</td>\n",
       "      <td>{[Zn2(btdc)2(bpy)]*xS}n</td>\n",
       "    </tr>\n",
       "    <tr>\n",
       "      <th>6015</th>\n",
       "      <td>NIST-MATDB-6bd85f6a046067ede48b5d5805fbbfea</td>\n",
       "      <td>{[Zn2(btdc)2-(bpy)]*yS}n</td>\n",
       "    </tr>\n",
       "    <tr>\n",
       "      <th>6016</th>\n",
       "      <td>NIST-MATDB-583d697c0afbca86fe273ecf518cf711</td>\n",
       "      <td>{[Zn2(H2dht)(dht)0.5)(azpy)0.5]}</td>\n",
       "    </tr>\n",
       "    <tr>\n",
       "      <th>6017</th>\n",
       "      <td>NIST-MATDB-503ae9b0861c6ff30060a346b362de99</td>\n",
       "      <td>{[Zn2(L)(OH)]*2DMF*H2O}n</td>\n",
       "    </tr>\n",
       "    <tr>\n",
       "      <th>6018</th>\n",
       "      <td>NIST-MATDB-69419d0a7094245457084eeded061d35</td>\n",
       "      <td>{[Zn2(MTB)(H2O)2]*3H2O*3DMF}n</td>\n",
       "    </tr>\n",
       "    <tr>\n",
       "      <th>6019</th>\n",
       "      <td>NIST-MATDB-ebb3008a7094797afd3f49ea00b3d051</td>\n",
       "      <td>{[Zn2(OH)(AZPY)(BDC)1.5]*H2O}n</td>\n",
       "    </tr>\n",
       "    <tr>\n",
       "      <th>6020</th>\n",
       "      <td>NIST-MATDB-a51fd4c244f3f7dfc1d39ea0f244fc82</td>\n",
       "      <td>{[Zn2BIB1.5SPA(OH)(H2O)]*1.75H2O}n</td>\n",
       "    </tr>\n",
       "    <tr>\n",
       "      <th>6021</th>\n",
       "      <td>NIST-MATDB-7685b247ca72329187e1b8fe6723bbf4</td>\n",
       "      <td>{[Zn3(bpdc)3(azpy)]*4H2O*2DEF}n</td>\n",
       "    </tr>\n",
       "    <tr>\n",
       "      <th>6022</th>\n",
       "      <td>NIST-MATDB-75522d25e38f40cda94a81c7cf09d755</td>\n",
       "      <td>{[Zn3(DLlac)2(pybz)2]*2.5DMF}n</td>\n",
       "    </tr>\n",
       "    <tr>\n",
       "      <th>6023</th>\n",
       "      <td>NIST-MATDB-5221a8469d6589c0a439bc47fbac5494</td>\n",
       "      <td>{[Zn3(L)3(DPB)1.5]-6DMF-H20}n</td>\n",
       "    </tr>\n",
       "    <tr>\n",
       "      <th>6024</th>\n",
       "      <td>NIST-MATDB-f9c6837d761e6484fae50e9f6c126c99</td>\n",
       "      <td>{[Zn3(ntb)2-(EtOH)2]*4EtOH}n</td>\n",
       "    </tr>\n",
       "    <tr>\n",
       "      <th>6025</th>\n",
       "      <td>NIST-MATDB-b79f378760f114ca0c4788cf5c9c00f2</td>\n",
       "      <td>{[Zn3(ptp)3](DMF)2-(H2O)}</td>\n",
       "    </tr>\n",
       "    <tr>\n",
       "      <th>6026</th>\n",
       "      <td>NIST-MATDB-ba9c4127bbebd4af0e48e0429044657a</td>\n",
       "      <td>{[Zn4(BDC)4(BPDA)4]*5DMF*3H2O}</td>\n",
       "    </tr>\n",
       "    <tr>\n",
       "      <th>6027</th>\n",
       "      <td>NIST-MATDB-7fc3d1003d03fdeb8a819098fb21a675</td>\n",
       "      <td>{[Zn4(bpydb)3(datz)2(H2O)](DMF)4(EtOH)5(H2O)8}n</td>\n",
       "    </tr>\n",
       "    <tr>\n",
       "      <th>6028</th>\n",
       "      <td>NIST-MATDB-6fb238246366535807268f8df02ede00</td>\n",
       "      <td>{[Zn4O(bfbpdc)3-(bpy)0.5(H2O)]*(3DMF)(H2O)}n</td>\n",
       "    </tr>\n",
       "    <tr>\n",
       "      <th>6029</th>\n",
       "      <td>NIST-MATDB-611691b0f1619044524da6a6df5a69c5</td>\n",
       "      <td>{[Zn4O(L)3(DMF)2] xG}n</td>\n",
       "    </tr>\n",
       "    <tr>\n",
       "      <th>6030</th>\n",
       "      <td>NIST-MATDB-5ac4b4c4a8c7d9aac288b2fe0c8698bb</td>\n",
       "      <td>{[ZnL(HCO2)(H2O)]*DMF}</td>\n",
       "    </tr>\n",
       "    <tr>\n",
       "      <th>6031</th>\n",
       "      <td>NIST-MATDB-deb4dc3458c9397eb8e205aec27a2969</td>\n",
       "      <td>{[ZnL(HCO2)]*DMF*H2O}</td>\n",
       "    </tr>\n",
       "    <tr>\n",
       "      <th>6032</th>\n",
       "      <td>NIST-MATDB-239be5c4611d8c92367f423368110c61</td>\n",
       "      <td>{[{Dy4(mu2-OH)}3(hett)8]*9NO3*6H2O}</td>\n",
       "    </tr>\n",
       "    <tr>\n",
       "      <th>6033</th>\n",
       "      <td>NIST-MATDB-7af0cd0c0ca33e0be282b0ddcca7e893</td>\n",
       "      <td>{[{Nd4(mu2-OH)}3(hett)8]*9NO3*6H2O}</td>\n",
       "    </tr>\n",
       "  </tbody>\n",
       "</table>\n",
       "<p>6034 rows × 2 columns</p>\n",
       "</div>"
      ],
      "text/plain": [
       "                                          hashkey  \\\n",
       "0     NIST-MATDB-70f6c5cfd34cb7fca06b59d6350f5303   \n",
       "1     NIST-MATDB-895aa514507d242d5062b7a2742cea92   \n",
       "2     NIST-MATDB-5e3af1000c584273e5f95543ff0a5113   \n",
       "3     NIST-MATDB-5d3d5a9b155b412206b0bbfd0bc76fb3   \n",
       "4     NIST-MATDB-545cd11abec564fcc3b346fdf97894c7   \n",
       "5     NIST-MATDB-de465fe168bf0755c57cca924412bbe6   \n",
       "6     NIST-MATDB-96551cec3480eda20771d3d9b7c6231b   \n",
       "7     NIST-MATDB-f7736d41443a15671f5e8d0df925a42c   \n",
       "8     NIST-MATDB-36ecd9f5a13fc408dc22098d7cd838a3   \n",
       "9     NIST-MATDB-05f26bb684c88e29819021cf451b60e2   \n",
       "10    NIST-MATDB-705be57511587b5cf26d1a79e4a8dbfd   \n",
       "11    NIST-MATDB-388cc8bc1b7ae9f6af22eb91a0a0c533   \n",
       "12    NIST-MATDB-b142150d6b54a92cea0bc0d437973f06   \n",
       "13    NIST-MATDB-edcc9fccf27cc5489a4652d9fe136ee2   \n",
       "14    NIST-MATDB-0f3a36a9b3da937a870cbecbbfa53fe1   \n",
       "15    NIST-MATDB-20f44908c68c8c8b88f8e6ccac3ddc11   \n",
       "16    NIST-MATDB-0796a426ff4acaca5b2f38ddcda502a4   \n",
       "17    NIST-MATDB-cbe62e246612909e69a203d53aad0286   \n",
       "18    NIST-MATDB-698d87ea3dc222af53aca3746f3227d3   \n",
       "19    NIST-MATDB-aff80a2ff66e5982846a01ae3ce36d1e   \n",
       "20    NIST-MATDB-b5cc9ee722145391f636805012aea049   \n",
       "21    NIST-MATDB-ee36b2a9095ec91288836a44edfdc823   \n",
       "22    NIST-MATDB-694b3058aa659e37dde90bb32da581e4   \n",
       "23    NIST-MATDB-366fdecd24bef837eb0cae569bacf316   \n",
       "24    NIST-MATDB-5c84285efa1b75d2cf3510e6ab66cfc6   \n",
       "25    NIST-MATDB-e0f1ea383b8b290ca83fb4c214ff9cf0   \n",
       "26    NIST-MATDB-f194003c556f8f57ac38ece04b86c3b6   \n",
       "27    NIST-MATDB-8df803a1cc1143596b41c3b1e86b0e89   \n",
       "28    NIST-MATDB-3f5113eb12c69c03ce3ce319d65edc5d   \n",
       "29    NIST-MATDB-25536b80165e8b2d1525a255abab835c   \n",
       "...                                           ...   \n",
       "6004  NIST-MATDB-aa573a31c8c658f678703a20621a7f35   \n",
       "6005  NIST-MATDB-5bf72505280aff7e75082eb6d9cc864f   \n",
       "6006  NIST-MATDB-46601e4a74a6059d50bb1e513c566999   \n",
       "6007  NIST-MATDB-9f6d7a652559ba5497cfdcd8ace33578   \n",
       "6008  NIST-MATDB-caa4b8e14ed8e81999fdc3c216b3c927   \n",
       "6009  NIST-MATDB-bae9fb9227549d5e43783dd494a63bfb   \n",
       "6010  NIST-MATDB-5c42eb2759c29c4f9ac507fe3d9e0b8e   \n",
       "6011  NIST-MATDB-fd4118ab9a5243d679099317a1763c3c   \n",
       "6012  NIST-MATDB-901f5824839e50316a0fab04e514019d   \n",
       "6013  NIST-MATDB-795bce667fe8b1c7ca3e1fe7a4aa249b   \n",
       "6014  NIST-MATDB-3e0c919108f2099aaaaa861b52fe55d7   \n",
       "6015  NIST-MATDB-6bd85f6a046067ede48b5d5805fbbfea   \n",
       "6016  NIST-MATDB-583d697c0afbca86fe273ecf518cf711   \n",
       "6017  NIST-MATDB-503ae9b0861c6ff30060a346b362de99   \n",
       "6018  NIST-MATDB-69419d0a7094245457084eeded061d35   \n",
       "6019  NIST-MATDB-ebb3008a7094797afd3f49ea00b3d051   \n",
       "6020  NIST-MATDB-a51fd4c244f3f7dfc1d39ea0f244fc82   \n",
       "6021  NIST-MATDB-7685b247ca72329187e1b8fe6723bbf4   \n",
       "6022  NIST-MATDB-75522d25e38f40cda94a81c7cf09d755   \n",
       "6023  NIST-MATDB-5221a8469d6589c0a439bc47fbac5494   \n",
       "6024  NIST-MATDB-f9c6837d761e6484fae50e9f6c126c99   \n",
       "6025  NIST-MATDB-b79f378760f114ca0c4788cf5c9c00f2   \n",
       "6026  NIST-MATDB-ba9c4127bbebd4af0e48e0429044657a   \n",
       "6027  NIST-MATDB-7fc3d1003d03fdeb8a819098fb21a675   \n",
       "6028  NIST-MATDB-6fb238246366535807268f8df02ede00   \n",
       "6029  NIST-MATDB-611691b0f1619044524da6a6df5a69c5   \n",
       "6030  NIST-MATDB-5ac4b4c4a8c7d9aac288b2fe0c8698bb   \n",
       "6031  NIST-MATDB-deb4dc3458c9397eb8e205aec27a2969   \n",
       "6032  NIST-MATDB-239be5c4611d8c92367f423368110c61   \n",
       "6033  NIST-MATDB-7af0cd0c0ca33e0be282b0ddcca7e893   \n",
       "\n",
       "                                                synonym  \n",
       "0                             ((C4H11)2NH2)2Co3(hfbba)4  \n",
       "1                                 ((Me2NH2)In(NH2BDC)2)  \n",
       "2                                              (Be-BTB)  \n",
       "3                                         (C2H5)2dtoaCu  \n",
       "4                                    (C4B2H4(COOH)2Li2)  \n",
       "5               (C5H14N2)[(VO)3(AsO4)(HAsO4)2(OH)]*3H2O  \n",
       "6                                (C6H11NH3)2Mn3(hfbba)4  \n",
       "7                                             (Cd(im)2)  \n",
       "8                                         (CH3)2-MIL-53  \n",
       "9                                     (CH3)2-MIL-53(Al)  \n",
       "10                                             (CH3)2CO  \n",
       "11                                   (Cr)-MIL-101-SO3Ag  \n",
       "12                                             (Cu(db))  \n",
       "13                                    (Cu-BTC-DTG-0.92)  \n",
       "14                                    (Cu-BTC-DTG-1.52)  \n",
       "15                                     (Cu-BTCDTG-0.18)  \n",
       "16                         (Cu6(H2O)6(tatb)4*DMA*12H2O)  \n",
       "17                                 (CuC8H10O6P2)*(H2O)x  \n",
       "18                           (Et2NH2)3[(Cu4Cl)3(TTCA)8]  \n",
       "19                                    (H2dab)[Zn2(ox)3]  \n",
       "20                                 (H2tdpip)Co3(hfbba)4  \n",
       "21    (H3O)4[Ni6(pi3-O)2(pi2-OSC2H6)2(SO4)2(TATB)8/3...  \n",
       "22                                 (Hbzza)2]*H2O*C2H5OH  \n",
       "23                                          (HF)2-CO2-Y  \n",
       "24                                      (HOC2H4)2dtoaCu  \n",
       "25                        (In3O)(OH)(ADC)2(IN)2*4.67H2O  \n",
       "26                     (In3O)(OH)(ADC)2(NH2IN)2*2.67H2O  \n",
       "27                        (LiCl)[Ni(bdc)(ted)0.5] t=100  \n",
       "28                         (LiCl)[Ni(bdc)(ted)0.5] t=15  \n",
       "29                              (LiCl)[Zn(bdc)(ted)0.5]  \n",
       "...                                                 ...  \n",
       "6004                    {[Zn(INAIP)(DMF)]*0.5DMF*4H2O}n  \n",
       "6005                      {[Zn(l-pzdc)(NH3)2(H2O)]*H2O}  \n",
       "6006                {[Zn(m4-TCNQ-TCNQ)bpy]*1.5benzene}n  \n",
       "6007             {[Zn(NO2-ip)(dpndi)]*(DMF)1.5(MeOH)1.5  \n",
       "6008             {[Zn(NO2-ip)-(bpy)]*(DMF)0.5(MeOH)0.5}  \n",
       "6009                         {[Zn(oxo-pba)2(bpy)]4H2O}n  \n",
       "6010                            {[Zn(ppmdc)(H2O)2]*H2O}  \n",
       "6011              {[Zn-(C10H2O8)0.5(C10S2N2H8)]*5H2O]}n  \n",
       "6012                    {[Zn2(bpdc)2(azpy)]*2H2O*2DMF}n  \n",
       "6013          {[Zn2(bpdc)2(azpy)]*2H2O*2DMF}n Nanoscale  \n",
       "6014                            {[Zn2(btdc)2(bpy)]*xS}n  \n",
       "6015                           {[Zn2(btdc)2-(bpy)]*yS}n  \n",
       "6016                   {[Zn2(H2dht)(dht)0.5)(azpy)0.5]}  \n",
       "6017                           {[Zn2(L)(OH)]*2DMF*H2O}n  \n",
       "6018                      {[Zn2(MTB)(H2O)2]*3H2O*3DMF}n  \n",
       "6019                     {[Zn2(OH)(AZPY)(BDC)1.5]*H2O}n  \n",
       "6020                 {[Zn2BIB1.5SPA(OH)(H2O)]*1.75H2O}n  \n",
       "6021                    {[Zn3(bpdc)3(azpy)]*4H2O*2DEF}n  \n",
       "6022                     {[Zn3(DLlac)2(pybz)2]*2.5DMF}n  \n",
       "6023                      {[Zn3(L)3(DPB)1.5]-6DMF-H20}n  \n",
       "6024                       {[Zn3(ntb)2-(EtOH)2]*4EtOH}n  \n",
       "6025                          {[Zn3(ptp)3](DMF)2-(H2O)}  \n",
       "6026                     {[Zn4(BDC)4(BPDA)4]*5DMF*3H2O}  \n",
       "6027    {[Zn4(bpydb)3(datz)2(H2O)](DMF)4(EtOH)5(H2O)8}n  \n",
       "6028       {[Zn4O(bfbpdc)3-(bpy)0.5(H2O)]*(3DMF)(H2O)}n  \n",
       "6029                             {[Zn4O(L)3(DMF)2] xG}n  \n",
       "6030                             {[ZnL(HCO2)(H2O)]*DMF}  \n",
       "6031                              {[ZnL(HCO2)]*DMF*H2O}  \n",
       "6032                {[{Dy4(mu2-OH)}3(hett)8]*9NO3*6H2O}  \n",
       "6033                {[{Nd4(mu2-OH)}3(hett)8]*9NO3*6H2O}  \n",
       "\n",
       "[6034 rows x 2 columns]"
      ]
     },
     "execution_count": 99,
     "metadata": {},
     "output_type": "execute_result"
    }
   ],
   "source": [
    "materials_df"
   ]
  },
  {
   "cell_type": "code",
   "execution_count": 100,
   "metadata": {},
   "outputs": [],
   "source": [
    "#no_symbol_and_lowercase = [] #all lowercase and removed symbols\n",
    "#lowercase = [] #all lowercase\n",
    "#original = [] #original\n",
    "\n",
    "#for synonym in synonyms:\n",
    "    #no_symbol_and_lowercase.append(synonym.lower())\n",
    "    #lowercase.append(synonym.lower())\n",
    "    #original.append(synonym)\n",
    "    \n",
    "#for symbol in '()[]{}-+/:;.,':\n",
    "    #no_symbol_and_lowercase = [name.replace(symbol,'') for name in no_symbol_and_lowercase]\n",
    "          "
   ]
  },
  {
   "cell_type": "code",
   "execution_count": 101,
   "metadata": {
    "scrolled": true
   },
   "outputs": [],
   "source": [
    "no_symbol_and_lowercase = [] #all lowercase and removed symbols\n",
    "lowercase = [] #all lowercase\n",
    "original = [] #original\n",
    "\n",
    "for synonym in synonyms:\n",
    "    no_symbol_and_lowercase.append(synonym.lower())\n",
    "    lowercase.append(synonym.lower())\n",
    "    original.append(synonym)\n",
    "    \n",
    "for symbol in '()[]{}-+/:;':\n",
    "    no_symbol_and_lowercase = [name.replace(symbol,'') for name in no_symbol_and_lowercase]\n",
    "\n",
    "\n",
    "#pprint.pprint(original)\n",
    "#pprint.pprint(lowercase)\n",
    "#pprint.pprint(no_symbol_and_lowercase)\n",
    "        \n",
    "    \n",
    "#for (x, y) in zip(no_symbol_and_lowercase, original):\n",
    "    #if '':\n",
    "        #print (x,y)\n",
    "        "
   ]
  },
  {
   "cell_type": "code",
   "execution_count": 102,
   "metadata": {},
   "outputs": [
    {
     "name": "stdout",
     "output_type": "stream",
     "text": [
      "One or more matches found when converting everything to lowercase:\n",
      "\n",
      "{'carbon'}\n"
     ]
    }
   ],
   "source": [
    "#Finding duplicates within the lowercase list\n",
    "match1 = set([n for n in lowercase if lowercase.count(n)>1])\n",
    "print('One or more matches found when converting everything to lowercase:')\n",
    "print('')\n",
    "pprint.pprint(match1)"
   ]
  },
  {
   "cell_type": "code",
   "execution_count": 103,
   "metadata": {
    "scrolled": false
   },
   "outputs": [
    {
     "name": "stdout",
     "output_type": "stream",
     "text": [
      "One or more matches found when converting everything to lowercase and removing symbols:\n",
      "\n",
      "{'alohbpydc*0.97cubf42',\n",
      " 'bebtb',\n",
      " 'biomof100',\n",
      " 'brmof5',\n",
      " 'cabtt',\n",
      " 'carbon',\n",
      " 'cdmof1',\n",
      " 'clmof5',\n",
      " 'co24ptz22nh2bdcdman',\n",
      " 'cofa',\n",
      " 'coiiidpzca2agbf42*2h2o',\n",
      " 'comof',\n",
      " 'cpo27ni',\n",
      " 'crbdc',\n",
      " 'crmil101',\n",
      " 'cu3cdm4',\n",
      " 'cubdc',\n",
      " 'cubf42bpy2',\n",
      " 'cubpy2bf42',\n",
      " 'cubtc',\n",
      " 'cubttri',\n",
      " 'cudabco',\n",
      " 'cuhfipbbh2hfipbb0.5',\n",
      " 'cumof',\n",
      " 'febpacptcn4',\n",
      " 'febtc',\n",
      " 'femof74',\n",
      " 'graphitized thermal carbon black ksf=0.025',\n",
      " 'hzsm5',\n",
      " 'irmof16',\n",
      " 'irmof993',\n",
      " 'irmofm7',\n",
      " 'limil101cr',\n",
      " 'mg1',\n",
      " 'mg2',\n",
      " 'mg2dobdc',\n",
      " 'mg3',\n",
      " 'mg4',\n",
      " 'mgmof74',\n",
      " \"mgmof74@sba15 1'\",\n",
      " 'mgx',\n",
      " 'mil100cr',\n",
      " 'mil100fe',\n",
      " 'mil101a',\n",
      " 'mil101b',\n",
      " 'mil101c',\n",
      " 'mil101cr',\n",
      " 'mil101so3nah',\n",
      " 'mil47v',\n",
      " 'mil53al',\n",
      " 'mil53cr',\n",
      " 'mil53crfe',\n",
      " 'mil53cu',\n",
      " 'mof74ni',\n",
      " 'nax',\n",
      " 'nazsm5',\n",
      " 'ncmethanola333k',\n",
      " 'nh2mil53al',\n",
      " 'nibodcted0.5',\n",
      " 'nicyclam2mtbn*8nh2o*4ndmf',\n",
      " 'nidabco',\n",
      " 'nidbmbpy',\n",
      " 'nidobdc',\n",
      " 'nidpacnicn4',\n",
      " 'nimof74',\n",
      " 'nipyznicn4',\n",
      " 'rhii2bza42epyzn',\n",
      " 'rhozmof',\n",
      " 'rumof',\n",
      " 'sodzmof',\n",
      " 'zeolite liy',\n",
      " 'zeolite naa',\n",
      " 'zeolite nay',\n",
      " 'zif78',\n",
      " 'zif7lp',\n",
      " 'zmof',\n",
      " 'zn2adc2dabcon',\n",
      " 'zn2bdc2dabco',\n",
      " 'zn2bdc2dabcon',\n",
      " 'zn2bdc2ted',\n",
      " 'zn2bdc2tedn',\n",
      " 'zn2bpdc2bpee',\n",
      " 'zn2bpdc2bpee*2dmf',\n",
      " 'zn2l',\n",
      " 'zn3tcpb2*2h2o*2h2o*4dmf',\n",
      " 'zn4dmfur2ndc4',\n",
      " 'zn4odmcapz3n',\n",
      " 'znbdc',\n",
      " 'znbdcdabco',\n",
      " 'znbdcdabco0.5',\n",
      " 'znbdcted0.5',\n",
      " 'zndabco',\n",
      " 'znmof74',\n",
      " 'zntbip'}\n"
     ]
    }
   ],
   "source": [
    "#Finding duplicates within the no_symbol_and_lowercase_list\n",
    "match2 = set([n for n in no_symbol_and_lowercase if no_symbol_and_lowercase.count(n)>1])\n",
    "print('One or more matches found when converting everything to lowercase and removing symbols:')\n",
    "print('')\n",
    "pprint.pprint(match2)"
   ]
  },
  {
   "cell_type": "code",
   "execution_count": 104,
   "metadata": {
    "scrolled": true
   },
   "outputs": [],
   "source": [
    "#Julie's Code:\n",
    "#for synonym in synonyms:\n",
    "    #name = synonym.lower()\n",
    "    #if '' in name or '' in name:\n",
    "        #print(name, ';', synonym)"
   ]
  },
  {
   "cell_type": "code",
   "execution_count": 105,
   "metadata": {},
   "outputs": [],
   "source": [
    "#Julie's Code:\n",
    "#import re\n",
    "#def synonym_search(piece1, piece2, piece3):\n",
    "    #for synonym in synonyms:\n",
    "        #name = synonym.lower()\n",
    "        #if piece1 in name or piece2 in name:\n",
    "            #pieces_of_name = re.split(r'\\W+', name)\n",
    "            #for word in pieces_of_name:\n",
    "                #if word == piece3:\n",
    "                   #print(synonym)\n",
    "                    \n",
    "#synonym_search('(zr)','zr-','')"
   ]
  },
  {
   "cell_type": "code",
   "execution_count": 108,
   "metadata": {},
   "outputs": [
    {
     "name": "stdout",
     "output_type": "stream",
     "text": [
      "al(oh)(bpydc)*0.97cu(bf4)2 ; Al(OH)(bpydc)*0.97Cu(BF4)2\n",
      "[al(oh)(bpydc)*0.97cu(bf4)2] ; [Al(OH)(bpydc)*0.97Cu(BF4)2]\n"
     ]
    }
   ],
   "source": [
    "#alohbpydc*0.97cubf42\n",
    "for synonym in synonyms:\n",
    "    name = synonym.lower()\n",
    "    if '*' in name and '0.97' in name:\n",
    "        print(name, ';', synonym)"
   ]
  },
  {
   "cell_type": "code",
   "execution_count": 106,
   "metadata": {},
   "outputs": [
    {
     "name": "stdout",
     "output_type": "stream",
     "text": [
      "(be-btb) ; (Be-BTB)\n",
      "be-btb ; Be-BTB\n"
     ]
    }
   ],
   "source": [
    "#bebtb\n",
    "for synonym in synonyms:\n",
    "    name = synonym.lower()\n",
    "    if 'be' in name and 'btb' in name:\n",
    "        print(name, ';', synonym)"
   ]
  },
  {
   "cell_type": "code",
   "execution_count": 110,
   "metadata": {},
   "outputs": [
    {
     "name": "stdout",
     "output_type": "stream",
     "text": [
      "bio-mof-100 ; Bio-MOF-100\n",
      "biomof-100 ; BioMOF-100\n"
     ]
    }
   ],
   "source": [
    "#biomof100\n",
    "for synonym in synonyms:\n",
    "    name = synonym.lower()\n",
    "    if 'bio' in name and 'mof' in name and '100' in name:\n",
    "        print(name, ';', synonym)"
   ]
  },
  {
   "cell_type": "code",
   "execution_count": 113,
   "metadata": {},
   "outputs": [
    {
     "name": "stdout",
     "output_type": "stream",
     "text": [
      "br-mof-5 ; Br-MOF-5\n",
      "br-mof-5-40h ; Br-MOF-5-40h\n",
      "brmof-5 ; BrMOF-5\n"
     ]
    }
   ],
   "source": [
    "#brmof5\n",
    "for synonym in synonyms:\n",
    "    name = synonym.lower()\n",
    "    if 'br' in name and 'mof' in name and '5' in name:\n",
    "        print(name, ';', synonym)"
   ]
  },
  {
   "cell_type": "code",
   "execution_count": 115,
   "metadata": {},
   "outputs": [
    {
     "name": "stdout",
     "output_type": "stream",
     "text": [
      "ca-btt ; Ca-BTT\n",
      "cabtt ; CaBTT\n"
     ]
    }
   ],
   "source": [
    "#cabtt\n",
    "for synonym in synonyms:\n",
    "    name = synonym.lower()\n",
    "    if 'ca' in name and 'btt' in name:\n",
    "        print(name, ';', synonym)\n"
   ]
  },
  {
   "cell_type": "code",
   "execution_count": 116,
   "metadata": {},
   "outputs": [
    {
     "name": "stdout",
     "output_type": "stream",
     "text": [
      "cd-mof-1 ; Cd-MOF-1\n",
      "cdmof-1 ; CDMOF-1\n"
     ]
    }
   ],
   "source": [
    "#cdmof1\n",
    "for synonym in synonyms:\n",
    "    name = synonym.lower()\n",
    "    if 'cd' in name and 'mof' in name and '1' in name:\n",
    "        print(name, ';', synonym)"
   ]
  },
  {
   "cell_type": "code",
   "execution_count": 117,
   "metadata": {},
   "outputs": [
    {
     "name": "stdout",
     "output_type": "stream",
     "text": [
      "cl-mof-5 ; Cl-MOF-5\n",
      "cl-mof-5-24h ; Cl-MOF-5-24h\n",
      "clmof-5 ; ClMOF-5\n",
      "mof-5-no2-cl ; MOF-5-NO2-Cl\n",
      "rht-mof-pyr in ph 2.5 hcl (aq) 7 days rt ; rht-MOF-pyr in pH 2.5 HCl (aq) 7 days RT\n",
      "rht-mof-tri in ph 2.5 hcl(aq) 24 hours rt ; rht-MOF-tri in pH 2.5 HCL(aq) 24 hours RT\n",
      "zn-mof-74(cycle 5) ; Zn-MOF-74(cycle 5)\n"
     ]
    }
   ],
   "source": [
    "#clmof5\n",
    "for synonym in synonyms:\n",
    "    name = synonym.lower()\n",
    "    if 'cl' in name and 'mof' in name and '5' in name:\n",
    "        print(name, ';', synonym)"
   ]
  },
  {
   "cell_type": "code",
   "execution_count": 123,
   "metadata": {},
   "outputs": [
    {
     "name": "stdout",
     "output_type": "stream",
     "text": [
      "co2(4-ptz)2(2-nh2-bdc)(dma)]n ; Co2(4-Ptz)2(2-NH2-BDC)(DMA)]n\n",
      "[co2(4-ptz)2(2-nh2-bdc)(dma)]n ; [Co2(4-Ptz)2(2-NH2-BDC)(DMA)]n\n"
     ]
    }
   ],
   "source": [
    "#co24ptz22nh2bdcdman\n",
    "for synonym in synonyms:\n",
    "    name = synonym.lower()\n",
    "    if 'co2' in name and'dma' in name and 'nh2' in name:\n",
    "        print(name, ';', synonym)\n"
   ]
  },
  {
   "cell_type": "code",
   "execution_count": 126,
   "metadata": {},
   "outputs": [
    {
     "name": "stdout",
     "output_type": "stream",
     "text": [
      "co-fa ; Co-FA\n",
      "wet tiffany coal ; Wet Tiffany Coal\n",
      "[co(fa)] ; [Co(fa)]\n"
     ]
    }
   ],
   "source": [
    "#cofa\n",
    "for synonym in synonyms:\n",
    "    name = synonym.lower()\n",
    "    if 'co' in name and 'fa' in name:\n",
    "        print(name, ';', synonym)"
   ]
  },
  {
   "cell_type": "code",
   "execution_count": 128,
   "metadata": {},
   "outputs": [
    {
     "name": "stdout",
     "output_type": "stream",
     "text": [
      "[coiii(dpzca)2ag](bf4)2*2(h2o) ; [CoIII(dpzca)2Ag](BF4)2*2(H2O)\n",
      "[coiii(dpzca)2ag](bf4)2*2h2o ; [CoIII(dpzca)2Ag](BF4)2*2H2O\n"
     ]
    }
   ],
   "source": [
    "#coiiidpzca2agbf42*2h2o\n",
    "for synonym in synonyms:\n",
    "    name = synonym.lower()\n",
    "    if 'iii' in name and 'h2o' in name and 'dpzca' in name:\n",
    "        print(name, ';', synonym)"
   ]
  },
  {
   "cell_type": "code",
   "execution_count": 129,
   "metadata": {
    "scrolled": true
   },
   "outputs": [
    {
     "name": "stdout",
     "output_type": "stream",
     "text": [
      "(ni/co 25:75)-mof-74 ; (Ni/Co 25:75)-MOF-74\n",
      "(ni/co 50:50)-mof-74 ; (Ni/Co 50:50)-MOF-74\n",
      "(ni/co 75:25)-mof-74 ; (Ni/Co 75:25)-MOF-74\n",
      "446-mof-co ; 446-MOF-Co\n",
      "bio-mof-13 (configuration i) ; bio-MOF-13 (Configuration I)\n",
      "bio-mof-13 (configuration ii) ; bio-MOF-13 (Configuration II)\n",
      "bio-mof-14 (configuration i) ; bio-MOF-14 (Configuration I)\n",
      "bio-mof-14 (configuration iii) ; bio-MOF-14 (Configuration III)\n",
      "co(ii)-doped mof-5 ; Co(II)-doped MOF-5\n",
      "co-dmof-tm ; Co-DMOF-TM\n",
      "co-hfmof-d ; Co-HFMOF-D\n",
      "co-mof ; Co-MOF\n",
      "co-mof-5 ; Co-MOF-5\n",
      "co-mof-74 (bss) ; Co-MOF-74 (BSS)\n",
      "co-mof-74 (bssp) ; Co-MOF-74 (BSSP)\n",
      "co-mof-74 (buch) ; CO-MOF-74 (Buch)\n",
      "co-mof-74 (dl) ; Co-MOF-74 (DL)\n",
      "co-mof-74 with residual meoh ; Co-MOF-74 with residual MeOH\n",
      "co-mof-74(m) ; Co-MOF-74(M)\n",
      "co-mof-74(s) ; Co-MOF-74(S)\n",
      "co100-mof-74 ; Co100-MOF-74\n",
      "co14-mof-74 ; Co14-MOF-74\n",
      "co21-irmof-1 ; Co21-IRMOF-1\n",
      "co21-mof-5 ; Co21-MOF-5\n",
      "co50-mof-74 ; Co50-MOF-74\n",
      "co50zn-mof-74 ; Co50Zn-MOF-74\n",
      "co61-mof-74 ; Co61-MOF-74\n",
      "co8-irmof-1 ; Co8-IRMOF-1\n",
      "co84cu-mof-74 ; Co84Cu-MOF-74\n",
      "cobalt triazolyl phosphonate mof ; Cobalt Triazolyl Phosphonate MOF\n",
      "cobalt triazolyl phosphonate mof (95%rh) ; Cobalt Triazolyl Phosphonate MOF (95%RH)\n",
      "cobalt triazolyl phosphonate mof (activated at 403k) ; Cobalt Triazolyl Phosphonate MOF (Activated at 403K)\n",
      "comof ; CoMOF\n",
      "core-shell irmof-2@mof-5 ; Core-Shell IRMOF-2@MOF-5\n",
      "cu-dabco-mof ; Cu-DABCO-MOF\n",
      "cu-mof/mcf(m)-cooh ; Cu-MOF/MCF(M)-COOH\n",
      "interwoven mof-5 incorporating mwcnt ; Interwoven MOF-5 incorporating MWCNT\n",
      "micro-co-mof ; Micro-Co-MOF\n",
      "mof(fe/co) ; MOF(Fe/Co)\n",
      "mof-74-co ; MOF-74-Co\n",
      "co-mof-74 ; Co-MOF-74\n",
      "mof-co/agpf6-1 ; MOF-Co/AgPF6-1\n",
      "mof-co/agsbf6-1 ; MOF-Co/AgSbF6-1\n",
      "mofco/agbf4-1 ; MOFCo/AgBF4-1\n",
      "moisture treated coated mof-5 1d ; moisture treated coated MOF-5 1d\n",
      "ni50co-mof-74 ; Ni50Co-MOF-74\n",
      "rhozmof(co) ; RhoZMOF(Co)\n",
      "mof zn(bdc)(dabco)0.5 ; MOF Zn(BDC)(Dabco)0.5\n"
     ]
    }
   ],
   "source": [
    "#comof\n",
    "for synonym in synonyms:\n",
    "    name = synonym.lower()\n",
    "    if 'co' in name and 'mof' in name:\n",
    "        print(name, ';', synonym)"
   ]
  },
  {
   "cell_type": "code",
   "execution_count": 131,
   "metadata": {},
   "outputs": [
    {
     "name": "stdout",
     "output_type": "stream",
     "text": [
      "cpo-27(ni) ; CPO-27(Ni)\n",
      "cpo-27-ni ; CPO-27-Ni\n",
      "ni-cpo-27 ; Ni-CPO-27\n",
      "pip-cpo-27-ni ; Pip-CPO-27-Ni\n"
     ]
    }
   ],
   "source": [
    "#cpo27ni\n",
    "for synonym in synonyms:\n",
    "    name = synonym.lower()\n",
    "    if 'cpo' in name and '27' in name and 'ni' in name:\n",
    "        print(name, ';', synonym)"
   ]
  },
  {
   "cell_type": "code",
   "execution_count": 132,
   "metadata": {},
   "outputs": [
    {
     "name": "stdout",
     "output_type": "stream",
     "text": [
      "al-bdc (micro) ; Al-BDC (micro)\n",
      "cr(oh)bdc ; Cr(OH)BDC\n",
      "cr-bdc ; Cr-BDC\n",
      "crbdc ; CrBDC\n",
      "cu(bdc) (60ml dmf 100w microwave) ; Cu(BDC) (60mL DMF 100W Microwave)\n",
      "cu(bdc) (60ml dmf 300w microwave) ; Cu(BDC) (60mL DMF 300W Microwave)\n",
      "cu(bdc) (87ml dmf 100w microwave) ; Cu(BDC) (87mL DMF 100W Microwave)\n",
      "cu(bdc) (87ml dmf 300w microwave) ; Cu(BDC) (87mL DMF 300W Microwave)\n",
      "zn4o-[(bdc)cr(co)3]3 ; Zn4O-[(BDC)Cr(CO)3]3\n"
     ]
    }
   ],
   "source": [
    "#crbdc\n",
    "for synonym in synonyms:\n",
    "    name = synonym.lower()\n",
    "    if 'cr' in name and 'bdc' in name:\n",
    "        print(name, ';', synonym)"
   ]
  },
  {
   "cell_type": "code",
   "execution_count": 135,
   "metadata": {
    "scrolled": true
   },
   "outputs": [
    {
     "name": "stdout",
     "output_type": "stream",
     "text": [
      "(cr)-mil-101-so3ag ; (Cr)-MIL-101-SO3Ag\n",
      "100wt%-pei-mil-101(cr) ; 100WT%-PEI-MIL-101(Cr)\n",
      "50wt%-pei-mil-101(cr) ; 50WT%-PEI-MIL-101(Cr)\n",
      "75wt%-pei-mil-101(cr) ; 75WT%-PEI-MIL-101(Cr)\n",
      "amine-mil-101(cr) ; Amine-MIL-101(Cr)\n",
      "cr-mil(101) ; Cr-MIL(101)\n",
      "cr-mil-101 ; Cr-MIL-101\n",
      "mil-101 (cr) ; MIL-101 (Cr)\n",
      "mil-101(cr) ; MIL-101(Cr)\n",
      "cr-mil-101(4-nim) ; Cr-MIL-101(4-NIm)\n",
      "cr-mil-101-bipy ; Cr-MIL-101-bipy\n",
      "cr-mil-101-nh2 ; Cr-MIL-101-NH2\n",
      "cr-mil-101-no2 ; Cr-MIL-101-NO2\n",
      "cr-mil-101_amide ; Cr-MIL-101_amide\n",
      "cr-mil-101_urea ; Cr-MIL-101_urea\n",
      "cu/mil-101(cr) ; Cu/MIL-101(Cr)\n",
      "dop-mil-101(cr) ; Dop-MIL-101(Cr)\n",
      "li+-mil-101(cr) ; Li+-MIL-101(Cr)\n",
      "li-mil-101(cr) ; Li-MIL-101(Cr)\n",
      "mil-101(cl@cr) ; MIL-101(Cl@Cr)\n",
      "mil-101(cr) monolith - run 1 ; MIL-101(Cr) monolith - Run 1\n",
      "mil-101(cr) powder - run 1 ; MIL-101(Cr) powder - Run 1\n",
      "mil-101(cr) powder - run 2 ; MIL-101(Cr) powder - Run 2\n",
      "mil-101(cr)-150nm ; MIL-101(Cr)-150nm\n",
      "mil-101(cr)-150nm-pei-10000 ; MIL-101(Cr)-150nm-PEI-10000\n",
      "mil-101(cr)-150nm-pei-1800 ; MIL-101(Cr)-150nm-PEI-1800\n",
      "mil-101(cr)-150nm-pei-300 ; MIL-101(Cr)-150nm-PEI-300\n",
      "mil-101(cr)-250nm ; MIL-101(Cr)-250nm\n",
      "mil-101(cr)-250nm-pei-300 ; MIL-101(Cr)-250nm-PEI-300\n",
      "mil-101-cr-so3h ; MIL-101-Cr-SO3H\n",
      "mil-101-cr-so3h.al(iii) ; MIL-101-Cr-SO3H.Al(III)\n",
      "mil-101cr ; MIL-101Cr\n",
      "mil-101ff(cr) ; MIL-101FF(Cr)\n",
      "nh2-mil-101(cr) ; NH2-MIL-101(Cr)\n",
      "ni@mil-101(cr) ; Ni@MIL-101(Cr)\n",
      "no2-mil-101(cr) ; NO2-MIL-101(Cr)\n",
      "pd@mil-101(cr) ; Pd@MIL-101(Cr)\n",
      "pd/mil-101(cr) ; Pd/MIL-101(Cr)\n",
      "pma-mil-101(cr) ; PMA-MIL-101(Cr)\n",
      "s-mil-101(cr) ; S-MIL-101(Cr)\n",
      "s1-mil-101(cr) ; S1-MIL-101(Cr)\n",
      "s2-mil-101(cr) ; S2-MIL-101(Cr)\n",
      "s3-mil-101(cr) ; S3-MIL-101(Cr)\n",
      "v(dop)-mil-101(cr) ; V(dop)-MIL-101(Cr)\n"
     ]
    }
   ],
   "source": [
    "#crmil101 or mil101cr\n",
    "for synonym in synonyms:\n",
    "    name = synonym.lower()\n",
    "    if 'cr' in name and 'mil' in name and '101' in name:\n",
    "        print(name, ';', synonym)"
   ]
  },
  {
   "cell_type": "code",
   "execution_count": 134,
   "metadata": {},
   "outputs": [
    {
     "name": "stdout",
     "output_type": "stream",
     "text": [
      "cu3(cdm)4 ; Cu3(cdm)4\n",
      "[cu3(cdm)4] ; [Cu3(cdm)4]\n"
     ]
    }
   ],
   "source": [
    "#cu3cdm4\n",
    "for synonym in synonyms:\n",
    "    name = synonym.lower()\n",
    "    if 'cu3' in name and 'cdm' in name and '4' in name:\n",
    "        print(name, ';', synonym)"
   ]
  },
  {
   "cell_type": "code",
   "execution_count": 136,
   "metadata": {
    "scrolled": true
   },
   "outputs": [
    {
     "name": "stdout",
     "output_type": "stream",
     "text": [
      "cu(1,3-bdc)(h2o) ; Cu(1,3-BDC)(H2O)\n",
      "cu(1,3-bdc)(py)2 ; Cu(1,3-BDC)(PY)2\n",
      "cu(bdc) (60ml dmf 100w microwave) ; Cu(BDC) (60mL DMF 100W Microwave)\n",
      "cu(bdc) (60ml dmf 300w microwave) ; Cu(BDC) (60mL DMF 300W Microwave)\n",
      "cu(bdc) (87ml dmf 100w microwave) ; Cu(BDC) (87mL DMF 100W Microwave)\n",
      "cu(bdc) (87ml dmf 300w microwave) ; Cu(BDC) (87mL DMF 300W Microwave)\n",
      "cu(bdc-oh) ; Cu(BDC-OH)\n",
      "cu-bdc ; Cu-BDC\n",
      "cu-dobdc (dreiding parameters-universal force field + trappe model) ; Cu-DOBDC (DREIDING Parameters-Universal Force Field + TraPPE Model)\n",
      "cu2(dobdc) ; Cu2(dobdc)\n",
      "cubdc ; CuBDC\n",
      "cubdc bulk ; CuBDC bulk\n",
      "cubdc nanosheet ; CuBDC nanosheet\n",
      "zn3(bdc)3[cu(pyen)]*(dmf)5(h2o)5 ; Zn3(BDC)3[Cu(Pyen)]*(DMF)5(H2O)5\n",
      "zn3(bdc)3[cu(salpycy)]*5dmf*4h2o desolvated ; Zn3(BDC)3[Cu(SalPyCy)]*5DMF*4H2O Desolvated\n",
      "[cu(bdc)(ted)0.5]*2 dmf*0.2h2o ; [Cu(bdc)(ted)0.5]*2 DMF*0.2H2O\n",
      "[cu2(bdc)2(bpy)]n ; [Cu2(bdc)2(bpy)]n\n",
      "[cu2(bdc)2(dabco)]bulk ; [Cu2(bdc)2(dabco)]bulk\n",
      "[cu2(bdc)2(dabco)]n ; [Cu2(bdc)2(dabco)]n\n",
      "[cu2(bme-bdc)2(dabco)]n ; [Cu2(BME-bdc)2(dabco)]n\n"
     ]
    }
   ],
   "source": [
    "#cubdc\n",
    "for synonym in synonyms:\n",
    "    name = synonym.lower()\n",
    "    if 'cu' in name and 'bdc' in name:\n",
    "        print(name, ';', synonym)"
   ]
  },
  {
   "cell_type": "code",
   "execution_count": 139,
   "metadata": {},
   "outputs": [
    {
     "name": "stdout",
     "output_type": "stream",
     "text": [
      "cu(bf4)2(bpy)2 ; Cu(BF4)2(bpy)2\n",
      "cu(bpy)2(bf4)2 ; Cu(bpy)2(BF4)2\n",
      "[cu(bf4)2(bpy)2] ; [Cu(BF4)2(bpy)2]\n",
      "[cu(bpy)2(bf4)2] ; [Cu(bpy)2(BF4)2]\n"
     ]
    }
   ],
   "source": [
    "#cubf42bpy2\n",
    "#cubpy2bf42\n",
    "for synonym in synonyms:\n",
    "    name = synonym.lower()\n",
    "    if 'cu' in name and 'bf4' in name and '(bpy)2' in name:\n",
    "        print(name, ';', synonym)"
   ]
  },
  {
   "cell_type": "code",
   "execution_count": 143,
   "metadata": {},
   "outputs": [
    {
     "name": "stdout",
     "output_type": "stream",
     "text": [
      "cu-bttri ; Cu-BTTri\n",
      "cubttri ; CuBTTri\n",
      "cubttri-mmen ; CuBTTri-mmen\n",
      "h3[(cu4cl)3(bttri)8(dmf)12]*7dmf*76h2o ; H3[(Cu4Cl)3(BTTri)8(DMF)12]*7DMF*76H2O\n",
      "h3[(cu4cl)3(bttri)8(en)5]*1.5phme ; H3[(Cu4Cl)3(BTTri)8(en)5]*1.5PhMe\n",
      "h3[(cu4cl)3(bttri)8(h2o)12]*72h2o ; H3[(Cu4Cl)3(BTTri)8(H2O)12]*72H2O\n",
      "h3[(cu4cl)3(bttri)8(meoh)12]*12meoh*72h2o ; H3[(Cu4Cl)3(BTTri)8(MeOH)12]*12MeOH*72H2O\n",
      "h3[(cu4cl)3(bttri)8] ; H3[(Cu4Cl)3(BTTri)8]\n",
      "men-cubttri ; MEN-CuBTTri\n",
      "mmen-cubttri ; MMEN-CuBTTri\n",
      "pip-cubttri ; Pip-CuBTTri\n"
     ]
    }
   ],
   "source": [
    "#cubttri\n",
    "#also take a look at CuBTTri-mmen and mmen-CuBTTri\n",
    "for synonym in synonyms:\n",
    "    name = synonym.lower()\n",
    "    if 'cu' in name and 'bttri' in name:\n",
    "        print(name, ';', synonym)"
   ]
  },
  {
   "cell_type": "code",
   "execution_count": 144,
   "metadata": {},
   "outputs": [
    {
     "name": "stdout",
     "output_type": "stream",
     "text": [
      "cu-dabco ; Cu-DABCO\n",
      "cu-dabco-mof ; Cu-DABCO-MOF\n",
      "cudabco ; CuDABCO\n",
      "[cu2(adc)2(dabco)]n ; [Cu2(adc)2(dabco)]n\n",
      "[cu2(bdc)2(dabco)]bulk ; [Cu2(bdc)2(dabco)]bulk\n",
      "[cu2(bdc)2(dabco)]n ; [Cu2(bdc)2(dabco)]n\n",
      "[cu2(bme-bdc)2(dabco)]n ; [Cu2(BME-bdc)2(dabco)]n\n",
      "[cu2(ndc)2(dabco)] ; [Cu2(ndc)2(dabco)]\n",
      "[cu2(ndc)2(dabco)]n ; [Cu2(ndc)2(dabco)]n\n",
      "[cu24(cn)4(btc)12(dabco)9(h2o)6]*8(no3) ; [Cu24(CN)4(btc)12(dabco)9(H2O)6]*8(NO3)\n",
      "[cu4i3(dabco)2]i ; [Cu4I3(DABCO)2]I\n"
     ]
    }
   ],
   "source": [
    "#cudabco\n",
    "for synonym in synonyms:\n",
    "    name = synonym.lower()\n",
    "    if 'cu' in name and 'dabco' in name:\n",
    "        print(name, ';', synonym)"
   ]
  },
  {
   "cell_type": "code",
   "execution_count": 147,
   "metadata": {},
   "outputs": [
    {
     "name": "stdout",
     "output_type": "stream",
     "text": [
      "cu(hfipbb)(h2hfipbb)0.5 ; Cu(hfipbb)(H2hfipbb)0.5\n",
      "cu-(hfipbb)(h2hfipbb)0.5 ; Cu-(hfipbb)(H2hfipbb)0.5\n",
      "[cu(hfipbb)(h2hfipbb)0.5] ; [Cu(hfipbb)(H2hfipbb)0.5]\n"
     ]
    }
   ],
   "source": [
    "#cuhfipbbh2hfipbb0.5\n",
    "for synonym in synonyms:\n",
    "    name = synonym.lower()\n",
    "    if 'cu' in name and '0.5' in name and 'hfipbb' in name and 'h2' in name:\n",
    "        print(name, ';', synonym)"
   ]
  },
  {
   "cell_type": "code",
   "execution_count": 148,
   "metadata": {
    "scrolled": true
   },
   "outputs": [
    {
     "name": "stdout",
     "output_type": "stream",
     "text": [
      "co84cu-mof-74 ; Co84Cu-MOF-74\n",
      "cu-dabco-mof ; Cu-DABCO-MOF\n",
      "cu-dmof-tm ; Cu-DMOF-TM\n",
      "cu-f-mof-4b ; Cu-F-MOF-4B\n",
      "cu-irmof-1 ; Cu-IRMOF-1\n",
      "cu-iso-mof ; Cu-Iso-MOF\n",
      "cu-mof ; Cu-MOF\n",
      "cu-mof (1st wash) ; Cu-MOF (1st wash)\n",
      "cu-mof (3rd wash) ; Cu-MOF (3rd wash)\n",
      "cu-mof-1 ; Cu-MOF-1\n",
      "cu-mof-2 ; Cu-MOF-2\n",
      "cu-mof-5 ; Cu-MOF-5\n",
      "cu-mof-74 ; Cu-MOF-74\n",
      "cu-mof-ctab ; Cu-MOF-CTAB\n",
      "cu-mof-ctab (1st wash) ; Cu-MOF-CTAB (1st wash)\n",
      "cu-mof-no3 ; Cu-MOF-NO3\n",
      "cu-mof-p123 ; Cu-MOF-P123\n",
      "cu-mof-p123 (1st wash) ; Cu-MOF-P123 (1st wash)\n",
      "cu-mof-p123 (3rd wash) ; Cu-MOF-P123 (3rd wash)\n",
      "cu-mof-sds ; Cu-MOF-SDS\n",
      "cu-mof-sif6 ; Cu-MOF-SiF6\n",
      "cu-mof/mcf(m)-cooh ; Cu-MOF/MCF(M)-COOH\n",
      "cu-tdpat and irmof-8 ; Cu-TDPAT and IRMOF-8\n",
      "cu/zno@mof-5 ; Cu/ZnO@MOF-5\n",
      "cu@mof-177 ; Cu@MOF-177\n",
      "cu@mof-5 ; Cu@MOF-5\n",
      "cumof ; CuMOF\n",
      "cumof-pi ; CuMOF-PI\n",
      "cumof-pi (ground) ; CuMOF-PI (ground)\n",
      "cumof-tbp ; CuMOF-TBP\n",
      "fmofcu ; FMOFCu\n",
      "irmof-1/2cu(i) ; IRMOF-1/2Cu(I)\n",
      "irmof-1/3cu(i) ; IRMOF-1/3Cu(I)\n",
      "irmof-1/4cu(i) ; IRMOF-1/4Cu(I)\n",
      "irmof-1/cu(i) ; IRMOF-1/Cu(I)\n",
      "irmof-3-pi-cu ; IRMOF-3-PI-Cu\n",
      "mof cu-abta ; MOF Cu-ABTA\n",
      "mof [cu(tzbc)2] ; MOF [Cu(tzbc)2]\n",
      "ni90cu-mof-74 ; Ni90Cu-MOF-74\n",
      "pmof-2(cu) ; PMOF-2(Cu)\n",
      "rhozmof(cu) ; RhoZMOF(CU)\n",
      "tb-fmu-fcu mof ; Tb-fmu-fcu MOF\n",
      "tb-fum-fcu mof ; Tb-fum-fcu MOF\n",
      "tb-fum-fcu-mof ; Tb-fum-fcu-MOF\n",
      "treated [cu@mg-mof] ; Treated [Cu@Mg-MOF]\n",
      "vacuuated cumof ; Vacuuated CuMOF\n",
      "vacuuated cumof with silica filler ; Vacuuated CuMOF with silica filler\n",
      "y-14-ndc fcu-mof ; Y-14-NDC fcu-MOF\n",
      "y-fmu-fcu mof ; Y-fmu-fcu MOF\n",
      "y-fum-fcu mof ; Y-fum-fcu MOF\n",
      "y-fum-fcu-mof ; Y-fum-fcu-MOF\n",
      "[cpcu((cn)^t.bu)]1@mof-5 ; [CpCu((CN)^t.Bu)]1@MOF-5\n",
      "[cpcu(pme3)]2@mof-5 ; [CpCu(PMe3)]2@MOF-5\n",
      "[cu@mg-mof] ; [Cu@Mg-MOF]\n"
     ]
    }
   ],
   "source": [
    "#cumof\n",
    "for synonym in synonyms:\n",
    "    name = synonym.lower()\n",
    "    if 'cu' in name and 'mof' in name:\n",
    "        print(name, ';', synonym)"
   ]
  },
  {
   "cell_type": "code",
   "execution_count": 158,
   "metadata": {},
   "outputs": [
    {
     "name": "stdout",
     "output_type": "stream",
     "text": [
      "[fe(bpac)pt(cn)4] ; [Fe(bpac)Pt(CN)4]\n",
      "{fe(bpac)[pt(cn)4]} ; {Fe(bpac)[Pt(CN)4]}\n"
     ]
    }
   ],
   "source": [
    "#febpacptcn4\n",
    "for synonym in synonyms:\n",
    "    name = synonym.lower()\n",
    "    if 'bpac' in name and 'pt' in name:\n",
    "        print(name, ';', synonym)"
   ]
  },
  {
   "cell_type": "code",
   "execution_count": 159,
   "metadata": {
    "scrolled": true
   },
   "outputs": [
    {
     "name": "stdout",
     "output_type": "stream",
     "text": [
      "fe-btc ; Fe-BTC\n",
      "fe3o4-pyridine/cubtc ; Fe3O4-Pyridine/CuBTC\n",
      "fe3o4/cubtc ; Fe3O4/CuBTC\n",
      "fe3o4/cubtc*h2dz ; Fe3O4/CuBTC*H2Dz\n",
      "febtc ; FeBTC\n"
     ]
    }
   ],
   "source": [
    "#febtc\n",
    "for synonym in synonyms:\n",
    "    name = synonym.lower()\n",
    "    if 'fe' in name and 'btc' in name:\n",
    "        print(name, ';', synonym)"
   ]
  },
  {
   "cell_type": "code",
   "execution_count": 160,
   "metadata": {},
   "outputs": [
    {
     "name": "stdout",
     "output_type": "stream",
     "text": [
      "fe-mof-74 ; Fe-MOF-74\n",
      "femof-74 ; FeMOF-74\n",
      "mof-74-fe ; MOF-74-Fe\n"
     ]
    }
   ],
   "source": [
    "#femof74\n",
    "for synonym in synonyms:\n",
    "    name = synonym.lower()\n",
    "    if 'fe' in name and 'mof' in name and '74' in name:\n",
    "        print(name, ';', synonym)"
   ]
  },
  {
   "cell_type": "code",
   "execution_count": 162,
   "metadata": {},
   "outputs": [
    {
     "name": "stdout",
     "output_type": "stream",
     "text": [
      "graphitized carbon black ; Graphitized Carbon Black\n",
      "graphitized carbon blacks ; Graphitized Carbon Blacks\n"
     ]
    }
   ],
   "source": [
    "#graphitized carbon black(s)\n",
    "for synonym in synonyms:\n",
    "    name = synonym.lower()\n",
    "    if 'graphitized carbon black' in name:\n",
    "        print(name, ';', synonym)"
   ]
  },
  {
   "cell_type": "code",
   "execution_count": 167,
   "metadata": {
    "scrolled": false
   },
   "outputs": [
    {
     "name": "stdout",
     "output_type": "stream",
     "text": [
      "nh4-zsm-5 ; NH4-ZSM-5\n",
      "h-zsm-5 ; H-ZSM-5\n",
      "hzsm-5 ; HZSM-5\n",
      "h-zsm-5 (si/al: 120) ; H-ZSM-5 (Si/Al: 120)\n",
      "h-zsm-5 (si/al: 20) ; H-ZSM-5 (Si/Al: 20)\n",
      "h-zsm-5 (si/al: 50) ; H-ZSM-5 (Si/Al: 50)\n",
      "h-zsm-5-12.5 ; H-ZSM-5-12.5\n",
      "h-zsm-5-280 ; H-ZSM-5-280\n",
      "h-zsm-5-30 ; H-ZSM-5-30\n",
      "h-zsm-5-50 ; H-ZSM-5-50\n",
      "h-zsm-5-80 ; H-ZSM-5-80\n"
     ]
    }
   ],
   "source": [
    "#hzsm5\n",
    "for synonym in synonyms:\n",
    "    name = synonym.lower()\n",
    "    if 'h' in name and 'zsm' in name and '5' in name:\n",
    "        print(name, ';', synonym)"
   ]
  },
  {
   "cell_type": "code",
   "execution_count": 168,
   "metadata": {},
   "outputs": [
    {
     "name": "stdout",
     "output_type": "stream",
     "text": [
      "fe-irmof16 ; Fe-IRMOF16\n",
      "irmof-16 ; IRMOF-16\n",
      "irmof16 ; IRMOF16\n"
     ]
    }
   ],
   "source": [
    "#irmof16\n",
    "for synonym in synonyms:\n",
    "    name = synonym.lower()\n",
    "    if 'ir' in name and 'mof' in name and '16' in name:\n",
    "        print(name, ';', synonym)"
   ]
  },
  {
   "cell_type": "code",
   "execution_count": 169,
   "metadata": {},
   "outputs": [
    {
     "name": "stdout",
     "output_type": "stream",
     "text": [
      "irmof-993 ; IRMOF-993\n",
      "irmof-993) ; IRMOF-993)\n"
     ]
    }
   ],
   "source": [
    "#irmof993\n",
    "for synonym in synonyms:\n",
    "    name = synonym.lower()\n",
    "    if 'ir' in name and 'mof' in name and '993' in name:\n",
    "        print(name, ';', synonym)"
   ]
  },
  {
   "cell_type": "code",
   "execution_count": 170,
   "metadata": {},
   "outputs": [
    {
     "name": "stdout",
     "output_type": "stream",
     "text": [
      "irmof-m7 ; IRMOF-M7\n",
      "irmof-m7) ; IRMOF-M7)\n"
     ]
    }
   ],
   "source": [
    "#irmofm7\n",
    "for synonym in synonyms:\n",
    "    name = synonym.lower()\n",
    "    if 'ir' in name and 'mof' in name and 'm7' in name:\n",
    "        print(name, ';', synonym)"
   ]
  },
  {
   "cell_type": "code",
   "execution_count": 172,
   "metadata": {},
   "outputs": [
    {
     "name": "stdout",
     "output_type": "stream",
     "text": [
      "li+-mil-101(cr) ; Li+-MIL-101(Cr)\n",
      "li-mil-101(cr) ; Li-MIL-101(Cr)\n",
      "mil-101(cr) monolith - run 1 ; MIL-101(Cr) monolith - Run 1\n"
     ]
    }
   ],
   "source": [
    "#limil101cr\n",
    "for synonym in synonyms:\n",
    "    name = synonym.lower()\n",
    "    if 'li' in name and 'mil' in name and '101' in name and 'cr' in name:\n",
    "        print(name, ';', synonym)"
   ]
  },
  {
   "cell_type": "code",
   "execution_count": 173,
   "metadata": {
    "scrolled": true
   },
   "outputs": [
    {
     "name": "stdout",
     "output_type": "stream",
     "text": [
      "10wt%mg2(dobdc)/pi ; 10wt%Mg2(dobdc)/PI\n",
      "10wt%mg2(dobdc)/polyimide ; 10wt%Mg2(dobdc)/Polyimide\n",
      "10wt%mg2(dobdc)/xlpeo ; 10wt%Mg2(dobdc)/XLPEO\n",
      "amgnd-bio-mof-1 ; AmGND-bio-MOF-1\n",
      "c10h14mg2o14 ; C10H14Mg2O14\n",
      "c14h12mg6no24 ; C14H12Mg6NO24\n",
      "c14h6n4o4ptmg*9h2o ; C14H6N4O4PtMg*9H2O\n",
      "c18h28o10mgn2 ; C18H28O10MgN2\n",
      "c23h33mg2n3o11 ; C23H33Mg2N3O11\n",
      "c65h113n15o19znmg.86 ; C65H113N15O19ZnMg.86\n",
      "c65h113n15o19znmg2.02 ; C65H113N15O19ZnMg2.02\n",
      "c80h50mg15o80 ; C80H50Mg15O80\n",
      "cpm-15-mg ; CPM-15-Mg\n",
      "cpo-27-mg(100%) ; CPO-27-Mg(100%)\n",
      "cpo-27-mg(16%) ; CPO-27-Mg(16%)\n",
      "diamgnd-bio-mof-1 ; DiAmGND-bio-MOF-1\n",
      "imp-13mg ; IMP-13Mg\n",
      "mg-1 ; MG-1\n",
      "mg-c60@irmof-10 ; Mg-C60@IRMOF-10\n",
      "mg-g1 ; MG-G1\n",
      "mg-irmof-1 ; Mg-IRMOF-1\n",
      "mg-mof-1 ; Mg-MOF-1\n",
      "mg-mof-74 (model 1) ; Mg-MOF-74 (model 1)\n",
      "mg-mof-74@mr(1 day after relaxation) ; Mg-MOF-74@MR(1 day after relaxation)\n",
      "mg-mof-74@mr(irradiated 1 hour) ; Mg-MOF-74@MR(Irradiated 1 hour)\n",
      "mg-mof-74@mr(photoswitchg 1 hour) ; Mg-MOF-74@MR(Photoswitchg 1 hour)\n",
      "mg-mof-74@sba-15(1') ; Mg-MOF-74@SBA-15(1')\n",
      "mg-mof-74@sba-15 (1') ; Mg-MOF-74@SBA-15 (1')\n",
      "mg-mof74@sba-15 (1') ; Mg-MOF74@SBA-15 (1')\n",
      "mg-mof-74@sba-15(2') ; Mg-MOF-74@SBA-15(2')\n",
      "mg-mof74@sba-15 (2') ; Mg-MOF74@SBA-15 (2')\n",
      "mg-mof16 ; Mg-MOF16\n",
      "mg-sba-15 ; Mg-SBA-15\n",
      "mg-sba-16 ; Mg-SBA-16\n",
      "mg/k-sba-15 ; Mg/K-SBA-15\n",
      "mg/k-sba-16 ; Mg/K-SBA-16\n",
      "mg1 ; MG1\n",
      "mg2(dobpdc)(mmen)1.6(h2o)0.4 ; Mg2(dobpdc)(mmen)1.6(H2O)0.4\n",
      "mof-74(mg)-1st cycle ; MOF-74(Mg)-1st cycle\n",
      "pmg-irmof-1 ; Pmg-IRMOF-1\n",
      "snu-100'-mg ; SNU-100'-Mg\n",
      "utsa-16-go (19 mg) ; UTSA-16-GO (19 mg)\n",
      "utsa-16-go (28.5 mg) ; UTSA-16-GO (28.5 mg)\n",
      "utsa-16-go (9.5 mg) ; UTSA-16-GO (9.5 mg)\n",
      "zif-8 + 10 mg l-1 of otc ; ZIF-8 + 10 mg L-1 of OTC\n",
      "zif-8 + 25 mg l-1 of otc ; ZIF-8 + 25 mg L-1 of OTC\n",
      "[mg16(ptca)8(mu2-h2o)8(h2o)16(dioxane)8]*(h2o)13*(dmf)26 ; [Mg16(PTCA)8(mu2-H2O)8(H2O)16(dioxane)8]*(H2O)13*(DMF)26\n",
      "{[mg(hidc)(h2o)2]*1.5h2o}n ; {[Mg(HIDC)(H2O)2]*1.5H2O}n\n"
     ]
    }
   ],
   "source": [
    "#mg1\n",
    "for synonym in synonyms:\n",
    "    name = synonym.lower()\n",
    "    if 'mg' in name and '1' in name:\n",
    "        print(name, ';', synonym)"
   ]
  },
  {
   "cell_type": "code",
   "execution_count": 174,
   "metadata": {
    "scrolled": true
   },
   "outputs": [
    {
     "name": "stdout",
     "output_type": "stream",
     "text": [
      "10wt%mg2(dobdc)/pi ; 10wt%Mg2(dobdc)/PI\n",
      "10wt%mg2(dobdc)/polyimide ; 10wt%Mg2(dobdc)/Polyimide\n",
      "10wt%mg2(dobdc)/xlpeo ; 10wt%Mg2(dobdc)/XLPEO\n",
      "20wt%mg2(dobdc)/pdms ; 20wt%Mg2(dobdc)/PDMS\n",
      "beta-mg(hcoo)2 ; Beta-Mg(HCOO)2\n",
      "c10h14mg2o14 ; C10H14Mg2O14\n",
      "c14h12mg6no24 ; C14H12Mg6NO24\n",
      "c14h6n4o4ptmg*9h2o ; C14H6N4O4PtMg*9H2O\n",
      "c18h28o10mgn2 ; C18H28O10MgN2\n",
      "c23h33mg2n3o11 ; C23H33Mg2N3O11\n",
      "c2h6o6mg ; C2H6O6Mg\n",
      "c65h113n15o19znmg2.02 ; C65H113N15O19ZnMg2.02\n",
      "cpo-26-mg ; CPO-26-Mg\n",
      "cpo-27-mg ; CPO-27-Mg\n",
      "cpo-27-mg(100%) ; CPO-27-Mg(100%)\n",
      "cpo-27-mg(16%) ; CPO-27-Mg(16%)\n",
      "cpo-27-mg(33%) ; CPO-27-Mg(33%)\n",
      "cpo-27-mg(50%) ; CPO-27-Mg(50%)\n",
      "cpo-27-mg(67%) ; CPO-27-Mg(67%)\n",
      "cpo-27-mg(83%) ; CPO-27-Mg(83%)\n",
      "cpo-27-mg-a ; CPO-27-Mg-a\n",
      "cpo-27-mg-b ; CPO-27-Mg-b\n",
      "cpo-27-mg-c ; CPO-27-Mg-c\n",
      "cuii {[mg3(ndc)2.5(hco2)2(h2o)][nh2me2]2h2odmf} ; CuII {[Mg3(ndc)2.5(HCO2)2(H2O)][NH2Me2]2H2ODMF}\n",
      "desolvated {[mg(dht)]2dmso}n ; Desolvated {[Mg(DHT)]2DMSO}n\n",
      "dmen-mg2(dopdc) ; dmen-Mg2(dopdc)\n",
      "gamma-mg-(bh4)2 ; Gamma-Mg-(BH4)2\n",
      "hp2mg ; HP2MG\n",
      "k2mg(h2o)2(c8h4o8) ; K2Mg(H2O)2(C8H4O8)\n",
      "mg(h2o)(c4h4o5)*h2o ; Mg(H2O)(C4H4O5)*H2O\n",
      "mg(h2o)2(c4o4) ; Mg(H2O)2(C4O4)\n",
      "mg(hco2)2 ; Mg(HCO2)2\n",
      "mg(ooch)2 ; Mg(OOCH)2\n",
      "mg-2 ; MG-2\n",
      "mg-cpo-27 ; Mg-CPO-27\n",
      "mg-g2 ; MG-G2\n",
      "mg-mof-74@mr(2 days after relaxation) ; Mg-MOF-74@MR(2 days after relaxation)\n",
      "mg-mof-74@mr(irradiated for 2 hours) ; Mg-MOF-74@MR(Irradiated for 2 hours)\n",
      "mg-mof-74@sba-15(2') ; Mg-MOF-74@SBA-15(2')\n",
      "mg-mof74@sba-15 (2') ; Mg-MOF74@SBA-15 (2')\n",
      "mg2 ; MG2\n",
      "mg2(dhtp) ; Mg2(dhtp)\n",
      "mg2(dobdc) ; Mg2(dobdc)\n",
      "mg2(dobpdc) ; Mg2(dobpdc)\n",
      "mg2(dobpdc)(mmen)1.6(h2o)0.4 ; Mg2(dobpdc)(mmen)1.6(H2O)0.4\n",
      "mg2-(dobdc) ; Mg2-(dobdc)\n",
      "mg2l ; Mg2L\n",
      "mg2li(btc) (hbtc)(dmf)2 ; Mg2Li(BTC) (HBTC)(DMF)2\n",
      "mg3(bpt)2(h2o)4 ; Mg3(BPT)2(H2O)4\n",
      "mgh2 ; MgH2\n",
      "mmen-mg2(dobpdc) ; mmen-Mg2(dobpdc)\n",
      "utsa-16-go (28.5 mg) ; UTSA-16-GO (28.5 mg)\n",
      "zif-8 + 25 mg l-1 of otc ; ZIF-8 + 25 mg L-1 of OTC\n",
      "[mg(h2diol)(dmf)2] ; [Mg(H2diol)(DMF)2]\n",
      "[mg16(ptca)8(mu2-h2o)8(h2o)16(dioxane)8]*(h2o)13*(dmf)26 ; [Mg16(PTCA)8(mu2-H2O)8(H2O)16(dioxane)8]*(H2O)13*(DMF)26\n",
      "[mg2(hco2)2(nh2-bdc)(dmf)2] ; [Mg2(HCO2)2(NH2-BDC)(DMF)2]\n",
      "[mg2(mu4-hmtpo)2(mu-h2o)(h2o)2]*2def ; [Mg2(mu4-HmTPO)2(mu-H2O)(H2O)2]*2DEF\n",
      "{[mg(hidc)(h2o)2]*1.5h2o}n ; {[Mg(HIDC)(H2O)2]*1.5H2O}n\n",
      "{[mg2(hl)2(h2o)4]*h2o}n ; {[Mg2(HL)2(H2O)4]*H2O}n\n",
      "{[mg3(ndc)2.5(hco2)2(h2o)][nh2me2]2h2odmf} ; {[Mg3(ndc)2.5(HCO2)2(H2O)][NH2Me2]2H2ODMF}\n"
     ]
    }
   ],
   "source": [
    "#mg2\n",
    "for synonym in synonyms:\n",
    "    name = synonym.lower()\n",
    "    if 'mg' in name and '2' in name:\n",
    "        print(name, ';', synonym)"
   ]
  },
  {
   "cell_type": "code",
   "execution_count": 178,
   "metadata": {},
   "outputs": [
    {
     "name": "stdout",
     "output_type": "stream",
     "text": [
      "10wt%mg2(dobdc)/pi ; 10wt%Mg2(dobdc)/PI\n",
      "10wt%mg2(dobdc)/polyimide ; 10wt%Mg2(dobdc)/Polyimide\n",
      "10wt%mg2(dobdc)/xlpeo ; 10wt%Mg2(dobdc)/XLPEO\n",
      "20wt%mg2(dobdc)/pdms ; 20wt%Mg2(dobdc)/PDMS\n",
      "mg2(dobdc) ; Mg2(dobdc)\n",
      "mg2-(dobdc) ; Mg2-(dobdc)\n"
     ]
    }
   ],
   "source": [
    "#mg2dobdc\n",
    "for synonym in synonyms:\n",
    "    name = synonym.lower()\n",
    "    if 'mg2' in name and 'dobdc' in name:\n",
    "        print(name, ';', synonym)"
   ]
  },
  {
   "cell_type": "code",
   "execution_count": 179,
   "metadata": {
    "scrolled": true
   },
   "outputs": [
    {
     "name": "stdout",
     "output_type": "stream",
     "text": [
      "c23h33mg2n3o11 ; C23H33Mg2N3O11\n",
      "c65h113n15o19znmg.86 ; C65H113N15O19ZnMg.86\n",
      "c65h113n15o19znmg2.02 ; C65H113N15O19ZnMg2.02\n",
      "cpo-27-mg(33%) ; CPO-27-Mg(33%)\n",
      "cpo-27-mg(83%) ; CPO-27-Mg(83%)\n",
      "cuii {[mg3(ndc)2.5(hco2)2(h2o)][nh2me2]2h2odmf} ; CuII {[Mg3(ndc)2.5(HCO2)2(H2O)][NH2Me2]2H2ODMF}\n",
      "imp-13mg ; IMP-13Mg\n",
      "mg-3 ; MG-3\n",
      "mg-g3 ; MG-G3\n",
      "mg-mof-74 (3) ; Mg-MOF-74 (3)\n",
      "mg-mof-74 (model 3) ; Mg-MOF-74 (model 3)\n",
      "mg-mof-74@mr(3 days after relaxation) ; Mg-MOF-74@MR(3 days after relaxation)\n",
      "mg-mof-74@mr(irradiated 30 minutes) ; Mg-MOF-74@MR(Irradiated 30 minutes)\n",
      "mg-mof-74@mr(photoswitching for 30 min ; Mg-MOF-74@MR(Photoswitching for 30 min\n",
      "mg3 ; MG3\n",
      "mg3(bpt)2(h2o)4 ; Mg3(BPT)2(H2O)4\n",
      "np-mgo-350 ; Np-MgO-350\n",
      "paf-3-dcmg ; PAF-3-dcMg\n",
      "[h[mg(hcoo)3]]inf ; [H[Mg(HCOO)3]]inf\n",
      "[mg16(ptca)8(mu2-h2o)8(h2o)16(dioxane)8]*(h2o)13*(dmf)26 ; [Mg16(PTCA)8(mu2-H2O)8(H2O)16(dioxane)8]*(H2O)13*(DMF)26\n",
      "[mg3(ndc)3] ; [Mg3(ndc)3]\n",
      "{[mg3(ndc)2.5(hco2)2(h2o)][nh2me2]2h2odmf} ; {[Mg3(ndc)2.5(HCO2)2(H2O)][NH2Me2]2H2ODMF}\n"
     ]
    }
   ],
   "source": [
    "#mg3\n",
    "for synonym in synonyms:\n",
    "    name = synonym.lower()\n",
    "    if 'mg' in name and '3' in name:\n",
    "        print(name, ';', synonym)"
   ]
  },
  {
   "cell_type": "code",
   "execution_count": 180,
   "metadata": {
    "scrolled": true
   },
   "outputs": [
    {
     "name": "stdout",
     "output_type": "stream",
     "text": [
      "ab-mg-mof-74 ; AB-Mg-MOF-74\n",
      "c10h14mg2o14 ; C10H14Mg2O14\n",
      "c14h12mg6no24 ; C14H12Mg6NO24\n",
      "c14h6n4o4ptmg*9h2o ; C14H6N4O4PtMg*9H2O\n",
      "gamma-mg-(bh4)2 ; Gamma-Mg-(BH4)2\n",
      "k2mg(h2o)2(c8h4o8) ; K2Mg(H2O)2(C8H4O8)\n",
      "mg mof-74 ; Mg MOF-74\n",
      "mg(c5h6o4) ; Mg(C5H6O4)\n",
      "mg(h2o)(c4h4o5)*h2o ; Mg(H2O)(C4H4O5)*H2O\n",
      "mg(h2o)2(c4o4) ; Mg(H2O)2(C4O4)\n",
      "mg-4 ; MG-4\n",
      "mg-g4 ; MG-G4\n",
      "mg-mcm-48-ls ; Mg-MCM-48-ls\n",
      "mg-mof-74 ; Mg-MOF-74\n",
      "mg-mof-74 (mason et al.) ; Mg-MOF-74 (Mason et al.)\n",
      "mg-mof-74 (3) ; Mg-MOF-74 (3)\n",
      "mg-mof-74 (4) ; Mg-MOF-74 (4)\n",
      "mg-mof-74 (model 1) ; Mg-MOF-74 (model 1)\n",
      "mg-mof-74 (model 3) ; Mg-MOF-74 (model 3)\n",
      "mg-mof-74 (uff) ; Mg-MOF-74 (UFF)\n",
      "mg-mof-74(c) ; Mg-MOF-74(C)\n",
      "mg-mof-74(c)-tea ; Mg-MOF-74(C)-TEA\n",
      "mg-mof-74(s) ; Mg-MOF-74(S)\n",
      "mg-mof-74@mr ; Mg-MOF-74@MR\n",
      "mg-mof-74@mr(1 day after relaxation) ; Mg-MOF-74@MR(1 day after relaxation)\n",
      "mg-mof-74@mr(2 days after relaxation) ; Mg-MOF-74@MR(2 days after relaxation)\n",
      "mg-mof-74@mr(3 days after relaxation) ; Mg-MOF-74@MR(3 days after relaxation)\n",
      "mg-mof-74@mr(irradiated 1 hour) ; Mg-MOF-74@MR(Irradiated 1 hour)\n",
      "mg-mof-74@mr(irradiated 30 minutes) ; Mg-MOF-74@MR(Irradiated 30 minutes)\n",
      "mg-mof-74@mr(irradiated for 2 hours) ; Mg-MOF-74@MR(Irradiated for 2 hours)\n",
      "mg-mof-74@mr(photoswitchg 1 hour) ; Mg-MOF-74@MR(Photoswitchg 1 hour)\n",
      "mg-mof-74@mr(photoswitching for 30 min ; Mg-MOF-74@MR(Photoswitching for 30 min\n",
      "mg-mof-74@sba-15(1') ; Mg-MOF-74@SBA-15(1')\n",
      "mg-mof-74@sba-15 (1') ; Mg-MOF-74@SBA-15 (1')\n",
      "mg-mof74@sba-15 (1') ; Mg-MOF74@SBA-15 (1')\n",
      "mg-mof-74@sba-15(2') ; Mg-MOF-74@SBA-15(2')\n",
      "mg-mof74@sba-15 (2') ; Mg-MOF74@SBA-15 (2')\n",
      "mg-mof74 ; Mg-MOF74\n",
      "mg/k-mcm-48-ls ; Mg/K-MCM-48-ls\n",
      "mg/mof-74 ; Mg/MOF-74\n",
      "mg2(dobpdc)(mmen)1.6(h2o)0.4 ; Mg2(dobpdc)(mmen)1.6(H2O)0.4\n",
      "mg3(bpt)2(h2o)4 ; Mg3(BPT)2(H2O)4\n",
      "mg4 ; MG4\n",
      "mg48x ; Mg48X\n",
      "mgmof-74 ; MgMOF-74\n",
      "mof-74(mg)-1st cycle ; MOF-74(Mg)-1st cycle\n",
      "mof-74-mg ; MOF-74-Mg\n",
      "paf-4-dcmg ; PAF-4-dcMg\n",
      "[mg2(mu4-hmtpo)2(mu-h2o)(h2o)2]*2def ; [Mg2(mu4-HmTPO)2(mu-H2O)(H2O)2]*2DEF\n",
      "{[mg2(hl)2(h2o)4]*h2o}n ; {[Mg2(HL)2(H2O)4]*H2O}n\n"
     ]
    }
   ],
   "source": [
    "#mg4\n",
    "for synonym in synonyms:\n",
    "    name = synonym.lower()\n",
    "    if 'mg' in name and '4' in name:\n",
    "        print(name, ';', synonym)"
   ]
  },
  {
   "cell_type": "code",
   "execution_count": 181,
   "metadata": {
    "scrolled": true
   },
   "outputs": [
    {
     "name": "stdout",
     "output_type": "stream",
     "text": [
      "ab-mg-mof-74 ; AB-Mg-MOF-74\n",
      "mg mof-74 ; Mg MOF-74\n",
      "mg-mof-74 ; Mg-MOF-74\n",
      "mg-mof-74 (mason et al.) ; Mg-MOF-74 (Mason et al.)\n",
      "mg-mof-74 (3) ; Mg-MOF-74 (3)\n",
      "mg-mof-74 (4) ; Mg-MOF-74 (4)\n",
      "mg-mof-74 (model 1) ; Mg-MOF-74 (model 1)\n",
      "mg-mof-74 (model 3) ; Mg-MOF-74 (model 3)\n",
      "mg-mof-74 (uff) ; Mg-MOF-74 (UFF)\n",
      "mg-mof-74(c) ; Mg-MOF-74(C)\n",
      "mg-mof-74(c)-tea ; Mg-MOF-74(C)-TEA\n",
      "mg-mof-74(s) ; Mg-MOF-74(S)\n",
      "mg-mof-74@mr ; Mg-MOF-74@MR\n",
      "mg-mof-74@mr(1 day after relaxation) ; Mg-MOF-74@MR(1 day after relaxation)\n",
      "mg-mof-74@mr(2 days after relaxation) ; Mg-MOF-74@MR(2 days after relaxation)\n",
      "mg-mof-74@mr(3 days after relaxation) ; Mg-MOF-74@MR(3 days after relaxation)\n",
      "mg-mof-74@mr(irradiated 1 hour) ; Mg-MOF-74@MR(Irradiated 1 hour)\n",
      "mg-mof-74@mr(irradiated 30 minutes) ; Mg-MOF-74@MR(Irradiated 30 minutes)\n",
      "mg-mof-74@mr(irradiated for 2 hours) ; Mg-MOF-74@MR(Irradiated for 2 hours)\n",
      "mg-mof-74@mr(photoswitchg 1 hour) ; Mg-MOF-74@MR(Photoswitchg 1 hour)\n",
      "mg-mof-74@mr(photoswitching for 30 min ; Mg-MOF-74@MR(Photoswitching for 30 min\n",
      "mg-mof-74@sba-15(1') ; Mg-MOF-74@SBA-15(1')\n",
      "mg-mof-74@sba-15 (1') ; Mg-MOF-74@SBA-15 (1')\n",
      "mg-mof74@sba-15 (1') ; Mg-MOF74@SBA-15 (1')\n",
      "mg-mof-74@sba-15(2') ; Mg-MOF-74@SBA-15(2')\n",
      "mg-mof74@sba-15 (2') ; Mg-MOF74@SBA-15 (2')\n",
      "mg-mof74 ; Mg-MOF74\n",
      "mg/mof-74 ; Mg/MOF-74\n",
      "mgmof-74 ; MgMOF-74\n",
      "mof-74(mg)-1st cycle ; MOF-74(Mg)-1st cycle\n",
      "mof-74-mg ; MOF-74-Mg\n"
     ]
    }
   ],
   "source": [
    "#mgmof74\n",
    "for synonym in synonyms:\n",
    "    name = synonym.lower()\n",
    "    if 'mg' in name and 'mof' in name and '74' in name:\n",
    "        print(name, ';', synonym)"
   ]
  },
  {
   "cell_type": "code",
   "execution_count": 182,
   "metadata": {},
   "outputs": [
    {
     "name": "stdout",
     "output_type": "stream",
     "text": [
      "mg-mof-74@sba-15(1') ; Mg-MOF-74@SBA-15(1')\n",
      "mg-mof-74@sba-15 (1') ; Mg-MOF-74@SBA-15 (1')\n",
      "mg-mof74@sba-15 (1') ; Mg-MOF74@SBA-15 (1')\n",
      "mg-mof-74@sba-15(2') ; Mg-MOF-74@SBA-15(2')\n",
      "mg-mof74@sba-15 (2') ; Mg-MOF74@SBA-15 (2')\n"
     ]
    }
   ],
   "source": [
    "#mgmof74@sba15 1\n",
    "#mgmof74@sba15 2\n",
    "for synonym in synonyms:\n",
    "    name = synonym.lower()\n",
    "    if 'mg' in name and 'mof' in name and 'sba' in name and '15' in name:\n",
    "        print(name, ';', synonym)"
   ]
  },
  {
   "cell_type": "code",
   "execution_count": 183,
   "metadata": {
    "scrolled": false
   },
   "outputs": [
    {
     "name": "stdout",
     "output_type": "stream",
     "text": [
      "10wt%mg2(dobdc)/xlpeo ; 10wt%Mg2(dobdc)/XLPEO\n",
      "mg-mof-74@mr(1 day after relaxation) ; Mg-MOF-74@MR(1 day after relaxation)\n",
      "mg-mof-74@mr(2 days after relaxation) ; Mg-MOF-74@MR(2 days after relaxation)\n",
      "mg-mof-74@mr(3 days after relaxation) ; Mg-MOF-74@MR(3 days after relaxation)\n",
      "mg-x ; Mg-X\n",
      "mg48x ; Mg48X\n",
      "mgx ; MgX\n",
      "[mg16(ptca)8(mu2-h2o)8(h2o)16(dioxane)8]*(h2o)13*(dmf)26 ; [Mg16(PTCA)8(mu2-H2O)8(H2O)16(dioxane)8]*(H2O)13*(DMF)26\n"
     ]
    }
   ],
   "source": [
    "#mgx\n",
    "for synonym in synonyms:\n",
    "    name = synonym.lower()\n",
    "    if 'mg' in name and 'x' in name:\n",
    "        print(name, ';', synonym)"
   ]
  },
  {
   "cell_type": "code",
   "execution_count": 184,
   "metadata": {},
   "outputs": [
    {
     "name": "stdout",
     "output_type": "stream",
     "text": [
      "100wt%-pei-mil-101(cr) ; 100WT%-PEI-MIL-101(Cr)\n",
      "cosalen@mil-100(cr) ; Cosalen@MIL-100(Cr)\n",
      "mil-100(cr) ; MIL-100(Cr)\n",
      "mil-100-cr ; MIL-100-Cr\n",
      "mil-100(cr)-deg ; MIL-100(Cr)-DEG\n",
      "mil-100(cr)-dmf ; MIL-100(Cr)-DMF\n",
      "mil-100(cr)-eg ; MIL-100(Cr)-EG\n",
      "mil-100(cr)-en ; MIL-100(Cr)-EN\n",
      "mil-100(cr)-teg ; MIL-100(Cr)-TEG\n",
      "mil-101(cr)-150nm-pei-10000 ; MIL-101(Cr)-150nm-PEI-10000\n",
      "pta-mil-100(cr) ; PTA-MIL-100(Cr)\n"
     ]
    }
   ],
   "source": [
    "#mil100cr\n",
    "for synonym in synonyms:\n",
    "    name = synonym.lower()\n",
    "    if 'mil' in name and '100' in name and 'cr' in name:\n",
    "        print(name, ';', synonym)"
   ]
  },
  {
   "cell_type": "code",
   "execution_count": 185,
   "metadata": {
    "scrolled": true
   },
   "outputs": [
    {
     "name": "stdout",
     "output_type": "stream",
     "text": [
      "alcl3(1.2%)/mil-100(fe) ; AlCl3(1.2%)/MIL-100(Fe)\n",
      "alcl3(2.5%)/mil-100(fe) ; AlCl3(2.5%)/MIL-100(Fe)\n",
      "alcl3(5.0%)/mil-100(fe) ; AlCl3(5.0%)/MIL-100(Fe)\n",
      "fe2@mil-100(fe) ; Fe2@MIL-100(Fe)\n",
      "mil-100(fe) ; MIL-100(Fe)\n",
      "fe-mil-100 ; Fe-MIL-100\n",
      "mil-100-fe ; MIL-100-Fe\n",
      "mil-100(fe)-granule ; MIL-100(Fe)-granule\n",
      "mil-100(fe)-powder ; MIL-100(Fe)-powder\n",
      "mil-100(fe)_f1 ; MIL-100(Fe)_F1\n",
      "mil-100(fe)_f2 ; MIL-100(Fe)_F2\n",
      "mil-100(fe)_nf ; MIL-100(Fe)_NF\n",
      "mil-100(sc50fe50)xs ; MIL-100(Sc50Fe50)XS\n",
      "mil-100(sc60fe40)xs ; MIL-100(Sc60Fe40)XS\n",
      "mil-100(sc80fe20)xs ; MIL-100(Sc80Fe20)XS\n",
      "mil-100(sc90fe10)xs ; MIL-100(Sc90Fe10)XS\n",
      "mil-100-fe/cu+(h) ; MIL-100-Fe/Cu+(H)\n",
      "mil-100-fe/cu+(l) ; MIL-100-Fe/Cu+(L)\n",
      "mil-100-fe/cu+(m) ; MIL-100-Fe/Cu+(M)\n"
     ]
    }
   ],
   "source": [
    "#mil100fe\n",
    "for synonym in synonyms:\n",
    "    name = synonym.lower()\n",
    "    if 'mil' in name and '100' in name and 'fe' in name:\n",
    "        print(name, ';', synonym)"
   ]
  },
  {
   "cell_type": "code",
   "execution_count": 186,
   "metadata": {
    "scrolled": true
   },
   "outputs": [
    {
     "name": "stdout",
     "output_type": "stream",
     "text": [
      "(cr)-mil-101-so3ag ; (Cr)-MIL-101-SO3Ag\n",
      "ac-mil-101 ; AC-MIL-101\n",
      "ac-mil-101-a(li) ; AC-MIL-101-A(Li)\n",
      "ac-mil-101-b(li) ; AC-MIL-101-B(Li)\n",
      "ac-mil-101-c(li) ; AC-MIL-101-C(Li)\n",
      "al-mil-101-nh ; Al-MIL-101-NH\n",
      "al-mil-101-nh-gly-pro ; Al-MIL-101-NH-Gly-Pro\n",
      "amine-mil-101(cr) ; Amine-MIL-101(Cr)\n",
      "amsa-mil-101 ; AMSA-MIL-101\n",
      "au-pd/mil-101 ; Au-Pd/MIL-101\n",
      "cr-mil-101_amide ; Cr-MIL-101_amide\n",
      "cr-mil-101_urea ; Cr-MIL-101_urea\n",
      "deta-mil-101 ; DETA-MIL-101\n",
      "mil-101 activated ; MIL-101 Activated\n",
      "mil-101(al) ; MIL-101(Al)\n",
      "mil-101(al)-nh2 ; MIL-101(Al)-NH2\n",
      "mil-101-a ; MIL-101-A\n",
      "mil-101-a(li) ; MIL-101-A(Li)\n",
      "mil-101-a1 ; MIL-101-A1\n",
      "mil-101-a2 ; MIL-101-A2\n",
      "mil-101-a3 ; MIL-101-A3\n",
      "mil-101-a4 ; MIL-101-A4\n",
      "mil-101-a5 ; MIL-101-A5\n",
      "mil-101-a6 ; MIL-101-A6\n",
      "mil-101-bridges-pt/ac ; MIL-101-bridges-Pt/AC\n",
      "mil-101-cr-so3h.al(iii) ; MIL-101-Cr-SO3H.Al(III)\n",
      "mil-101-dabco ; MIL-101-dabco\n",
      "mil-101-so3na(h) ; MIL-101-SO3Na(H)\n",
      "mil-101-so3nah ; MIL-101-SO3NaH\n",
      "mil-101a ; MIL-101a\n",
      "nh2-mil-101(al) ; NH2-MIL-101(Al)\n",
      "ni foam-mil-101 (27%) ; Ni foam-MIL-101 (27%)\n",
      "ni foam-mil-101 (60%) ; Ni foam-MIL-101 (60%)\n",
      "ni foam-mil-101 (81%) ; Ni foam-MIL-101 (81%)\n",
      "pd-deta-mil-101 ; Pd-DETA-MIL-101\n",
      "peha-mil-101 ; PEHA-MIL-101\n",
      "pma-mil-101(cr) ; PMA-MIL-101(Cr)\n",
      "pt/ac-mil-101 ; Pt/AC-MIL-101\n",
      "pt/pta-nh2-mil-101(al) ; Pt/PTA-NH2-MIL-101(Al)\n",
      "pta-mil-101 ; PTA-MIL-101\n",
      "pta-nh2-mil-101(al) ; PTA-NH2-MIL-101(Al)\n",
      "swnt-mil-101-a(li) ; SWNT-MIL-101-A(Li)\n",
      "tepa-mil-101 ; TEPA-MIL-101\n"
     ]
    }
   ],
   "source": [
    "#mil101a\n",
    "#mil101so3nah\n",
    "\n",
    "#nh2-mil-101(al) ; NH2-MIL-101(Al)\n",
    "#mil-101(al)-nh2 ; MIL-101(Al)-NH2\n",
    "\n",
    "for synonym in synonyms:\n",
    "    name = synonym.lower()\n",
    "    if 'mil' in name and '101' in name and 'a' in name:\n",
    "        print(name, ';', synonym)"
   ]
  },
  {
   "cell_type": "code",
   "execution_count": 187,
   "metadata": {
    "scrolled": true
   },
   "outputs": [
    {
     "name": "stdout",
     "output_type": "stream",
     "text": [
      "ac-mil-101-b(li) ; AC-MIL-101-B(Li)\n",
      "bridged-mil-101 ; Bridged-MIL-101\n",
      "cr-mil-101-bipy ; Cr-MIL-101-bipy\n",
      "h3pw12o4/mil-101-b ; H3PW12O4/MIL-101-B\n",
      "mil-101-b ; MIL-101-B\n",
      "mil-101-b(li) ; MIL-101-B(Li)\n",
      "mil-101-b1 ; MIL-101-B1\n",
      "mil-101-b2 ; MIL-101-B2\n",
      "mil-101-bipy ; MIL-101-bipy\n",
      "mil-101-br ; MIL-101-Br\n",
      "mil-101-bridges-pt/ac ; MIL-101-bridges-Pt/AC\n",
      "mil-101-dabco ; MIL-101-dabco\n",
      "mil-101-mo6br8f6 ; MIL-101-Mo6Br8F6\n",
      "mil-101-n(n-bu)3br ; MIL-101-N(n-Bu)3Br\n",
      "mil-101-p(n-bu)3br ; MIL-101-P(n-Bu)3Br\n",
      "mil-101b ; MIL-101b\n",
      "swnt-mil-101-b(li) ; SWNT-MIL-101-B(Li)\n"
     ]
    }
   ],
   "source": [
    "#mil101b\n",
    "for synonym in synonyms:\n",
    "    name = synonym.lower()\n",
    "    if 'mil' in name and '101' in name and 'b' in name:\n",
    "        print(name, ';', synonym)"
   ]
  },
  {
   "cell_type": "code",
   "execution_count": 188,
   "metadata": {
    "scrolled": true
   },
   "outputs": [
    {
     "name": "stdout",
     "output_type": "stream",
     "text": [
      "(cr)-mil-101-so3ag ; (Cr)-MIL-101-SO3Ag\n",
      "100wt%-pei-mil-101(cr) ; 100WT%-PEI-MIL-101(Cr)\n",
      "1wt% pdcl2/mil-101 ; 1wt% PdCl2/MIL-101\n",
      "3wt% pdcl2/mil-101 ; 3wt% PdCl2/MIL-101\n",
      "50wt%-pei-mil-101(cr) ; 50WT%-PEI-MIL-101(Cr)\n",
      "5wt% pdcl2/mil-101 ; 5wt% PdCl2/MIL-101\n",
      "75wt%-pei-mil-101(cr) ; 75WT%-PEI-MIL-101(Cr)\n",
      "ac-mil-101 ; AC-MIL-101\n",
      "ac-mil-101-a(li) ; AC-MIL-101-A(Li)\n",
      "ac-mil-101-b(li) ; AC-MIL-101-B(Li)\n",
      "ac-mil-101-c(li) ; AC-MIL-101-C(Li)\n",
      "amine-mil-101(cr) ; Amine-MIL-101(Cr)\n",
      "co-pom/mil-101 ; Co-POM/MIL-101\n",
      "cr-mil(101) ; Cr-MIL(101)\n",
      "cr-mil-101 ; Cr-MIL-101\n",
      "mil-101 (cr) ; MIL-101 (Cr)\n",
      "mil-101(cr) ; MIL-101(Cr)\n",
      "cr-mil-101(4-nim) ; Cr-MIL-101(4-NIm)\n",
      "cr-mil-101-bipy ; Cr-MIL-101-bipy\n",
      "cr-mil-101-nh2 ; Cr-MIL-101-NH2\n",
      "cr-mil-101-no2 ; Cr-MIL-101-NO2\n",
      "cr-mil-101_amide ; Cr-MIL-101_amide\n",
      "cr-mil-101_urea ; Cr-MIL-101_urea\n",
      "cu/mil-101(cr) ; Cu/MIL-101(Cr)\n",
      "dop-mil-101(cr) ; Dop-MIL-101(Cr)\n",
      "li+-mil-101(cr) ; Li+-MIL-101(Cr)\n",
      "li-mil-101(cr) ; Li-MIL-101(Cr)\n",
      "mil-101 activated ; MIL-101 Activated\n",
      "mil-101(cl@cr) ; MIL-101(Cl@Cr)\n",
      "mil-101(cr) monolith - run 1 ; MIL-101(Cr) monolith - Run 1\n",
      "mil-101(cr) powder - run 1 ; MIL-101(Cr) powder - Run 1\n",
      "mil-101(cr) powder - run 2 ; MIL-101(Cr) powder - Run 2\n",
      "mil-101(cr)-150nm ; MIL-101(Cr)-150nm\n",
      "mil-101(cr)-150nm-pei-10000 ; MIL-101(Cr)-150nm-PEI-10000\n",
      "mil-101(cr)-150nm-pei-1800 ; MIL-101(Cr)-150nm-PEI-1800\n",
      "mil-101(cr)-150nm-pei-300 ; MIL-101(Cr)-150nm-PEI-300\n",
      "mil-101(cr)-250nm ; MIL-101(Cr)-250nm\n",
      "mil-101(cr)-250nm-pei-300 ; MIL-101(Cr)-250nm-PEI-300\n",
      "mil-101(sc) ; MIL-101(Sc)\n",
      "mil-101-bridges-pt/ac ; MIL-101-bridges-Pt/AC\n",
      "mil-101-c ; MIL-101-C\n",
      "mil-101-c1 ; MIL-101-C1\n",
      "mil-101-c2 ; MIL-101-C2\n",
      "mil-101-ch3 ; MIL-101-CH3\n",
      "mil-101-cl ; MIL-101-Cl\n",
      "mil-101-cn ; MIL-101-CN\n",
      "mil-101-cr-so3h ; MIL-101-Cr-SO3H\n",
      "mil-101-cr-so3h.al(iii) ; MIL-101-Cr-SO3H.Al(III)\n",
      "mil-101-dabco ; MIL-101-dabco\n",
      "mil-101c ; MIL-101c\n",
      "mil-101cr ; MIL-101Cr\n",
      "mil-101ff(cr) ; MIL-101FF(Cr)\n",
      "mwcnt@mil-101 ; MWCNT@MIL-101\n",
      "nh2-mil-101(cr) ; NH2-MIL-101(Cr)\n",
      "ni@mil-101(cr) ; Ni@MIL-101(Cr)\n",
      "no2-mil-101(cr) ; NO2-MIL-101(Cr)\n",
      "pd@mil-101(cr) ; Pd@MIL-101(Cr)\n",
      "pd/mil-101(cr) ; Pd/MIL-101(Cr)\n",
      "pma-mil-101(cr) ; PMA-MIL-101(Cr)\n",
      "pt/ac-mil-101 ; Pt/AC-MIL-101\n",
      "s-mil-101(cr) ; S-MIL-101(Cr)\n",
      "s1-mil-101(cr) ; S1-MIL-101(Cr)\n",
      "s2-mil-101(cr) ; S2-MIL-101(Cr)\n",
      "s3-mil-101(cr) ; S3-MIL-101(Cr)\n",
      "swnt-mil-101-c(li) ; SWNT-MIL-101-C(Li)\n",
      "v(dop)-mil-101(cr) ; V(dop)-MIL-101(Cr)\n"
     ]
    }
   ],
   "source": [
    "#mil101c\n",
    "#already did mil101cr and crmil101\n",
    "\n",
    "#pd@mil-101(cr) ; Pd@MIL-101(Cr)\n",
    "#pd/mil-101(cr) ; Pd/MIL-101(Cr)\n",
    "\n",
    "for synonym in synonyms:\n",
    "    name = synonym.lower()\n",
    "    if 'mil' in name and '101' in name and 'c' in name:\n",
    "        print(name, ';', synonym)"
   ]
  },
  {
   "cell_type": "code",
   "execution_count": 189,
   "metadata": {},
   "outputs": [
    {
     "name": "stdout",
     "output_type": "stream",
     "text": [
      "mil-47(v) ; MIL-47(V)\n",
      "mil-47-v ; MIL-47-V\n"
     ]
    }
   ],
   "source": [
    "#mil47v\n",
    "for synonym in synonyms:\n",
    "    name = synonym.lower()\n",
    "    if 'mil' in name and '47' in name and 'v' in name:\n",
    "        print(name, ';', synonym)"
   ]
  },
  {
   "cell_type": "code",
   "execution_count": 190,
   "metadata": {
    "scrolled": true
   },
   "outputs": [
    {
     "name": "stdout",
     "output_type": "stream",
     "text": [
      "(ch3)2-mil-53(al) ; (CH3)2-MIL-53(Al)\n",
      "(oh)2-mil-53(al) ; (OH)2-MIL-53(Al)\n",
      "al-mil-53-(oh)2-as ; Al-MIL-53-(OH)2-AS\n",
      "al-mil-53-0%nh2 ; Al-MIL-53-0%NH2\n",
      "al-mil-53-100%nh2 ; Al-MIL-53-100%NH2\n",
      "al-mil-53-11.1%nh2 ; Al-MIL-53-11.1%NH2\n",
      "al-mil-53-20%nh2 ; Al-MIL-53-20%NH2\n",
      "al-mil-53-50%nh2 ; Al-MIL-53-50%NH2\n",
      "al-mil-53-66.6%nh2 ; Al-MIL-53-66.6%NH2\n",
      "al-mil-53-66.7%nh2 ; Al-MIL-53-66.7%NH2\n",
      "al-mil-53-br-as ; Al-MIL-53-Br-AS\n",
      "al-mil-53-ch3-as ; Al-MIL-53-CH3-AS\n",
      "al-mil-53-cl-as ; Al-MIL-53-Cl-AS\n",
      "al-mil-53-cooh ; Al-MIL-53-COOH\n",
      "cooh-mil-53(al) ; COOH-MIL-53(Al)\n",
      "al-mil-53-nh2 ; Al-MIL-53-NH2\n",
      "al-mil-53-no2-as ; Al-MIL-53-NO2-AS\n",
      "amino-mil-53(al) ; Amino-MIL-53(Al)\n",
      "eu3+/tb3+@al-mil-53-cooh ; Eu3+/Tb3+@Al-MIL-53-COOH\n",
      "eu3+@al-mil-53-cooh ; Eu3+@Al-MIL-53-COOH\n",
      "mil-53(al) ; MIL-53(Al)\n",
      "al-mil-53 ; Al-MIL-53\n",
      "mil-53 (al) ; MIL-53 (Al)\n",
      "mil-53(al) (2 naoh+h2bdc 298) ; MIL-53(Al) (2 NaOH+H2BDC 298)\n",
      "mil-53(al) (493) ; MIL-53(Al) (493)\n",
      "mil-53(al) (50%) ; MIL-53(Al) (50%)\n",
      "mil-53(al) (na2bdc 298) ; MIL-53(Al) (Na2BDC 298)\n",
      "mil-53(al) dehydrated ; MIL-53(Al) Dehydrated\n",
      "mil-53(al)-a(li) ; MIL-53(Al)-A(Li)\n",
      "mil-53(al)-b(li) ; MIL-53(Al)-B(Li)\n",
      "mil-53(al)-f127 ; MIL-53(Al)-F127\n",
      "mil-53(al)-nh2 ; MIL-53(Al)-NH2\n",
      "mil-53(al)-nh2 dehydrated ; MIL-53(Al)-NH2 Dehydrated\n",
      "mil-53(al)-oh dehydrated ; MIL-53(Al)-OH Dehydrated\n",
      "mil-53(al)-type a ; MIL-53(Al)-type A\n",
      "mil-53(al)-type b ; MIL-53(Al)-type B\n",
      "mil-53(al)-type c ; MIL-53(Al)-type C\n",
      "mil-53(al)-type d ; MIL-53(Al)-type D\n",
      "mil-53(al)/gnp 10% ; MIL-53(Al)/GNP 10%\n",
      "mil-53(al)/gnp 2.5% ; MIL-53(Al)/GNP 2.5%\n",
      "mil-53(al)/gnp 5% ; MIL-53(Al)/GNP 5%\n",
      "mil-53(al)@mr 15wt% ; MIL-53(Al)@MR 15wt%\n",
      "mil-53(al)@mr 15wt%(irradiated) ; MIL-53(Al)@MR 15wt%(Irradiated)\n",
      "mil-53(al)@mr 15wt%(relaxed) ; MIL-53(Al)@MR 15wt%(Relaxed)\n",
      "mil-53(al)@mr 50wt% ; MIL-53(Al)@MR 50wt%\n",
      "mil-53(al)@mr 50wt%(irradiated) ; MIL-53(Al)@MR 50wt%(Irradiated)\n",
      "mil-53(al)@mr 50wt%(photoswitched) ; MIL-53(Al)@MR 50wt%(Photoswitched)\n",
      "mil-53(al)ht ; MIL-53(Al)ht\n",
      "mil-53(al)it ; MIL-53(Al)it\n",
      "mil-53(al)lp ; MIL-53(Al)lp\n",
      "mil-53(al)np ; MIL-53(Al)np\n",
      "mil-53(al)sol.ht ; MIL-53(Al)sol.ht\n",
      "mil-53-al ; MIL-53-Al\n",
      "mil-53lp (al) ; MIL-53lp (Al)\n",
      "mil-53np (al) ; MIL-53np (Al)\n",
      "nh2-mil-53(al) ; NH2-MIL-53(Al)\n",
      "nh2mil-53(al) ; NH2MIL-53(Al)\n",
      "nh2-mil-53(al) @ psf 25 wt% ; NH2-MIL-53(Al) @ PSF 25 wt%\n",
      "nh2-mil-53(al) @ psf 40 wt% ; NH2-MIL-53(Al) @ PSF 40 Wt%\n",
      "no2-mil-53(al) (no2-h2bdc 298) ; NO2-MIL-53(Al) (NO2-H2BDC 298)\n",
      "s-mil-53(al) ; S-MIL-53(Al)\n",
      "tb3+@al-mil-53-cooh ; Tb3+@Al-MIL-53-COOH\n"
     ]
    }
   ],
   "source": [
    "#mil53al and al-mil-53\n",
    "\n",
    "#al-mil-53-cooh ; Al-MIL-53-COOH\n",
    "#cooh-mil-53(al) ; COOH-MIL-53(Al)\n",
    "\n",
    "for synonym in synonyms:\n",
    "    name = synonym.lower()\n",
    "    if 'mil' in name and '53' in name and 'al' in name:\n",
    "        print(name, ';', synonym)"
   ]
  },
  {
   "cell_type": "code",
   "execution_count": 191,
   "metadata": {},
   "outputs": [
    {
     "name": "stdout",
     "output_type": "stream",
     "text": [
      "mil-53(cr) ; MIL-53(Cr)\n",
      "cr-mil-53 ; Cr-MIL-53\n",
      "mil-53 (cr) ; MIL-53 (Cr)\n",
      "mil-53(cr)-lp ; MIL-53(Cr)-lp\n",
      "mil-53 (cr)-lp ; MIL-53 (Cr)-lp\n",
      "mil-53(cr-fe) ; MIL-53(Cr-Fe)\n",
      "mil-53(cr/fe) ; MIL-53(Cr/Fe)\n",
      "mil-53-cr ; MIL-53-Cr\n"
     ]
    }
   ],
   "source": [
    "#mil53cr and crmil53\n",
    "for synonym in synonyms:\n",
    "    name = synonym.lower()\n",
    "    if 'mil' in name and '53' in name and 'cr' in name:\n",
    "        print(name, ';', synonym)"
   ]
  },
  {
   "cell_type": "code",
   "execution_count": 192,
   "metadata": {},
   "outputs": [
    {
     "name": "stdout",
     "output_type": "stream",
     "text": [
      "mil-53(cr-fe) ; MIL-53(Cr-Fe)\n",
      "mil-53(cr/fe) ; MIL-53(Cr/Fe)\n"
     ]
    }
   ],
   "source": [
    "#mil53crfe\n",
    "for synonym in synonyms:\n",
    "    name = synonym.lower()\n",
    "    if 'mil' in name and '53' in name and 'cr' in name and 'fe' in name:\n",
    "        print(name, ';', synonym)"
   ]
  },
  {
   "cell_type": "code",
   "execution_count": 193,
   "metadata": {},
   "outputs": [
    {
     "name": "stdout",
     "output_type": "stream",
     "text": [
      "mil-53(cu) ; MIL-53(Cu)\n",
      "mil-53-cu ; MIL-53-Cu\n"
     ]
    }
   ],
   "source": [
    "#mil53cu\n",
    "for synonym in synonyms:\n",
    "    name = synonym.lower()\n",
    "    if 'mil' in name and '53' in name and 'cu' in name:\n",
    "        print(name, ';', synonym)"
   ]
  },
  {
   "cell_type": "code",
   "execution_count": 194,
   "metadata": {},
   "outputs": [
    {
     "name": "stdout",
     "output_type": "stream",
     "text": [
      "(ni/co 25:75)-mof-74 ; (Ni/Co 25:75)-MOF-74\n",
      "(ni/co 50:50)-mof-74 ; (Ni/Co 50:50)-MOF-74\n",
      "(ni/co 75:25)-mof-74 ; (Ni/Co 75:25)-MOF-74\n",
      "mof-74-ni ; MOF-74-Ni\n",
      "mof-74ni ; MOF-74Ni\n",
      "mof-74ni 70c ; MOF-74Ni 70C\n",
      "mof-74ni-ag ; MOF-74Ni-Ag\n",
      "ni-mof-74 ; Ni-MOF-74\n",
      "ni-mof-74 (0.0072) ; Ni-MOF-74 (0.0072)\n",
      "ni-mof-74 (1) ; Ni-MOF-74 (1)\n",
      "ni-mof-74 (2) ; Ni-MOF-74 (2)\n",
      "ni-mof-74 (2.9465) ; Ni-MOF-74 (2.9465)\n",
      "ni-mof-74 (bss) ; Ni-MOF-74 (BSS)\n",
      "ni-mof-74 (bssp) ; Ni-MOF-74 (BSSP)\n",
      "ni-mof-74 (buch) ; Ni-MOF-74 (Buch)\n",
      "ni-mof-74 (dl) ; Ni-MOF-74 (DL)\n",
      "ni-mof-74 with residual meoh ; Ni-MOF-74 with residual MeOH\n",
      "ni50co-mof-74 ; Ni50Co-MOF-74\n",
      "ni90cu-mof-74 ; Ni90Cu-MOF-74\n",
      "nimof-74 ; NiMOF-74\n"
     ]
    }
   ],
   "source": [
    "#mof74ni and nimof74\n",
    "for synonym in synonyms:\n",
    "    name = synonym.lower()\n",
    "    if 'mof' in name and '74' in name and 'ni' in name:\n",
    "        print(name, ';', synonym)"
   ]
  },
  {
   "cell_type": "code",
   "execution_count": 195,
   "metadata": {
    "scrolled": true
   },
   "outputs": [
    {
     "name": "stdout",
     "output_type": "stream",
     "text": [
      "36 wt% cucl/nax ; 36 wt% CuCl/NaX\n",
      "36 wt% cucl/zeolite nax ; 36 Wt% CuCl/Zeolite NaX\n",
      "aps/nanosilica-torlon hollow fiber sorbent-hexane rinsed ; APS/nanosilica-Torlon hollow fiber sorbent-hexane rinsed\n",
      "carbonyl_hydroxyl functionalized graphite (20 angstrom pore width) ; Carbonyl_Hydroxyl Functionalized Graphite (20 Angstrom pore width)\n",
      "carbonyl_hydroxyl functionalized graphite (9.2 angstrom pore width) ; Carbonyl_Hydroxyl Functionalized Graphite (9.2 Angstrom pore width)\n",
      "clay nanopores (width=1nm) with cation exchange ; Clay nanopores (width=1nm) with cation exchange\n",
      "clay nanopores (width=4nm) with cation exchange ; Clay nanopores (width=4nm) with cation exchange\n",
      "epoxy functionalized graphite (20 angstrom pore width) ; Epoxy Functionalized Graphite (20 Angstrom pore width)\n",
      "epoxy functionalized graphite (9.2 angstrom pore width) ; Epoxy Functionalized Graphite (9.2 Angstrom pore width)\n",
      "hydroxyl functionalized graphite (20 angstrom pore width) ; Hydroxyl Functionalized Graphite (20 Angstrom pore width)\n",
      "hydroxyl functionalized graphite (9.2 angstrom pore width) ; Hydroxyl Functionalized Graphite (9.2 Angstrom pore width)\n",
      "hydroxyl_carbonyl functionalized graphite (20 angstrom pore width) ; Hydroxyl_Carbonyl Functionalized Graphite (20 Angstrom pore width)\n",
      "hydroxyl_carbonyl functionalized graphite (9.2 angstrom pore width) ; Hydroxyl_Carbonyl Functionalized Graphite (9.2 Angstrom pore width)\n",
      "in-mil-68(hexagonal rods) ; In-MIL-68(hexagonal rods)\n",
      "na-x ; Na-X\n",
      "nax ; NaX\n",
      "swcnt external pore (width=1.5nm) ; SWCNT external pore (width=1.5nm)\n",
      "swcnt external pore (width=2nm) ; SWCNT external pore (width=2nm)\n",
      "swcnt external pore (width=3nm) ; SWCNT external pore (width=3nm)\n",
      "swcnt external pore (width=4nm) ; SWCNT external pore (width=4nm)\n",
      "swcnt external pore (width=5nm) ; SWCNT external pore (width=5nm)\n",
      "swcnt external pore (width=6nm) ; SWCNT external pore (width=6nm)\n",
      "swcnt external pore (width=7nm) ; SWCNT external pore (width=7nm)\n",
      "swcnt external pore (width=8nm) ; SWCNT external pore (width=8nm)\n",
      "zeolite na-lsx ; Zeolite Na-LSX\n",
      "zeolite na13x ; Zeolite Na13X\n",
      "zeolite nax ; Zeolite NaX\n",
      "zeolite ninax ; Zeolite NiNaX\n",
      "zeolite ninax-49 ; Zeolite NiNaX-49\n",
      "zeolite ninax-65 ; Zeolite NiNaX-65\n",
      "zeolite ninax-70 ; Zeolite NiNaX-70\n",
      "zeolite ninax-73 ; Zeolite NiNaX-73\n",
      "zeolite ninax-75 ; Zeolite NiNaX-75\n",
      "zeolite pdnax-31 ; Zeolite PdNaX-31\n",
      "zeolite pdnax-43 ; Zeolite PdNaX-43\n",
      "zeolite pdnax-52 ; Zeolite PdNaX-52\n",
      "zeolite pdnax-58 ; Zeolite PdNaX-58\n",
      "zeolite pdnax-67 ; Zeolite PdNaX-67\n",
      "zeolite rhnax ; Zeolite RhNaX\n",
      "zeolite rhnax-29 ; Zeolite RhNaX-29\n",
      "zeolite rhnax-44 ; Zeolite RhNaX-44\n",
      "zeolite rhnax-55 ; Zeolite RhNaX-55\n",
      "zeolite rhnax-69 ; Zeolite RhNaX-69\n",
      "zeolite rhnax-73 ; Zeolite RhNaX-73\n",
      "zeolite runax-20 ; Zeolite RuNaX-20\n",
      "zeolite runax-32 ; Zeolite RuNaX-32\n",
      "zeolite runax-40 ; Zeolite RuNaX-40\n",
      "zeolite runax-46 ; Zeolite RuNaX-46\n",
      "zeolite runax-52 ; Zeolite RuNaX-52\n"
     ]
    }
   ],
   "source": [
    "#nax\n",
    "for synonym in synonyms:\n",
    "    name = synonym.lower()\n",
    "    if 'na' in name and 'x' in name:\n",
    "        print(name, ';', synonym)"
   ]
  },
  {
   "cell_type": "code",
   "execution_count": 198,
   "metadata": {},
   "outputs": [
    {
     "name": "stdout",
     "output_type": "stream",
     "text": [
      "na-zsm-5 ; Na-ZSM-5\n",
      "nazsm-5 ; NaZSM-5\n",
      "na1zsm-5 ; Na1ZSM-5\n",
      "na2zsm-5 ; Na2ZSM-5\n",
      "na4zsm-5 ; Na4ZSM-5\n",
      "na8zsm-5 ; Na8ZSM-5\n"
     ]
    }
   ],
   "source": [
    "#nazsm5\n",
    "for synonym in synonyms:\n",
    "    name = synonym.lower()\n",
    "    if 'na' in name and 'zsm' in name and '5' in name:\n",
    "        print(name, ';', synonym)"
   ]
  },
  {
   "cell_type": "code",
   "execution_count": 199,
   "metadata": {},
   "outputs": [
    {
     "name": "stdout",
     "output_type": "stream",
     "text": [
      "nc-methanol-a-333-k ; NC-methanol-a-333-K\n",
      "nc-methanol-a-333k ; NC-methanol-a-333k\n"
     ]
    }
   ],
   "source": [
    "#ncmethanola333k\n",
    "for synonym in synonyms:\n",
    "    name = synonym.lower()\n",
    "    if 'methanol' in name and '333' in name:\n",
    "        print(name, ';', synonym)"
   ]
  },
  {
   "cell_type": "code",
   "execution_count": 202,
   "metadata": {
    "scrolled": true
   },
   "outputs": [
    {
     "name": "stdout",
     "output_type": "stream",
     "text": [
      "al-mil-53-0%nh2 ; Al-MIL-53-0%NH2\n",
      "al-mil-53-100%nh2 ; Al-MIL-53-100%NH2\n",
      "al-mil-53-11.1%nh2 ; Al-MIL-53-11.1%NH2\n",
      "al-mil-53-20%nh2 ; Al-MIL-53-20%NH2\n",
      "al-mil-53-50%nh2 ; Al-MIL-53-50%NH2\n",
      "al-mil-53-66.6%nh2 ; Al-MIL-53-66.6%NH2\n",
      "al-mil-53-66.7%nh2 ; Al-MIL-53-66.7%NH2\n",
      "al-mil-53-nh2 ; Al-MIL-53-NH2\n",
      "mil-53(al)-nh2 ; MIL-53(Al)-NH2\n",
      "mil-53(al)-nh2 dehydrated ; MIL-53(Al)-NH2 Dehydrated\n",
      "nh2-mil-53(al) ; NH2-MIL-53(Al)\n",
      "nh2mil-53(al) ; NH2MIL-53(Al)\n",
      "nh2-mil-53(al) @ psf 25 wt% ; NH2-MIL-53(Al) @ PSF 25 wt%\n",
      "nh2-mil-53(al) @ psf 40 wt% ; NH2-MIL-53(Al) @ PSF 40 Wt%\n"
     ]
    }
   ],
   "source": [
    "#nh2mil53al\n",
    "for synonym in synonyms:\n",
    "    name = synonym.lower()\n",
    "    if 'nh2' in name and 'mil' in name and '53' in name and 'al' in name:\n",
    "        print(name, ';', synonym)"
   ]
  },
  {
   "cell_type": "code",
   "execution_count": 203,
   "metadata": {},
   "outputs": [
    {
     "name": "stdout",
     "output_type": "stream",
     "text": [
      "ni(bodc)(ted)0.5 ; Ni(bodc)(ted)0.5\n",
      "[ni(bodc)(ted)0.5] ; [Ni(bodc)(ted)0.5]\n"
     ]
    }
   ],
   "source": [
    "#nibodcted0.5\n",
    "for synonym in synonyms:\n",
    "    name = synonym.lower()\n",
    "    if 'ni' in name and 'bod' in name and '0.5' in name:\n",
    "        print(name, ';', synonym)"
   ]
  },
  {
   "cell_type": "code",
   "execution_count": 205,
   "metadata": {
    "scrolled": true
   },
   "outputs": [
    {
     "name": "stdout",
     "output_type": "stream",
     "text": [
      "(h3o)4[ni6(pi3-o)2(pi2-osc2h6)2(so4)2(tatb)8/3].4c2h6o.13h2o ; (H3O)4[Ni6(pi3-O)2(pi2-OSC2H6)2(SO4)2(TATB)8/3].4C2H6O.13H2O\n",
      "(ni3o)2ni(h2o)2(bdc)6(na)4 ; (Ni3O)2Ni(H2O)2(BDC)6(na)4\n",
      "co-(h2o)2[ni(cn)4]*3h2o ; Co-(H2O)2[Ni(CN)4]*3H2O\n",
      "fe2nio(piv)6(l)(h2o) ; Fe2NiO(Piv)6(L)(H2O)\n",
      "ni2(bdc)2(dabco)4dmf1.5h2o ; Ni2(BDC)2(dabco)4DMF1.5H2O\n",
      "ni2(btec)((bipy)3)3dmf2h2o ; Ni2(BTEC)((bipy)3)3DMF2H2O\n",
      "ni2(dhtp)(h2o)2*8h2o ; Ni2(dhtp)(H2O)2*8H2O\n",
      "ni3(pzdc)2(7hade)2(h2o)0.6 ; Ni3(pzdc)2(7Hade)2(H2O)0.6\n",
      "ni3[(co4cl)3(btt)8(h2o)12]2 ; Ni3[(Co4Cl)3(BTT)8(H2O)12]2\n",
      "zn(l)(nip)*(dmf)0.5(h2o)0.5 ; Zn(L)(nip)*(DMF)0.5(H2O)0.5\n",
      "[(ni2l2)(bptc)]*6h2o*3def ; [(Ni2L2)(bptc)]*6H2O*3DEF\n",
      "[(ni2l4)(bptc)]*14h2o ; [(Ni2L4)(bptc)]*14H2O\n",
      "[(nil)3(tcba)2]*12h2o ; [(NiL)3(TCBA)2]*12H2O\n",
      "[cd4cl(ni-l)3(ni-hl)(h2o)6(dmf)]*4dmf ; [Cd4Cl(Ni-L)3(Ni-HL)(H2O)6(DMF)]*4DMF\n",
      "[cu(hoxonic)(h2o)]n ; [Cu(Hoxonic)(H2O)]n\n",
      "[mniii(3-meosal)2(meoh)(h2o)] ; [MnIII(3-MeOsal)2(MeOH)(H2O)]\n",
      "[ni(dipn)]2[ni(dipn)(h2o)][fe(cn)6]2.2h2o ; [Ni(dipn)]2[Ni(dipn)(H2O)][Fe(CN)6]2.2H2O\n",
      "[ni(inaip)(h2o)]*2h2o ; [Ni(INAIP)(H2O)]*2H2O\n",
      "[ni(ncs)2(bpe)2]*3h2o*2c2h6so ; [Ni(NCS)2(bpe)2]*3H2O*2C2H6SO\n",
      "[ni(pca)(bdc)0.5(h2o)2] ; [Ni(pca)(bdc)0.5(H2O)2]\n",
      "[ni(ppmdc)(h2o)2] ; [Ni(ppmdc)(H2O)2]\n",
      "[ni2(c2o4)(l)2]n*6nh2o ; [Ni2(C2O4)(L)2]n*6nH2O\n",
      "[ni2(c8h2o6)-(h2o)2]*8h2o ; [Ni2(C8H2O6)-(H2O)2]*8H2O\n",
      "[ni3(bix)3(ptco)2*(h2o)4.6h2o]n ; [Ni3(bix)3(PTCO)2*(H2O)4.6H2O]n\n",
      "[ni3(mu2-h2o)2(bdc)3(pyrazine)2]*3(dma) ; [Ni3(mu2-H2O)2(bdc)3(pyrazine)2]*3(DMA)\n",
      "[ni4(dpa)4(pyz)4(h2o)8]*11h2o ; [Ni4(dpa)4(pyz)4(H2O)8]*11H2O\n",
      "[ni7(oh)4(h2o)2(ina)4(ip)3] ; [Ni7(OH)4(H2O)2(ina)4(ip)3]\n",
      "[ni7(oh)4(h2o)2(ina)4(pip)3] ; [Ni7(OH)4(H2O)2(ina)4(pip)3]\n",
      "[nil]2[simo2o40]*4h2o ; [NiL]2[SiMo2O40]*4H2O\n",
      "{[(nilallyl)2(butc)]*2def*2h2o} ; {[(NiLallyl)2(BuTC)]*2DEF*2H2O}\n",
      "{[(nilallyl)2(butc)]*3h2o} ; {[(NiLallyl)2(BuTC)]*3H2O}\n",
      "{[ni(cyclam)]2(mtb)}n]*8nh2o*4ndmf ; {[Ni(cyclam)]2(mtb)}n]*8nH2O*4nDMF\n",
      "[{[ni(cyclam)]2(mtb)}n]*8nh2o*4ndmf ; [{[Ni(cyclam)]2(mtb)}n]*8nH2O*4nDMF\n",
      "{[ni(hptz)2] 7h2o}n ; {[Ni(Hptz)2] 7H2O}n\n"
     ]
    }
   ],
   "source": [
    "#nicyclam2mtbn*8nh2o*4ndmf\n",
    "\n",
    "#maybe msitake?\n",
    "#[ni7(oh)4(h2o)2(ina)4(ip)3] ; [Ni7(OH)4(H2O)2(ina)4(ip)3]\n",
    "#[ni7(oh)4(h2o)2(ina)4(pip)3] ; [Ni7(OH)4(H2O)2(ina)4(pip)3]\n",
    "\n",
    "for synonym in synonyms:\n",
    "    name = synonym.lower()\n",
    "    if 'ni' in name and 'h2o' in name:\n",
    "        print(name, ';', synonym)"
   ]
  },
  {
   "cell_type": "code",
   "execution_count": 206,
   "metadata": {},
   "outputs": [
    {
     "name": "stdout",
     "output_type": "stream",
     "text": [
      "ni-dabco ; Ni-DABCO\n",
      "ni2(bdc)2(dabco)4dmf1.5h2o ; Ni2(BDC)2(dabco)4DMF1.5H2O\n",
      "nidabco ; NiDABCO\n"
     ]
    }
   ],
   "source": [
    "#nidabco\n",
    "for synonym in synonyms:\n",
    "    name = synonym.lower()\n",
    "    if 'ni' in name and 'dabco' in name:\n",
    "        print(name, ';', synonym)"
   ]
  },
  {
   "cell_type": "code",
   "execution_count": 209,
   "metadata": {},
   "outputs": [
    {
     "name": "stdout",
     "output_type": "stream",
     "text": [
      "ni(bpy)(dbm)2 ; Ni(Bpy)(DBM)2\n",
      "ni(bpy)(dbm)2+polystyrene ; Ni(Bpy)(DBM)2+polystyrene\n",
      "ni-dbm-bpy ; Ni-DBM-BPY\n",
      "nidbm-bpy ; NiDBM-Bpy\n"
     ]
    }
   ],
   "source": [
    "#nidbmbpy\n",
    "for synonym in synonyms:\n",
    "    name = synonym.lower()\n",
    "    if 'ni' in name and 'dbm' in name and 'bpy' in name:\n",
    "        print(name, ';', synonym)"
   ]
  },
  {
   "cell_type": "code",
   "execution_count": 210,
   "metadata": {},
   "outputs": [
    {
     "name": "stdout",
     "output_type": "stream",
     "text": [
      "cu-dobdc (dreiding parameters-universal force field + trappe model) ; Cu-DOBDC (DREIDING Parameters-Universal Force Field + TraPPE Model)\n",
      "ni-dobdc ; Ni-DOBDC\n",
      "ni/dobdc ; Ni/DOBDC\n",
      "ni/dobdc loaded with 1 mmol/g water ; Ni/DOBDC loaded with 1 mmol/g water\n",
      "ni/dobdc loaded with 10 mmol/g water ; Ni/DOBDC loaded with 10 mmol/g water\n",
      "ni/dobdc loaded with 19.9 mmol/g water ; Ni/DOBDC loaded with 19.9 mmol/g water\n",
      "ni/dobdc loaded with 26.7 mmol/g water ; Ni/DOBDC loaded with 26.7 mmol/g water\n",
      "ni/dobdc loaded with 3.4 mmol/g water ; Ni/DOBDC loaded with 3.4 mmol/g water\n",
      "ni2(dobdc) ; Ni2(dobdc)\n",
      "nidobdc ; NiDOBDC\n"
     ]
    }
   ],
   "source": [
    "#nidobdc\n",
    "for synonym in synonyms:\n",
    "    name = synonym.lower()\n",
    "    if 'ni' in name and 'dobdc' in name:\n",
    "        print(name, ';', synonym)"
   ]
  },
  {
   "cell_type": "code",
   "execution_count": 217,
   "metadata": {},
   "outputs": [
    {
     "name": "stdout",
     "output_type": "stream",
     "text": [
      "ni(dpac)ni(cn)4 ; Ni(dpac)Ni(CN)4\n",
      "ni(dpac)[ni(cn)4] ; Ni(Dpac)[Ni(CN)4]\n"
     ]
    }
   ],
   "source": [
    "#nidpacnicn4\n",
    "for synonym in synonyms:\n",
    "    name = synonym.lower()\n",
    "    if 'ni' in name and 'dpac' in name and 'cn' in name:\n",
    "        print(name, ';', synonym)"
   ]
  },
  {
   "cell_type": "code",
   "execution_count": 219,
   "metadata": {},
   "outputs": [
    {
     "name": "stdout",
     "output_type": "stream",
     "text": [
      "ni(pyz)ni(cn)4 ; Ni(pyz)Ni(CN)4\n",
      "ni(pyz)[ni(cn)4] ; Ni(pyz)[Ni(CN)4]\n"
     ]
    }
   ],
   "source": [
    "#nipyznicn4\n",
    "for synonym in synonyms:\n",
    "    name = synonym.lower()\n",
    "    if 'ni' in name and 'pyz' in name and 'cn' in name:\n",
    "        print(name, ';', synonym)"
   ]
  },
  {
   "cell_type": "code",
   "execution_count": 221,
   "metadata": {},
   "outputs": [
    {
     "name": "stdout",
     "output_type": "stream",
     "text": [
      "[rh(ii)2(bza)4(2-epyz)]n ; [Rh(II)2(bza)4(2-epyz)]n\n",
      "[rhii2(bza)4(2-epyz)]n ; [RhII2(bza)4(2-epyz)]n\n"
     ]
    }
   ],
   "source": [
    "#rhii2bza42epyzn\n",
    "for synonym in synonyms:\n",
    "    name = synonym.lower()\n",
    "    if 'ii' in name and 'epyz' in name:\n",
    "        print(name, ';', synonym)"
   ]
  },
  {
   "cell_type": "code",
   "execution_count": 225,
   "metadata": {
    "scrolled": true
   },
   "outputs": [
    {
     "name": "stdout",
     "output_type": "stream",
     "text": [
      "100krho-zmof ; 100Krho-ZMOF\n",
      "100lirho-zmof ; 100Lirho-ZMOF\n",
      "100narho-zmof ; 100Narho-ZMOF\n",
      "70lirho-zmof ; 70Lirho-ZMOF\n",
      "80krho-zmof ; 80Krho-ZMOF\n",
      "84narho-zmof ; 84Narho-ZMOF\n",
      "al-rho-zmof ; Al-Rho-ZMOF\n",
      "li-rho-zmof ; Li-Rho-ZMOF\n",
      "mg-rho-zmof ; Mg-Rho-ZMOF\n",
      "na-rho-zmof ; Na-Rho-ZMOF\n",
      "nh4-rho-zmof ; NH4-Rho-ZMOF\n",
      "rho-zmof ; Rho-ZMOF\n",
      "rhozmof ; RhoZMOF\n",
      "rhozmof(co) ; RhoZMOF(Co)\n",
      "rhozmof(cu) ; RhoZMOF(CU)\n",
      "rhozmof(ni) ; RhoZMOF(Ni)\n",
      "sr-rho-zmof ; Sr-Rho-ZMOF\n"
     ]
    }
   ],
   "source": [
    "#rhozmof\n",
    "for synonym in synonyms:\n",
    "    name = synonym.lower()\n",
    "    if 'rho' in name and 'zmof' in name:\n",
    "        print(name, ';', synonym)"
   ]
  },
  {
   "cell_type": "code",
   "execution_count": 226,
   "metadata": {},
   "outputs": [
    {
     "name": "stdout",
     "output_type": "stream",
     "text": [
      "hg2+-rumofs ; Hg2+-RuMOFs\n",
      "ru-mof ; Ru-MOF\n",
      "ru/mof ; Ru/MOF\n",
      "ru@mof-5 ; Ru@MOF-5\n",
      "ru@zr-mof ; Ru@Zr-MOF\n",
      "rumof ; RuMOF\n"
     ]
    }
   ],
   "source": [
    "#rumof\n",
    "for synonym in synonyms:\n",
    "    name = synonym.lower()\n",
    "    if 'ru' in name and 'mof' in name:\n",
    "        print(name, ';', synonym)"
   ]
  },
  {
   "cell_type": "code",
   "execution_count": 227,
   "metadata": {},
   "outputs": [
    {
     "name": "stdout",
     "output_type": "stream",
     "text": [
      "100ksod-zmof ; 100Ksod-ZMOF\n",
      "100lisod-zmof ; 100Lisod-ZMOF\n",
      "22nasod-zmof ; 22Nasod-ZMOF\n",
      "27lisod-zmof ; 27Lisod-ZMOF\n",
      "28ksod-zmof ; 28Ksod-ZMOF\n",
      "4cs+me-sodzmof ; 4Cs+Me-SodZMOF\n",
      "4k+me-sodzmof ; 4K+Me-SodZMOF\n",
      "4li+me-sodzmof ; 4Li+Me-SodZMOF\n",
      "4na+me-sodzmof ; 4Na+Me-SodZMOF\n",
      "ed-sod-zmof ; ED-sod-ZMOF\n",
      "na+me-sodzmof ; Na+Me-SodZMOF\n",
      "sod-zmof ; Sod-ZMOF\n",
      "sodzmof ; SodZMOF\n"
     ]
    }
   ],
   "source": [
    "#sodzmof\n",
    "for synonym in synonyms:\n",
    "    name = synonym.lower()\n",
    "    if 'sod' in name and 'zmof' in name:\n",
    "        print(name, ';', synonym)"
   ]
  },
  {
   "cell_type": "code",
   "execution_count": 230,
   "metadata": {
    "scrolled": true
   },
   "outputs": [
    {
     "name": "stdout",
     "output_type": "stream",
     "text": [
      "y-type high silica zeolite ; Y-type High Silica Zeolite\n",
      "zeolite agy ; Zeolite AgY\n",
      "zeolite bay ; Zeolite BaY\n",
      "zeolite ce/husy ; Zeolite Ce/HUSY\n",
      "zeolite csy ; Zeolite CsY\n",
      "zeolite day ; Zeolite DAY\n",
      "zeolite h-yz ; Zeolite H-YZ\n",
      "zeolite husy ; Zeolite HUSY\n",
      "zeolite hy ; Zeolite HY\n",
      "zeolite ky ; Zeolite KY\n",
      "zeolite li-y ; Zeolite Li-Y\n",
      "zeolite liy ; Zeolite LiY\n",
      "zeolite mym ; Zeolite MYm\n",
      "zeolite na-y ; Zeolite Na-Y\n",
      "zeolite nay ; Zeolite NaY\n",
      "zeolite nay-10 ; Zeolite NaY-10\n",
      "zeolite nay52 ; Zeolite NaY52\n",
      "zeolite nay56 ; Zeolite NaY56\n",
      "zeolite pdy ; Zeolite PdY\n",
      "zeolite rwy ; Zeolite RWY\n",
      "zeolite usy ; Zeolite USY\n",
      "zeolite y ; Zeolite Y\n"
     ]
    }
   ],
   "source": [
    "#zeolite liy\n",
    "#zeolite nay\n",
    "\n",
    "for synonym in synonyms:\n",
    "    name = synonym.lower()\n",
    "    if 'zeolite' in name and 'li' in name and 'y' in name:\n",
    "        print(name, ';', synonym)"
   ]
  },
  {
   "cell_type": "code",
   "execution_count": 231,
   "metadata": {
    "scrolled": true
   },
   "outputs": [
    {
     "name": "stdout",
     "output_type": "stream",
     "text": [
      "36 wt% cucl/zeolite nax ; 36 Wt% CuCl/Zeolite NaX\n",
      "zeolite ana ; Zeolite ANA\n",
      "zeolite cana-a ; Zeolite CaNa-A\n",
      "zeolite ls-na-kfi ; Zeolite LS-Na-KFI\n",
      "zeolite na-a ; Zeolite Na-A\n",
      "zeolite na-lsx ; Zeolite Na-LSX\n",
      "zeolite na-mfi ; Zeolite Na-MFI\n",
      "zeolite na-mof ; Zeolite Na-MOF\n",
      "zeolite na-mor ; Zeolite Na-MOR\n",
      "zeolite na-y ; Zeolite Na-Y\n",
      "zeolite na-zk-5 ; Zeolite Na-ZK-5\n",
      "zeolite na13x ; Zeolite Na13X\n",
      "zeolite naa ; Zeolite NaA\n",
      "zeolite naa-4 ; Zeolite NaA-4\n",
      "zeolite nap1 ; Zeolite NaP1\n",
      "zeolite nax ; Zeolite NaX\n",
      "zeolite nay ; Zeolite NaY\n",
      "zeolite nay-10 ; Zeolite NaY-10\n",
      "zeolite nay52 ; Zeolite NaY52\n",
      "zeolite nay56 ; Zeolite NaY56\n",
      "zeolite ninax ; Zeolite NiNaX\n",
      "zeolite ninax-49 ; Zeolite NiNaX-49\n",
      "zeolite ninax-65 ; Zeolite NiNaX-65\n",
      "zeolite ninax-70 ; Zeolite NiNaX-70\n",
      "zeolite ninax-73 ; Zeolite NiNaX-73\n",
      "zeolite ninax-75 ; Zeolite NiNaX-75\n",
      "zeolite pdnax-31 ; Zeolite PdNaX-31\n",
      "zeolite pdnax-43 ; Zeolite PdNaX-43\n",
      "zeolite pdnax-52 ; Zeolite PdNaX-52\n",
      "zeolite pdnax-58 ; Zeolite PdNaX-58\n",
      "zeolite pdnax-67 ; Zeolite PdNaX-67\n",
      "zeolite rhnax ; Zeolite RhNaX\n",
      "zeolite rhnax-29 ; Zeolite RhNaX-29\n",
      "zeolite rhnax-44 ; Zeolite RhNaX-44\n",
      "zeolite rhnax-55 ; Zeolite RhNaX-55\n",
      "zeolite rhnax-69 ; Zeolite RhNaX-69\n",
      "zeolite rhnax-73 ; Zeolite RhNaX-73\n",
      "zeolite runax-20 ; Zeolite RuNaX-20\n",
      "zeolite runax-32 ; Zeolite RuNaX-32\n",
      "zeolite runax-40 ; Zeolite RuNaX-40\n",
      "zeolite runax-46 ; Zeolite RuNaX-46\n",
      "zeolite runax-52 ; Zeolite RuNaX-52\n"
     ]
    }
   ],
   "source": [
    "#zeolite naa\n",
    "for synonym in synonyms:\n",
    "    name = synonym.lower()\n",
    "    if 'zeolite' in name and 'na' in name and 'a' in name:\n",
    "        print(name, ';', synonym)"
   ]
  },
  {
   "cell_type": "code",
   "execution_count": 237,
   "metadata": {
    "scrolled": true
   },
   "outputs": [
    {
     "name": "stdout",
     "output_type": "stream",
     "text": [
      "k-zif-78 ; K-ZIF-78\n",
      "li-zif-78 ; Li-ZIF-78\n",
      "na-zif-78 ; Na-ZIF-78\n",
      "zif-7-8 ; ZIF-7-8\n",
      "zif-78 ; ZIF-78\n",
      "zif-8 (crystal = 0.47 micrometers) ; ZIF-8 (crystal = 0.47 micrometers)\n",
      "zif-8 (crystal = 0.73 micrometers) ; ZIF-8 (crystal = 0.73 micrometers)\n",
      "zif-8-90 70% ; ZIF-8-90 70%\n",
      "zif-8-m_100_7d ; ZIF-8-M_100_7d\n",
      "zif-8-w_100_7d ; ZIF-8-W_100_7d\n"
     ]
    }
   ],
   "source": [
    "#maybe zif78?\n",
    "for synonym in synonyms:\n",
    "    name = synonym.lower()\n",
    "    if 'zif' in name and '7' in name and '8' in name:\n",
    "        print(name, ';', synonym)"
   ]
  },
  {
   "cell_type": "code",
   "execution_count": 239,
   "metadata": {},
   "outputs": [
    {
     "name": "stdout",
     "output_type": "stream",
     "text": [
      "zif-7(lp) ; ZIF-7(lp)\n",
      "zif-7(lp+) ; ZIF-7(lp+)\n"
     ]
    }
   ],
   "source": [
    "#maybe zif7lp?\n",
    "for synonym in synonyms:\n",
    "    name = synonym.lower()\n",
    "    if 'zif' in name and '7' in name and 'lp' in name:\n",
    "        print(name, ';', synonym)"
   ]
  },
  {
   "cell_type": "code",
   "execution_count": 240,
   "metadata": {},
   "outputs": [
    {
     "name": "stdout",
     "output_type": "stream",
     "text": [
      "100krho-zmof ; 100Krho-ZMOF\n",
      "100ksod-zmof ; 100Ksod-ZMOF\n",
      "100lirho-zmof ; 100Lirho-ZMOF\n",
      "100lisod-zmof ; 100Lisod-ZMOF\n",
      "100narho-zmof ; 100Narho-ZMOF\n",
      "22nasod-zmof ; 22Nasod-ZMOF\n",
      "27lisod-zmof ; 27Lisod-ZMOF\n",
      "28ksod-zmof ; 28Ksod-ZMOF\n",
      "4cs+me-sodzmof ; 4Cs+Me-SodZMOF\n",
      "4k+me-sodzmof ; 4K+Me-SodZMOF\n",
      "4li+me-sodzmof ; 4Li+Me-SodZMOF\n",
      "4na+me-sodzmof ; 4Na+Me-SodZMOF\n",
      "70lirho-zmof ; 70Lirho-ZMOF\n",
      "80krho-zmof ; 80Krho-ZMOF\n",
      "84narho-zmof ; 84Narho-ZMOF\n",
      "activated dcpcbim-mof-zn ; Activated DCPCBim-MOF-Zn\n",
      "al-rho-zmof ; Al-Rho-ZMOF\n",
      "al-usf-zmof ; Al-usf-ZMOF\n",
      "ca-usf-zmof ; Ca-usf-ZMOF\n",
      "co50zn-mof-74 ; Co50Zn-MOF-74\n",
      "cobalt triazolyl phosphonate mof ; Cobalt Triazolyl Phosphonate MOF\n",
      "cobalt triazolyl phosphonate mof (95%rh) ; Cobalt Triazolyl Phosphonate MOF (95%RH)\n",
      "cobalt triazolyl phosphonate mof (activated at 403k) ; Cobalt Triazolyl Phosphonate MOF (Activated at 403K)\n",
      "cs-usf-zmof ; Cs-usf-ZMOF\n",
      "cu/zno@mof-5 ; Cu/ZnO@MOF-5\n",
      "dcpcbim-mof-zn ; DCPCBim-MOF-Zn\n",
      "ed-sod-zmof ; ED-sod-ZMOF\n",
      "fmofzn ; FMOFZn\n",
      "k-usf-zmof ; K-usf-ZMOF\n",
      "lanthanum triazolyl phosphonate mof ; Lanthanum Triazolyl Phosphonate MOF\n",
      "li-rho-zmof ; Li-Rho-ZMOF\n",
      "li-usf-zmof ; Li-usf-ZMOF\n",
      "li-zn-mof ; Li-Zn-MOF\n",
      "mg-rho-zmof ; Mg-Rho-ZMOF\n",
      "mg-usf-zmof ; Mg-usf-ZMOF\n",
      "modulated zr-mof-mw ; Modulated Zr-MOF-MW\n",
      "modulated zr-mof-oven ; Modulated Zr-MOF-Oven\n",
      "mof [cu(tzbc)2] ; MOF [Cu(tzbc)2]\n",
      "mof-5-ozn ; MOF-5-Ozn\n",
      "mof-5-zn ; MOF-5-Zn\n",
      "mof-74-zn ; MOF-74-Zn\n",
      "na+me-sodzmof ; Na+Me-SodZMOF\n",
      "na-rho-zmof ; Na-Rho-ZMOF\n",
      "na-usf-zmof ; Na-usf-ZMOF\n",
      "nh4-rho-zmof ; NH4-Rho-ZMOF\n",
      "pmof-2(zn) ; PMOF-2(Zn)\n",
      "rb-usf-zmof ; Rb-usf-ZMOF\n",
      "rho-zmof ; Rho-ZMOF\n",
      "rhozmof ; RhoZMOF\n",
      "rhozmof(co) ; RhoZMOF(Co)\n",
      "rhozmof(cu) ; RhoZMOF(CU)\n",
      "rhozmof(ni) ; RhoZMOF(Ni)\n",
      "ru@zr-mof ; Ru@Zr-MOF\n",
      "sod-zmof ; Sod-ZMOF\n",
      "sodzmof ; SodZMOF\n",
      "sr-rho-zmof ; Sr-Rho-ZMOF\n",
      "sr-usf-zmof ; Sr-usf-ZMOF\n",
      "z-mof ; Z-MOF\n",
      "zeolite na-mof ; Zeolite Na-MOF\n",
      "zmof ; ZMOF\n",
      "mof zn(bdc)(dabco)0.5 ; MOF Zn(BDC)(Dabco)0.5\n",
      "zn(ii)-mof [zn(hpylmdc)(dma)]n ; Zn(II)-MOF [Zn(HPylmDC)(DMA)]n\n",
      "zn-atz-mof ; Zn-Atz-MOF\n",
      "zn-dmof-tm ; Zn-DMOF-TM\n",
      "zn-f-mof-4b ; Zn-F-MOF-4B\n",
      "zn-irmof-1 ; Zn-IRMOF-1\n",
      "zn-mcmof ; Zn-MCMOF\n",
      "zn-mof ; Zn-MOF\n",
      "zn-mof-5 ; Zn-MOF-5\n",
      "zn-mof-74 ; Zn-MOF-74\n",
      "zn-mof-74 (bss) ; Zn-MOF-74 (BSS)\n",
      "zn-mof-74 (bssp) ; Zn-MOF-74 (BSSP)\n",
      "zn-mof-74 (buch) ; Zn-MOF-74 (Buch)\n",
      "zn-mof-74 (dl) ; Zn-MOF-74 (DL)\n",
      "zn-mof-74(cycle 1) ; Zn-MOF-74(cycle 1)\n",
      "zn-mof-74(cycle 2) ; Zn-MOF-74(cycle 2)\n",
      "zn-mof-74(cycle 3) ; Zn-MOF-74(cycle 3)\n",
      "zn-mof-74(cycle 4) ; Zn-MOF-74(cycle 4)\n",
      "zn-mof-74(cycle 5) ; Zn-MOF-74(cycle 5)\n",
      "zn-mof-74/0.25 ; Zn-MOF-74/0.25\n",
      "zn-mof-74/1 ; Zn-MOF-74/1\n",
      "zn-mof-74/18 ; Zn-MOF-74/18\n",
      "zn-mof-74/18-dma ; Zn-MOF-74/18-DMA\n",
      "zn-mof-74/18-nmp ; Zn-MOF-74/18-NMP\n",
      "zn-mof-74/24 ; Zn-MOF-74/24\n",
      "zn-mof-74/240 ; Zn-MOF-74/240\n",
      "zn-mof16 ; Zn-MOF16\n",
      "znmof-74 ; ZnMOF-74\n",
      "znpo-mof ; ZnPO-MOF\n",
      "zr-fum mof (393 k) ; Zr-fum MOF (393 k)\n",
      "zr-fum mof (433 k) ; Zr-fum MOF (433 k)\n",
      "zr-fum mof (473 k) ; Zr-fum MOF (473 k)\n",
      "zr-fum-mof ; Zr-fum-MOF\n",
      "zr-mof ; Zr-MOF\n",
      "zr-mof (0 eq) ; Zr-MOF (0 eq)\n",
      "zr-mof (100 eq) ; Zr-MOF (100 eq)\n",
      "zr-mof fiber ; Zr-MOF fiber\n",
      "zr-mof nanocrystals ; Zr-MOF nanocrystals\n",
      "zr-mof-801-p ; Zr-MOF-801-P\n",
      "zr-mof-801-sc ; Zr-MOF-801-SC\n",
      "zr-mof-802 ; Zr-MOF-802\n",
      "zr-mof-804 ; Zr-MOF-804\n",
      "zr-mof-805 ; Zr-MOF-805\n",
      "zr-mof-806 ; Zr-MOF-806\n",
      "zr-mof-808 ; Zr-MOF-808\n",
      "zr-mof-841 ; Zr-MOF-841\n",
      "zr-mof-nh4-2 ; Zr-MOF-NH4-2\n",
      "[zno]1@mof-5 ; [ZnO]1@MOF-5\n",
      "[zno]2@mof-5 ; [ZnO]2@MOF-5\n",
      "[zno]5@mof-5 ; [ZnO]5@MOF-5\n"
     ]
    }
   ],
   "source": [
    "#zmof\n",
    "for synonym in synonyms:\n",
    "    name = synonym.lower()\n",
    "    if 'z' in name and 'mof' in name:\n",
    "        print(name, ';', synonym)"
   ]
  },
  {
   "cell_type": "code",
   "execution_count": 243,
   "metadata": {},
   "outputs": [
    {
     "name": "stdout",
     "output_type": "stream",
     "text": [
      "[zn2(adc)2(dabco)]n ; [Zn2(adc)2(dabco)]n\n",
      "{zn2(adc)2(dabco)}n ; {Zn2(adc)2(dabco)}n\n"
     ]
    }
   ],
   "source": [
    "#zn2adc2dabcon\n",
    "for synonym in synonyms:\n",
    "    name = synonym.lower()\n",
    "    if 'zn' in name and 'adc' in name and 'dabco' in name:\n",
    "        print(name, ';', synonym)"
   ]
  },
  {
   "cell_type": "code",
   "execution_count": 245,
   "metadata": {
    "scrolled": true
   },
   "outputs": [
    {
     "name": "stdout",
     "output_type": "stream",
     "text": [
      "ibu/zn2(bdc)2(dabco) ; IBU/Zn2(bdc)2(dabco)\n",
      "pd/activated carbon@zn2(bdc)2dabco ; Pd/Activated Carbon@Zn2(bdc)2dabco\n",
      "pt/activated carbon@zn2(bdc)2dabco ; Pt/Activated Carbon@Zn2(bdc)2dabco\n",
      "zn2(bdc)2(dabco) ; Zn2(bdc)2(dabco)\n",
      "zn2(bdc)2dabco ; Zn2(bdc)2dabco\n",
      "[zn2(bdc)2(dabco)] ; [Zn2(bdc)2(dabco)]\n",
      "[zn2(bdc)2(dabco)]n ; [Zn2(bdc)2(dabco)]n\n",
      "[zn2(bdc-(no2)2)2(dabco)] ; [Zn2(bdc-(NO2)2)2(dabco)]\n",
      "[zn2(bdc-br)2(dabco)]n ; [Zn2(bdc-Br)2(dabco)]n\n",
      "[zn2(bdc-cl2)2(dabco)]n ; [Zn2(bdc-Cl2)2(dabco)]n\n",
      "[zn2(bdc-no2)2(dabco)]n ; [Zn2(bdc-NO2)2(dabco)]n\n",
      "[zn2(bme-bdc)2(dabco)] ; [Zn2(BME-bdc)2(dabco)]\n",
      "[zn2(bme-bdc)x(db-bdc)2-xdabco] ; [Zn2(BME-bdc)x(DB-bdc)2-xdabco]\n",
      "[zn2(bme-bdc)x(db-bdc)2-xdabco]n ; [Zn2(BME-bdc)x(DB-bdc)2-xdabco]n\n",
      "[zn2(fu-bdc)2(dabco)]n ; [Zn2(fu-bdc)2(dabco)]n\n",
      "{zn2(bdc)2-(dabco)}n ; {Zn2(bdc)2-(dabco)}n\n"
     ]
    }
   ],
   "source": [
    "#zn2bdc2dabco\n",
    "#zn2bdc2dabcon\n",
    "\n",
    "for synonym in synonyms:\n",
    "    name = synonym.lower()\n",
    "    if 'zn2' in name and 'bdc' in name and 'dabco' in name:\n",
    "        print(name, ';', synonym)"
   ]
  },
  {
   "cell_type": "code",
   "execution_count": 246,
   "metadata": {},
   "outputs": [
    {
     "name": "stdout",
     "output_type": "stream",
     "text": [
      "pd/activated carbon@zn2(bdc)2dabco ; Pd/Activated Carbon@Zn2(bdc)2dabco\n",
      "pt/activated carbon@zn2(bdc)2dabco ; Pt/Activated Carbon@Zn2(bdc)2dabco\n",
      "zn2(bdc)2(ted) ; Zn2(BDC)2(TED)\n",
      "[zn2(bdc)2(ted)] ; [Zn2(bdc)2(ted)]\n",
      "[zn2(bdc)2(ted)]n ; [Zn2(bdc)2(ted)]n\n",
      "zn2bdc2ted ; Zn2BDC2TED\n",
      "[zn2(bdc)2(ted)]n/pst ; [Zn2(bdc)2(ted)]n/PSt\n",
      "[zn2(bdc)2ted]n ; [Zn2(bdc)2ted]n\n",
      "[zn2(bdc)2ted]n.pst ; [Zn2(bdc)2ted]n.pst\n"
     ]
    }
   ],
   "source": [
    "#zn2bdc2ted\n",
    "#zn2bdc2tedn\n",
    "#zn2bdc2tednpst\n",
    "\n",
    "for synonym in synonyms:\n",
    "    name = synonym.lower()\n",
    "    if 'zn2' in name and 'bdc' in name and 'ted' in name:\n",
    "        print(name, ';', synonym)"
   ]
  },
  {
   "cell_type": "code",
   "execution_count": 248,
   "metadata": {},
   "outputs": [
    {
     "name": "stdout",
     "output_type": "stream",
     "text": [
      "zn2(bpdc)2(bpee) ; Zn2(bpdc)2(bpee)\n",
      "zn2(bpdc)2(bpee)*2dmf ; Zn2(BPDC)2(BPEE)*2DMF\n",
      "zn2(bpdc)2(bpee)]*2dmf ; Zn2(bpdc)2(bpee)]*2DMF\n",
      "zn2(bpdc)2-(bpee) ; Zn2(bpdc)2-(bpee)\n",
      "[zn2(bpdc)2(bpee)*2dmf] ; [Zn2(bpdc)2(bpee)*2DMF]\n",
      "[zn2(bpdc)2(bpee)] ; [Zn2(bpdc)2(bpee)]\n"
     ]
    }
   ],
   "source": [
    "#zn2bpdc2bpee\n",
    "#zn2bpdc2bpee*2dmf\n",
    "\n",
    "for synonym in synonyms:\n",
    "    name = synonym.lower()\n",
    "    if 'zn2' in name and 'bpdc' in name and 'bpee' in name:\n",
    "        print(name, ';', synonym)"
   ]
  },
  {
   "cell_type": "code",
   "execution_count": 249,
   "metadata": {
    "scrolled": true
   },
   "outputs": [
    {
     "name": "stdout",
     "output_type": "stream",
     "text": [
      "c112h120cl4eu2n18o21zn2 ; C112H120Cl4Eu2N18O21Zn2\n",
      "c36h22n6o9zn2li0.10 ; C36H22N6O9Zn2Li0.10\n",
      "c36h24n6o10zn2li0.70 ; C36H24N6O10Zn2Li0.70\n",
      "c48h24n4o12li0.06zn2 ; C48H24N4O12Li0.06Zn2\n",
      "c48h24n4o12zn2li0.06*2h2o ; C48H24N4O12Zn2Li0.06*2H2O\n",
      "c49.25h25.25cl3.75n4o12zn2 ; C49.25H25.25Cl3.75N4O12Zn2\n",
      "cl-zn2-cbtacn ; Cl-Zn2-CBTACN\n",
      "zn2(bdc)(l-lac)(dmf).dmf ; Zn2(bdc)(L-lac)(dmf).DMF\n",
      "zn2(l)(oba)2*2dmf*2h2o ; Zn2(L)(oba)2*2DMF*2H2O\n",
      "zn2(ndc)2(dipyni)-li ; Zn2(NDC)2(diPyNI)-Li\n",
      "zn27ndc_block ; Zn27NDC_block\n",
      "zn2l ; Zn2L\n",
      "zn2l2l'-2 ; Zn2L2L'-2\n",
      "zn2l2l'-3 ; Zn2L2L'-3\n",
      "zn2l2l'-4 ; Zn2L2L'-4\n",
      "zn2l2l'-5 ; Zn2L2L'-5\n",
      "[zn2(bdc)(s-lac)(dmf)] ; [Zn2(bdc)(S-lac)(dmf)]\n",
      "[zn2(bdc-cl2)2(dabco)]n ; [Zn2(bdc-Cl2)2(dabco)]n\n",
      "[zn2(hfipbb)(li2hfipbb)0.5] ; [Zn2(hfipbb)(Li2hfipbb)0.5]\n",
      "[zn2(l)(btc)(hbtc)][nh2(ch3)2]*(dmf)2(h2o)4 ; [Zn2(L)(btc)(Hbtc)][NH2(CH3)2]*(DMF)2(H2O)4\n",
      "[zn2(l)] ; [Zn2(L)]\n",
      "[zn2(l1)2(dabco)]n ; [Zn2(L1)2(dabco)]n\n",
      "[zn2(l2)2(dabco)]n ; [Zn2(L2)2(dabco)]n\n",
      "[zn2(l4)2(dabco)]n ; [Zn2(L4)2(dabco)]n\n",
      "[zn2(tdc)2(bipy-ethylsulfide)] ; [Zn2(TDC)2(BiPy-ethylsulfide)]\n",
      "[zn2-(tdc)2(bipy-olefin)] ; [Zn2-(TDC)2(BiPy-olefin)]\n",
      "[zn2l(dpe)] 2.5dmf 2h2o ; [Zn2L(DPE)] 2.5DMF 2H2O\n",
      "{[zn2(bpdc)2(azpy)]*2h2o*2dmf}n nanoscale ; {[Zn2(bpdc)2(azpy)]*2H2O*2DMF}n Nanoscale\n",
      "{[zn2(l)(oh)]*2dmf*h2o}n ; {[Zn2(L)(OH)]*2DMF*H2O}n\n"
     ]
    }
   ],
   "source": [
    "#zn2l\n",
    "for synonym in synonyms:\n",
    "    name = synonym.lower()\n",
    "    if 'zn2' in name and 'l' in name:\n",
    "        print(name, ';', synonym)"
   ]
  },
  {
   "cell_type": "code",
   "execution_count": 250,
   "metadata": {},
   "outputs": [
    {
     "name": "stdout",
     "output_type": "stream",
     "text": [
      "zn3(tcpb)2*2h2o]*2h2o*4dmf ; Zn3(TCPB)2*2H2O]*2H2O*4DMF\n",
      "[zn3(tcpb)2*2h2o]*2h2o*4dmf ; [Zn3(TCPB)2*2H2O]*2H2O*4DMF\n"
     ]
    }
   ],
   "source": [
    "#zn3tcpb2*2h2o*2h2o*4dmf\n",
    "for synonym in synonyms:\n",
    "    name = synonym.lower()\n",
    "    if 'zn' in name and '2h2o' in name and '4dmf' in name:\n",
    "        print(name, ';', synonym)"
   ]
  },
  {
   "cell_type": "code",
   "execution_count": 251,
   "metadata": {
    "scrolled": true
   },
   "outputs": [
    {
     "name": "stdout",
     "output_type": "stream",
     "text": [
      "([co@zn3(l)(h2l)(dmf)(dabco)] ; ([Co@Zn3(L)(H2L)(DMF)(DABCO)]\n",
      "([cozn3(l)(h2l)(dmf)(dabco)] ; ([CoZn3(L)(H2L)(DMF)(DABCO)]\n",
      "([triangle co@zn3(l)(h2l)(dmf)(dabco)] ; ([triangle Co@Zn3(L)(H2L)(DMF)(DABCO)]\n",
      "([zn3(l)(h2l)(dmf)(dabco)] ; ([Zn3(L)(H2L)(DMF)(DABCO)]\n",
      "([zn4(dmf)(ur)2(ndc)4]) ; ([Zn4(dmf)(ur)2(ndc)4])\n",
      "activated {[zn4(bpydb)3(datz)2(h2o)](dmf)4(etoh)5(h2o)8}n ; activated {[Zn4(bpydb)3(datz)2(H2O)](DMF)4(EtOH)5(H2O)8}n\n",
      "zn(bdc)(dabco)0.5*(dmf)2(h2o) ; Zn(BDC)(DABCO)0.5*(DMF)2(H2O)\n",
      "zn(l)(hip)*(dmf)(h2o) ; Zn(L)(hip)*(DMF)(H2O)\n",
      "zn(l)(ip)*(dmf)(h2o)1.5 ; Zn(L)(ip)*(DMF)(H2O)1.5\n",
      "zn(l)(nip)*(dmf)0.5(h2o)0.5 ; Zn(L)(nip)*(DMF)0.5(H2O)0.5\n",
      "zn(l)(tdca)*1.5dmf ; Zn(L)(tdca)*1.5DMF\n",
      "zn2(bdc)(l-lac)(dmf).dmf ; Zn2(bdc)(L-lac)(dmf).DMF\n",
      "zn2(bpdc)2(bpee)*2dmf ; Zn2(BPDC)2(BPEE)*2DMF\n",
      "zn2(bpdc)2(bpee)]*2dmf ; Zn2(bpdc)2(bpee)]*2DMF\n",
      "zn2(l)(oba)2*2dmf*2h2o ; Zn2(L)(oba)2*2DMF*2H2O\n",
      "zn3(bdc)3[cu(pyen)]*(dmf)5(h2o)5 ; Zn3(BDC)3[Cu(Pyen)]*(DMF)5(H2O)5\n",
      "zn3(bdc)3[cu(salpycy)]*5dmf*4h2o desolvated ; Zn3(BDC)3[Cu(SalPyCy)]*5DMF*4H2O Desolvated\n",
      "zn3(cdc)3[cu(salpycy)]*5dmf*4h2o desolvated ; Zn3(CDC)3[Cu(SalPyCy)]*5DMF*4H2O Desolvated\n",
      "zn3(tcpb)2*2h2o]*2h2o*4dmf ; Zn3(TCPB)2*2H2O]*2H2O*4DMF\n",
      "zn3l3(dmf)2 ; Zn3L3(DMF)2\n",
      "zn4(pydc)4-(dmf)2-3dmf ; Zn4(pydc)4-(DMF)2-3DMF\n",
      "zn4o*h2o*dmf ; Zn4O*H2O*DMF\n",
      "zn4ol3(dmf)(chcl3) ; Zn4OL3(DMF)(CHCl3)\n",
      "zn5(oh)4(bdc)3*2dmf ; Zn5(OH)4(BDC)3*2DMF\n",
      "[(ch3)2nh2]2[zn(tatat)2/3]3dmfh2o ; [(CH3)2NH2]2[Zn(TATAT)2/3]3DMFH2O\n",
      "[(ch3)2nh2][zn3(datrz)(bdc)3]*xdmf ; [(CH3)2NH2][Zn3(DATRZ)(BDC)3]*xDMF\n",
      "[h2n(ch3)2][zn3(tatb)2-(hcoo)]*hn(ch3)2*3dmf*3h2o ; [H2N(CH3)2][Zn3(TATB)2-(HCOO)]*HN(CH3)2*3DMF*3H2O\n",
      "[hdma]2-[zn2(bdc)3(dma)2]*6dmf ; [HDMA]2-[Zn2(BDC)3(DMA)2]*6DMF\n",
      "[nh2(ch3)2][zn3(4-pca)3(ade)].10dmf.8h2o ; [NH2(CH3)2][Zn3(4-Pca)3(ade)].10DMF.8H2O\n",
      "[zn(bdc)(ted)0.5]*2dmf*0.2h2o ; [Zn(bdc)(ted)0.5]*2DMF*0.2H2O\n",
      "[zn(l)].4dmf-a ; [Zn(L)].4DMF-a\n",
      "[zn2(bcta)(dipy)(mu2-oh)]*2dmf*h2o ; [Zn2(bcta)(dipy)(mu2-OH)]*2DMF*H2O\n",
      "[zn2(bdc)(s-lac)(dmf)] ; [Zn2(bdc)(S-lac)(dmf)]\n",
      "[zn2(bpdc)2(bpee)*2dmf] ; [Zn2(bpdc)2(bpee)*2DMF]\n",
      "[zn2(bpdc)2bpe]-2dmf ; [Zn2(bpdc)2bpe]-2DMF\n",
      "[zn2(ip)2(bpy)2]*dmf}n ; [Zn2(ip)2(bpy)2]*DMF}n\n",
      "[zn2(l)(btc)(hbtc)][nh2(ch3)2]*(dmf)2(h2o)4 ; [Zn2(L)(btc)(Hbtc)][NH2(CH3)2]*(DMF)2(H2O)4\n",
      "[zn2(ndc)2(bpe)]*2.5dmf*0.25h2o ; [Zn2(ndc)2(bpe)]*2.5DMF*0.25H2O\n",
      "[zn2(obb)2(bpy)]*dmf ; [Zn2(obb)2(bpy)]*DMF\n",
      "[zn2(pnta)3(oh)]*2dmf ; [Zn2(pnta)3(OH)]*2DMF\n",
      "[zn2(tzba)(dmf)]*0.5dm ; [Zn2(tzba)(DMF)]*0.5DM\n",
      "[zn2l(dpe)] 2.5dmf 2h2o ; [Zn2L(DPE)] 2.5DMF 2H2O\n",
      "[zn3(bpdc)3bpy]*4dmf*h2o ; [Zn3(bpdc)3bpy]*4DMF*H2O\n",
      "[zn3(tcpb)2*2h2o]*2h2o*4dmf ; [Zn3(TCPB)2*2H2O]*2H2O*4DMF\n",
      "[zn3l2(hcoo)1.5][(ch3)2nh2]1.5 xdmf ; [Zn3L2(HCOO)1.5][(CH3)2NH2]1.5 xDMF\n",
      "[zn4(dmf)(ur)2(ndc)4] ; [Zn4(dmf)(ur)2(ndc)4]\n",
      "[zn4(o)(mip)3(dmf)2]*3(dmf)*(h2o) ; [Zn4(O)(mip)3(DMF)2]*3(DMF)*(H2O)\n",
      "[zn4o(bdc)(bpz)2]*4dmf*6h2o ; [Zn4O(bdc)(bpz)2]*4DMF*6H2O\n",
      "[zn4o(me4bpdc)3]*9dmf ; [Zn4O(Me4BPDC)3]*9DMF\n",
      "[zn5(mu3-o)2(bpdc)4(dmf)2(etoh)2]*3(dmf)*3(etoh)*5(h2o) ; [Zn5(mu3-O)2(bpdc)4(DMF)2(EtOH)2]*3(DMF)*3(EtOH)*5(H2O)\n",
      "[zn5(mu3-oh)4l2]*7h2o*dmf ; [Zn5(mu3-OH)4L2]*7H2O*DMF\n",
      "[zn7o2(pda)5(h2o)2]*5dmf*4etoh*6h2o ; [Zn7O2(pda)5(H2O)2]*5DMF*4EtOH*6H2O\n",
      "[zn9(me2bta)12(no3)6*3dmf] ; [Zn9(Me2bta)12(NO3)6*3DMF]\n",
      "[znl(bipy)]*dmf*h2o ; [ZnL(bipy)]*DMF*H2O\n",
      "[{(zn0.25)8(o)}zn6(l)12(h2o)29(dmf)69(no3)2] ; [{(Zn0.25)8(O)}Zn6(L)12(H2O)29(DMF)69(NO3)2]\n",
      "{zn(l1)] dmf) infinity ; {Zn(L1)] DMF) infinity\n",
      "{[zn(inaip)(dmf)]*0.5dmf*4h2o}n ; {[Zn(INAIP)(DMF)]*0.5DMF*4H2O}n\n",
      "{[zn(no2-ip)(dpndi)]*(dmf)1.5(meoh)1.5 ; {[Zn(NO2-ip)(dpndi)]*(DMF)1.5(MeOH)1.5\n",
      "{[zn(no2-ip)-(bpy)]*(dmf)0.5(meoh)0.5} ; {[Zn(NO2-ip)-(bpy)]*(DMF)0.5(MeOH)0.5}\n",
      "{[zn2(bpdc)2(azpy)]*2h2o*2dmf}n ; {[Zn2(bpdc)2(azpy)]*2H2O*2DMF}n\n",
      "{[zn2(bpdc)2(azpy)]*2h2o*2dmf}n nanoscale ; {[Zn2(bpdc)2(azpy)]*2H2O*2DMF}n Nanoscale\n",
      "{[zn2(l)(oh)]*2dmf*h2o}n ; {[Zn2(L)(OH)]*2DMF*H2O}n\n",
      "{[zn2(mtb)(h2o)2]*3h2o*3dmf}n ; {[Zn2(MTB)(H2O)2]*3H2O*3DMF}n\n",
      "{[zn3(dllac)2(pybz)2]*2.5dmf}n ; {[Zn3(DLlac)2(pybz)2]*2.5DMF}n\n",
      "{[zn3(l)3(dpb)1.5]-6dmf-h20}n ; {[Zn3(L)3(DPB)1.5]-6DMF-H20}n\n",
      "{[zn3(ptp)3](dmf)2-(h2o)} ; {[Zn3(ptp)3](DMF)2-(H2O)}\n",
      "{[zn4(bdc)4(bpda)4]*5dmf*3h2o} ; {[Zn4(BDC)4(BPDA)4]*5DMF*3H2O}\n",
      "{[zn4(bpydb)3(datz)2(h2o)](dmf)4(etoh)5(h2o)8}n ; {[Zn4(bpydb)3(datz)2(H2O)](DMF)4(EtOH)5(H2O)8}n\n",
      "{[zn4o(bfbpdc)3-(bpy)0.5(h2o)]*(3dmf)(h2o)}n ; {[Zn4O(bfbpdc)3-(bpy)0.5(H2O)]*(3DMF)(H2O)}n\n",
      "{[zn4o(l)3(dmf)2] xg}n ; {[Zn4O(L)3(DMF)2] xG}n\n",
      "{[znl(hco2)(h2o)]*dmf} ; {[ZnL(HCO2)(H2O)]*DMF}\n",
      "{[znl(hco2)]*dmf*h2o} ; {[ZnL(HCO2)]*DMF*H2O}\n"
     ]
    }
   ],
   "source": [
    "#zn4dmfur2ndc4\n",
    "\n",
    "#([co@zn3(l)(h2l)(dmf)(dabco)] ; ([Co@Zn3(L)(H2L)(DMF)(DABCO)]\n",
    "#([cozn3(l)(h2l)(dmf)(dabco)] ; ([CoZn3(L)(H2L)(DMF)(DABCO)]\n",
    "\n",
    "#{[znl(hco2)(h2o)]*dmf} ; {[ZnL(HCO2)(H2O)]*DMF}\n",
    "#{[znl(hco2)]*dmf*h2o} ; {[ZnL(HCO2)]*DMF*H2O}\n",
    "\n",
    "#{[zn2(bpdc)2(azpy)]*2h2o*2dmf}n ; {[Zn2(bpdc)2(azpy)]*2H2O*2DMF}n\n",
    "#{[zn2(bpdc)2(azpy)]*2h2o*2dmf}n nanoscale ; {[Zn2(bpdc)2(azpy)]*2H2O*2DMF}n Nanoscale\n",
    "\n",
    "#Maybe?\n",
    "#zn3(bdc)3[cu(salpycy)]*5dmf*4h2o desolvated ; Zn3(BDC)3[Cu(SalPyCy)]*5DMF*4H2O Desolvated\n",
    "#zn3(cdc)3[cu(salpycy)]*5dmf*4h2o desolvated ; Zn3(CDC)3[Cu(SalPyCy)]*5DMF*4H2O Desolvated\n",
    "\n",
    "for synonym in synonyms:\n",
    "    name = synonym.lower()\n",
    "    if 'zn' in name and 'dmf' in name:\n",
    "        print(name, ';', synonym)"
   ]
  },
  {
   "cell_type": "code",
   "execution_count": 253,
   "metadata": {},
   "outputs": [
    {
     "name": "stdout",
     "output_type": "stream",
     "text": [
      "zn3(oh)2(dmcapz)2 ; Zn3(OH)2(dmcapz)2\n",
      "zn4o(dmcapz)3 ; Zn4O(dmcapz)3\n",
      "zn4o(dmcapz)3]n ; Zn4O(dmcapz)3]n\n",
      "[zn4o(dmcapz)3]n ; [Zn4O(dmcapz)3]n\n",
      "[zn4o(mecapz)3]n on [zn4o(dmcapz)3]n ; [Zn4O(mecapz)3]n on [Zn4O(dmcapz)3]n\n",
      "[zn4o(mipcapz)3]n on [zn4o(dmcapz)3]n ; [Zn4O(mipcapz)3]n on [Zn4O(dmcapz)3]n\n",
      "[zn4o(mpcapz)3]n on [zn4o(dmcapz)3]n ; [Zn4O(mpcapz)3]n on [Zn4O(dmcapz)3]n\n"
     ]
    }
   ],
   "source": [
    "#zn4odmcapz3n\n",
    "for synonym in synonyms:\n",
    "    name = synonym.lower()\n",
    "    if 'zn' in name and 'dmcapz' in name:\n",
    "        print(name, ';', synonym)"
   ]
  },
  {
   "cell_type": "code",
   "execution_count": 254,
   "metadata": {
    "scrolled": true
   },
   "outputs": [
    {
     "name": "stdout",
     "output_type": "stream",
     "text": [
      "(licl)[zn(bdc)(ted)0.5] ; (LiCl)[Zn(bdc)(ted)0.5]\n",
      "(licl)[zn(bdc)(ted)0.5] t=100 sec ; (LiCl)[Zn(bdc)(ted)0.5] t=100 sec\n",
      "(licl)[zn(bdc)(ted)0.5] t=15 sec ; (LiCl)[Zn(bdc)(ted)0.5] t=15 sec\n",
      "(zn4o)3(bdc-nh2)3(btb)4 ; (Zn4O)3(BDC-NH2)3(BTB)4\n",
      "(zn4o)3[(bdc-c6h5n2pd(oac)2]3(btb)4 ; (Zn4O)3[(BDC-C6H5N2Pd(OAc)2]3(BTB)4\n",
      "busulfan@zn(no2-bdc)(dmbpy).5](c2h6o)(h2o)-a ; Busulfan@Zn(NO2-BDC)(dmbpy).5](C2H6O)(H2O)-a\n",
      "f zn4o(tpb)4/3(bdc) ; f Zn4O(TPB)4/3(BDC)\n",
      "ibu/zn2(bdc)2(dabco) ; IBU/Zn2(bdc)2(dabco)\n",
      "pd/activated carbon@zn2(bdc)2dabco ; Pd/Activated Carbon@Zn2(bdc)2dabco\n",
      "pt/activated carbon@zn2(bdc)2dabco ; Pt/Activated Carbon@Zn2(bdc)2dabco\n",
      "zn(bdc) ; Zn(BDC)\n",
      "zn(bdc)(bpy) 0.5 ; Zn(BDC)(BPY) 0.5\n",
      "zn(bdc)(dabco) ; Zn(bdc)(dabco)\n",
      "zn(bdc)dabco ; Zn(bdc)dabco\n",
      "zn(bdc)(dabco)0.5 ; Zn(BDC)(DABCO)0.5\n",
      "mof zn(bdc)(dabco)0.5 ; MOF Zn(BDC)(Dabco)0.5\n",
      "zn(bdc)-(dabco)0.5 ; Zn(BDC)-(Dabco)0.5\n",
      "zn(bdc)(dabco)0.5*(dmf)2(h2o) ; Zn(BDC)(DABCO)0.5*(DMF)2(H2O)\n",
      "zn(bdc)(dmbpy) 0.5 ; Zn(BDC)(DMBPY) 0.5\n",
      "zn(bdc)(ted) ; Zn(BDC)(TED)\n",
      "zn(bdc)(ted)0.5 ; Zn(bdc)(ted)0.5\n",
      "zn(bdc)(ted)0.5 t=100 sec ; Zn(bdc)(ted)0.5 t=100 sec\n",
      "zn(bdc)(ted)0.5 t=15 sec ; Zn(bdc)(ted)0.5 t=15 sec\n",
      "zn(no2-bdc)(dmbpy).5](c2h6o)(h2o)-a ; Zn(NO2-BDC)(dmbpy).5](C2H6O)(H2O)-a\n",
      "zn(no2-bdc)(dmbpy).5](c2h6o)(h2o)-a in water for 30 days ; Zn(NO2-BDC)(dmbpy).5](C2H6O)(H2O)-a in water for 30 days\n",
      "zn-bdc ; Zn-BDC\n",
      "zn-dobdc ; Zn-DOBDC\n",
      "zn2(bdc)(l-lac)(dmf).dmf ; Zn2(bdc)(L-lac)(dmf).DMF\n",
      "zn2(bdc)2(dabco) ; Zn2(bdc)2(dabco)\n",
      "zn2(bdc)2(ted) ; Zn2(BDC)2(TED)\n",
      "[zn2(bdc)2(ted)] ; [Zn2(bdc)2(ted)]\n",
      "[zn2(bdc)2(ted)]n ; [Zn2(bdc)2(ted)]n\n",
      "zn2(bdc)2dabco ; Zn2(bdc)2dabco\n",
      "zn2(dobdc) ; Zn2(dobdc)\n",
      "zn2(tmbdc)2(bpy) ; Zn2(tmbdc)2(bpy)\n",
      "zn2bdc2ted ; Zn2BDC2TED\n",
      "zn3(bdc)3[cu(pyen)]*(dmf)5(h2o)5 ; Zn3(BDC)3[Cu(Pyen)]*(DMF)5(H2O)5\n",
      "zn3(bdc)3[cu(salpycy)]*5dmf*4h2o desolvated ; Zn3(BDC)3[Cu(SalPyCy)]*5DMF*4H2O Desolvated\n",
      "zn3(oh)2(bdc)2*2def ; Zn3(OH)2(bdc)2*2DEF\n",
      "zn4o(bdc)(bpz)2 ; Zn4O(bdc)(bpz)2\n",
      "zn4o(bdc)3 ; Zn4O(BDC)3\n",
      "zn4o(bdc)x-(abdc)3-x ; Zn4O(BDC)X-(ABDC)3-X\n",
      "zn4o-[(bdc)cr(co)3]3 ; Zn4O-[(BDC)Cr(CO)3]3\n",
      "zn5(oh)4(bdc)3*2dmf ; Zn5(OH)4(BDC)3*2DMF\n",
      "[(ch3)2nh2][zn3(datrz)(bdc)3]*xdmf ; [(CH3)2NH2][Zn3(DATRZ)(BDC)3]*xDMF\n",
      "[hdma]2-[zn2(bdc)3(dma)2]*6dmf ; [HDMA]2-[Zn2(BDC)3(DMA)2]*6DMF\n",
      "[zn(atz)(bdc)0.5] ; [Zn(atz)(bdc)0.5]\n",
      "[zn(bdc)(bphy)] ; [Zn(bdc)(bphy)]\n",
      "[zn(bdc)(h2o)2]n ; [Zn(BDC)(H2O)2]n\n",
      "[zn(bdc)(ted)0.5] ; [Zn(bdc)(ted)0.5]\n",
      "[zn(bdc)(ted)0.5]*2dmf*0.2h2o ; [Zn(bdc)(ted)0.5]*2DMF*0.2H2O\n",
      "[zn(bdc-nh2).(ted)0.5] ; [Zn(BDC-NH2).(TED)0.5]\n",
      "[zn(bdc-oh)-(ted)0.5] ; [Zn(BDC-OH)-(TED)0.5]\n",
      "[zn(dpe)(bdc)]*4h2o ; [Zn(dpe)(bdc)]*4H2O\n",
      "[zn(no2-bdc)(dmbpy).5](c2h6o)(h2o) ; [Zn(NO2-BDC)(dmbpy).5](C2H6O)(H2O)\n",
      "[zn2(bdc)(s-lac)(dmf)] ; [Zn2(bdc)(S-lac)(dmf)]\n",
      "[zn2(bdc)2(bphy)] ; [Zn2(bdc)2(bphy)]\n",
      "[zn2(bdc)2(dabco)] ; [Zn2(bdc)2(dabco)]\n",
      "[zn2(bdc)2(dabco)]n ; [Zn2(bdc)2(dabco)]n\n",
      "[zn2(bdc)2(ted)]n/pst ; [Zn2(bdc)2(ted)]n/PSt\n",
      "[zn2(bdc)2ted]n ; [Zn2(bdc)2ted]n\n",
      "[zn2(bdc)2ted]n.pst ; [Zn2(bdc)2ted]n.pst\n",
      "[zn2(bdc-(no2)2)2(dabco)] ; [Zn2(bdc-(NO2)2)2(dabco)]\n",
      "[zn2(bdc-br)2(dabco)]n ; [Zn2(bdc-Br)2(dabco)]n\n",
      "[zn2(bdc-cl2)2(dabco)]n ; [Zn2(bdc-Cl2)2(dabco)]n\n",
      "[zn2(bdc-no2)2(dabco)]n ; [Zn2(bdc-NO2)2(dabco)]n\n",
      "[zn2(bme-bdc)2(dabco)] ; [Zn2(BME-bdc)2(dabco)]\n",
      "[zn2(bme-bdc)x(db-bdc)2-xdabco] ; [Zn2(BME-bdc)x(DB-bdc)2-xdabco]\n",
      "[zn2(bme-bdc)x(db-bdc)2-xdabco]n ; [Zn2(BME-bdc)x(DB-bdc)2-xdabco]n\n",
      "[zn2(fu-bdc)2(dabco)]n ; [Zn2(fu-bdc)2(dabco)]n\n",
      "[zn4o(bdc)(bpz)2]*4dmf*6h2o ; [Zn4O(bdc)(bpz)2]*4DMF*6H2O\n",
      "{li2[zn3(bdc)4]} ; {Li2[Zn3(BDC)4]}\n",
      "{zn2(bdc)2-(dabco)}n ; {Zn2(bdc)2-(dabco)}n\n",
      "{[hdma]2[zn3(bdc)4]} ; {[HDMA]2[Zn3(BDC)4]}\n",
      "{[zn2(oh)(azpy)(bdc)1.5]*h2o}n ; {[Zn2(OH)(AZPY)(BDC)1.5]*H2O}n\n",
      "{[zn4(bdc)4(bpda)4]*5dmf*3h2o} ; {[Zn4(BDC)4(BPDA)4]*5DMF*3H2O}\n"
     ]
    }
   ],
   "source": [
    "#znbdc\n",
    "#znbdcdabco\n",
    "#znbdcdabco0.5\n",
    "#znbdcted0.5\n",
    "\n",
    "for synonym in synonyms:\n",
    "    name = synonym.lower()\n",
    "    if 'zn' in name and 'bdc' in name:\n",
    "        print(name, ';', synonym)"
   ]
  },
  {
   "cell_type": "code",
   "execution_count": 256,
   "metadata": {
    "scrolled": true
   },
   "outputs": [
    {
     "name": "stdout",
     "output_type": "stream",
     "text": [
      "([co@zn3(l)(h2l)(dmf)(dabco)] ; ([Co@Zn3(L)(H2L)(DMF)(DABCO)]\n",
      "([cozn3(l)(h2l)(dmf)(dabco)] ; ([CoZn3(L)(H2L)(DMF)(DABCO)]\n",
      "([triangle co@zn3(l)(h2l)(dmf)(dabco)] ; ([triangle Co@Zn3(L)(H2L)(DMF)(DABCO)]\n",
      "([zn3(l)(h2l)(dmf)(dabco)] ; ([Zn3(L)(H2L)(DMF)(DABCO)]\n",
      "ibu/zn2(bdc)2(dabco) ; IBU/Zn2(bdc)2(dabco)\n",
      "pd/activated carbon@zn2(bdc)2dabco ; Pd/Activated Carbon@Zn2(bdc)2dabco\n",
      "pt/activated carbon@zn2(bdc)2dabco ; Pt/Activated Carbon@Zn2(bdc)2dabco\n",
      "zn(bdc)(dabco) ; Zn(bdc)(dabco)\n",
      "zn(bdc)dabco ; Zn(bdc)dabco\n",
      "zn(bdc)(dabco)0.5 ; Zn(BDC)(DABCO)0.5\n",
      "mof zn(bdc)(dabco)0.5 ; MOF Zn(BDC)(Dabco)0.5\n",
      "zn(bdc)-(dabco)0.5 ; Zn(BDC)-(Dabco)0.5\n",
      "zn(bdc)(dabco)0.5*(dmf)2(h2o) ; Zn(BDC)(DABCO)0.5*(DMF)2(H2O)\n",
      "zn-dabco ; Zn-DABCO\n",
      "zn2(bdc)2(dabco) ; Zn2(bdc)2(dabco)\n",
      "zn2(bdc)2dabco ; Zn2(bdc)2dabco\n",
      "zn26ndc_dabco ; Zn26NDC_dabco\n",
      "zndabco ; ZnDABCO\n",
      "[zn2(adc)2(dabco)]n ; [Zn2(adc)2(dabco)]n\n",
      "[zn2(bdc)2(dabco)] ; [Zn2(bdc)2(dabco)]\n",
      "[zn2(bdc)2(dabco)]n ; [Zn2(bdc)2(dabco)]n\n",
      "[zn2(bdc-(no2)2)2(dabco)] ; [Zn2(bdc-(NO2)2)2(dabco)]\n",
      "[zn2(bdc-br)2(dabco)]n ; [Zn2(bdc-Br)2(dabco)]n\n",
      "[zn2(bdc-cl2)2(dabco)]n ; [Zn2(bdc-Cl2)2(dabco)]n\n",
      "[zn2(bdc-no2)2(dabco)]n ; [Zn2(bdc-NO2)2(dabco)]n\n",
      "[zn2(bme-bdc)2(dabco)] ; [Zn2(BME-bdc)2(dabco)]\n",
      "[zn2(bme-bdc)x(db-bdc)2-xdabco] ; [Zn2(BME-bdc)x(DB-bdc)2-xdabco]\n",
      "[zn2(bme-bdc)x(db-bdc)2-xdabco]n ; [Zn2(BME-bdc)x(DB-bdc)2-xdabco]n\n",
      "[zn2(fu-bdc)2(dabco)]n ; [Zn2(fu-bdc)2(dabco)]n\n",
      "[zn2(l1)2(dabco)]n ; [Zn2(L1)2(dabco)]n\n",
      "[zn2(l2)2(dabco)]n ; [Zn2(L2)2(dabco)]n\n",
      "[zn2(l4)2(dabco)]n ; [Zn2(L4)2(dabco)]n\n",
      "[zn2(ndc)2(dabco)]n ; [Zn2(ndc)2(dabco)]n\n",
      "{zn2(adc)2(dabco)}n ; {Zn2(adc)2(dabco)}n\n",
      "{zn2(bdc)2-(dabco)}n ; {Zn2(bdc)2-(dabco)}n\n"
     ]
    }
   ],
   "source": [
    "#zndabco\n",
    "for synonym in synonyms:\n",
    "    name = synonym.lower()\n",
    "    if 'zn' in name and 'dabco' in name:\n",
    "        print(name, ';', synonym)"
   ]
  },
  {
   "cell_type": "code",
   "execution_count": 257,
   "metadata": {},
   "outputs": [
    {
     "name": "stdout",
     "output_type": "stream",
     "text": [
      "co50zn-mof-74 ; Co50Zn-MOF-74\n",
      "mof-74-zn ; MOF-74-Zn\n",
      "zn-mof-74 ; Zn-MOF-74\n",
      "zn-mof-74 (bss) ; Zn-MOF-74 (BSS)\n",
      "zn-mof-74 (bssp) ; Zn-MOF-74 (BSSP)\n",
      "zn-mof-74 (buch) ; Zn-MOF-74 (Buch)\n",
      "zn-mof-74 (dl) ; Zn-MOF-74 (DL)\n",
      "zn-mof-74(cycle 1) ; Zn-MOF-74(cycle 1)\n",
      "zn-mof-74(cycle 2) ; Zn-MOF-74(cycle 2)\n",
      "zn-mof-74(cycle 3) ; Zn-MOF-74(cycle 3)\n",
      "zn-mof-74(cycle 4) ; Zn-MOF-74(cycle 4)\n",
      "zn-mof-74(cycle 5) ; Zn-MOF-74(cycle 5)\n",
      "zn-mof-74/0.25 ; Zn-MOF-74/0.25\n",
      "zn-mof-74/1 ; Zn-MOF-74/1\n",
      "zn-mof-74/18 ; Zn-MOF-74/18\n",
      "zn-mof-74/18-dma ; Zn-MOF-74/18-DMA\n",
      "zn-mof-74/18-nmp ; Zn-MOF-74/18-NMP\n",
      "zn-mof-74/24 ; Zn-MOF-74/24\n",
      "zn-mof-74/240 ; Zn-MOF-74/240\n",
      "znmof-74 ; ZnMOF-74\n"
     ]
    }
   ],
   "source": [
    "#znmof74 and mof74zn\n",
    "for synonym in synonyms:\n",
    "    name = synonym.lower()\n",
    "    if 'zn' in name and 'mof' in name and '74' in name:\n",
    "        print(name, ';', synonym)"
   ]
  },
  {
   "cell_type": "code",
   "execution_count": 258,
   "metadata": {},
   "outputs": [
    {
     "name": "stdout",
     "output_type": "stream",
     "text": [
      "zn(tbip) ; Zn(tbip)\n",
      "[zn(tbip)] ; [Zn(tbip)]\n"
     ]
    }
   ],
   "source": [
    "#zntbip\n",
    "for synonym in synonyms:\n",
    "    name = synonym.lower()\n",
    "    if 'zn' in name and 'tbip' in name:\n",
    "        print(name, ';', synonym)"
   ]
  },
  {
   "cell_type": "code",
   "execution_count": null,
   "metadata": {},
   "outputs": [],
   "source": []
  }
 ],
 "metadata": {
  "kernelspec": {
   "display_name": "Python 3",
   "language": "python",
   "name": "python3"
  },
  "language_info": {
   "codemirror_mode": {
    "name": "ipython",
    "version": 3
   },
   "file_extension": ".py",
   "mimetype": "text/x-python",
   "name": "python",
   "nbconvert_exporter": "python",
   "pygments_lexer": "ipython3",
   "version": "3.6.4"
  }
 },
 "nbformat": 4,
 "nbformat_minor": 2
}
